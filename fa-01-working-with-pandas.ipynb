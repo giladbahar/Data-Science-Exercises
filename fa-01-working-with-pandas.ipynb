{
 "cells": [
  {
   "cell_type": "markdown",
   "metadata": {
    "deletable": false,
    "editable": false,
    "nbgrader": {
     "grade": false,
     "locked": true,
     "solution": false
    }
   },
   "source": [
    "![Final Lesson Exercise](images/Banner_FEX.png)"
   ]
  },
  {
   "cell_type": "markdown",
   "metadata": {
    "deletable": false,
    "editable": false,
    "nbgrader": {
     "grade": false,
     "locked": true,
     "solution": false
    }
   },
   "source": [
    "# Lesson #1: Introduction to Data Science\n",
    "## Good chocolate - The 'flavors of cacao' dataset"
   ]
  },
  {
   "cell_type": "markdown",
   "metadata": {
    "deletable": false,
    "editable": false,
    "nbgrader": {
     "grade": false,
     "locked": true,
     "solution": false
    }
   },
   "source": [
    "<table  align='left' valign=\"top\"><tr>\n",
    "<td align='left'>\n",
    "    <a title='Chocolate and cocoa beans'> <img width=\"400\" src=\"./images/a-01-dark-chocolate.jpg\" width=\"px\" align='left' /></a>\n",
    "</td>\n",
    "<td align='left' style=\"vertical-align:top\">\n",
    "<div align='left' style=\"font-size:130%\">\n",
    "<h3>Lets ask some questions:</h3>\n",
    "<ul align='left'>\n",
    "<li>What makes a chocolate good?</li>\n",
    "<li>Where does good chocolate come from?</li> \n",
    "<li>Do you know what characterizes good chocolate?</li> \n",
    "<li>Is darker chocolate better?</li>\n",
    "<li>How influential is the type of beans used?</li>\n",
    "<li>Is it the type of beans or their origin?</li>\n",
    "<li>Is the company producing it a major factor?</li>\n",
    "</ul></div></td>\n",
    "</tr>\n",
    "</table>"
   ]
  },
  {
   "cell_type": "markdown",
   "metadata": {
    "deletable": false,
    "editable": false,
    "nbgrader": {
     "grade": false,
     "locked": true,
     "solution": false
    }
   },
   "source": [
    "## About this assignment\n",
    "In this assignment, you will explore a dataset on chocolates.<br/>\n",
    "\n",
    "You will do so, using the pandas library, introduced in the lesson."
   ]
  },
  {
   "cell_type": "markdown",
   "metadata": {},
   "source": [
    "## Preceding Step - import modules (packages)\n",
    "This step is necessary in order to use external packages. \n",
    "\n",
    "**Use the following libraries for the assignment, when needed**:"
   ]
  },
  {
   "cell_type": "code",
   "execution_count": 12,
   "metadata": {
    "collapsed": true,
    "deletable": false,
    "editable": false,
    "nbgrader": {
     "grade": false,
     "locked": true,
     "solution": false
    }
   },
   "outputs": [],
   "source": [
    "# ------------>>>>>>>> RUN THIS CODE CELL <<<<<<<<------------\n",
    "# === CELL TYPE: IMPORTS AND SETUP \n",
    "\n",
    "import pandas as pd\n",
    "import os # for testing use only"
   ]
  },
  {
   "cell_type": "markdown",
   "metadata": {
    "deletable": false,
    "editable": false,
    "nbgrader": {
     "grade": false,
     "locked": true,
     "solution": false
    }
   },
   "source": [
    "### 1. Loading the 'flavors of cacao' dataset"
   ]
  },
  {
   "cell_type": "markdown",
   "metadata": {},
   "source": [
    "### Instructions\n",
    "<u>method name</u>: <b>load_csv</b>\n",
    "<pre>The following is expected:\n",
    "--- Complete the 'load_csv' function to load the 'flavors of cacao' dataset \n",
    "    from the csv, located in the file_name parameter into a pandas dataframe\n",
    "    and return the dataframe\n",
    "</pre>"
   ]
  },
  {
   "cell_type": "code",
   "execution_count": 13,
   "metadata": {
    "collapsed": true
   },
   "outputs": [],
   "source": [
    "# 1.\n",
    "# ------------>>>>>>>> RUN THIS CODE CELL <<<<<<<<------------\n",
    "# --------  (run after implementation)\n",
    "# === CODE TYPE: ANSWER \n",
    "\n",
    "def load_csv(file_name):\n",
    "        df = pd.read_csv(file_name) \n",
    "        return df\n",
    "        \n"
   ]
  },
  {
   "cell_type": "code",
   "execution_count": 14,
   "metadata": {},
   "outputs": [
    {
     "data": {
      "text/html": [
       "<div>\n",
       "<style scoped>\n",
       "    .dataframe tbody tr th:only-of-type {\n",
       "        vertical-align: middle;\n",
       "    }\n",
       "\n",
       "    .dataframe tbody tr th {\n",
       "        vertical-align: top;\n",
       "    }\n",
       "\n",
       "    .dataframe thead th {\n",
       "        text-align: right;\n",
       "    }\n",
       "</style>\n",
       "<table border=\"1\" class=\"dataframe\">\n",
       "  <thead>\n",
       "    <tr style=\"text-align: right;\">\n",
       "      <th></th>\n",
       "      <th>Company (Maker-if known)</th>\n",
       "      <th>Specific Bean Origin or Bar Name</th>\n",
       "      <th>REF</th>\n",
       "      <th>Review Date</th>\n",
       "      <th>Cocoa Percent</th>\n",
       "      <th>Company Location</th>\n",
       "      <th>Rating</th>\n",
       "      <th>Bean Type</th>\n",
       "      <th>Broad Bean Origin</th>\n",
       "    </tr>\n",
       "  </thead>\n",
       "  <tbody>\n",
       "    <tr>\n",
       "      <th>0</th>\n",
       "      <td>A. Morin</td>\n",
       "      <td>Agua Grande</td>\n",
       "      <td>1876</td>\n",
       "      <td>2016</td>\n",
       "      <td>63%</td>\n",
       "      <td>France</td>\n",
       "      <td>3.75</td>\n",
       "      <td>NaN</td>\n",
       "      <td>Sao Tome</td>\n",
       "    </tr>\n",
       "    <tr>\n",
       "      <th>1</th>\n",
       "      <td>A. Morin</td>\n",
       "      <td>Kpime</td>\n",
       "      <td>1676</td>\n",
       "      <td>2015</td>\n",
       "      <td>70%</td>\n",
       "      <td>France</td>\n",
       "      <td>2.75</td>\n",
       "      <td>NaN</td>\n",
       "      <td>Togo</td>\n",
       "    </tr>\n",
       "    <tr>\n",
       "      <th>2</th>\n",
       "      <td>A. Morin</td>\n",
       "      <td>Atsane</td>\n",
       "      <td>1676</td>\n",
       "      <td>2015</td>\n",
       "      <td>70%</td>\n",
       "      <td>France</td>\n",
       "      <td>3.00</td>\n",
       "      <td>NaN</td>\n",
       "      <td>Togo</td>\n",
       "    </tr>\n",
       "    <tr>\n",
       "      <th>3</th>\n",
       "      <td>A. Morin</td>\n",
       "      <td>Akata</td>\n",
       "      <td>1680</td>\n",
       "      <td>2015</td>\n",
       "      <td>70%</td>\n",
       "      <td>France</td>\n",
       "      <td>3.50</td>\n",
       "      <td>NaN</td>\n",
       "      <td>Togo</td>\n",
       "    </tr>\n",
       "    <tr>\n",
       "      <th>4</th>\n",
       "      <td>A. Morin</td>\n",
       "      <td>Quilla</td>\n",
       "      <td>1704</td>\n",
       "      <td>2015</td>\n",
       "      <td>70%</td>\n",
       "      <td>France</td>\n",
       "      <td>3.50</td>\n",
       "      <td>NaN</td>\n",
       "      <td>Peru</td>\n",
       "    </tr>\n",
       "  </tbody>\n",
       "</table>\n",
       "</div>"
      ],
      "text/plain": [
       "  Company (Maker-if known) Specific Bean Origin or Bar Name   REF  \\\n",
       "0                 A. Morin                      Agua Grande  1876   \n",
       "1                 A. Morin                            Kpime  1676   \n",
       "2                 A. Morin                           Atsane  1676   \n",
       "3                 A. Morin                            Akata  1680   \n",
       "4                 A. Morin                           Quilla  1704   \n",
       "\n",
       "   Review Date Cocoa Percent Company Location  Rating Bean Type  \\\n",
       "0         2016           63%           France    3.75       NaN   \n",
       "1         2015           70%           France    2.75       NaN   \n",
       "2         2015           70%           France    3.00       NaN   \n",
       "3         2015           70%           France    3.50       NaN   \n",
       "4         2015           70%           France    3.50       NaN   \n",
       "\n",
       "  Broad Bean Origin  \n",
       "0          Sao Tome  \n",
       "1              Togo  \n",
       "2              Togo  \n",
       "3              Togo  \n",
       "4              Peru  "
      ]
     },
     "execution_count": 14,
     "metadata": {},
     "output_type": "execute_result"
    }
   ],
   "source": [
    "# 1.\n",
    "# ------------>>>>>>>> RUN THIS CODE CELL <<<<<<<<------------\n",
    "# --------  (run after implementation)\n",
    "# === CODE TYPE: SELF TESTING\n",
    "# Use the following code to test your implementation:\n",
    "\n",
    "file_name = 'data' + os.sep + 'flavors_of_cacao.csv'\n",
    "df_cocoa = load_csv(file_name)\n",
    "df_cocoa.head()"
   ]
  },
  {
   "cell_type": "code",
   "execution_count": 15,
   "metadata": {
    "collapsed": true
   },
   "outputs": [],
   "source": [
    "# 1.\n",
    "# ------------>>>>>>>> RUN THIS CODE CELL <<<<<<<<------------\n",
    "# --------  (run after implementation, if used)\n",
    "# === CODE TYPE: SELF TESTING\n",
    "# Add your additional tests here if needed:\n",
    "\n",
    "###\n",
    "### YOUR CODE HERE\n",
    "###\n"
   ]
  },
  {
   "cell_type": "code",
   "execution_count": 16,
   "metadata": {
    "deletable": false,
    "editable": false,
    "nbgrader": {
     "grade": true,
     "grade_id": "test-1_1-load-csv",
     "locked": true,
     "points": "0.2",
     "solution": false
    }
   },
   "outputs": [
    {
     "name": "stdout",
     "output_type": "stream",
     "text": [
      "Part 1 - Test 1 (0.2 points) - Sanity\n",
      "\t--->Testing the implementation of 'load_csv' ...\n",
      "Good Job!\n",
      "You've passed the 1st test for the 'load_dataset' function implementation :-)\n"
     ]
    }
   ],
   "source": [
    "# 1.\n",
    "# ------------>>>>>>>> RUN THIS CODE CELL <<<<<<<<------------\n",
    "# --------  (run only)\n",
    "# === CODE TYPE: GRADED TEST \n",
    "\n",
    "print (\"Part 1 - Test 1 (0.2 points) - Sanity\")\n",
    "print (\"\\t--->Testing the implementation of 'load_csv' ...\")\n",
    "try:\n",
    "    file_name = 'data' + os.sep + 'flavors_of_cacao.csv'\n",
    "    df_chocolate = load_csv(file_name)\n",
    "except Exception as e:\n",
    "    print ('You probably have a syntax error, we got the following exception:')\n",
    "    print (str(e))\n",
    "\n",
    "print (\"Good Job!\\nYou've passed the 1st test for the 'load_dataset' function implementation :-)\")"
   ]
  },
  {
   "cell_type": "code",
   "execution_count": 17,
   "metadata": {
    "deletable": false,
    "editable": false,
    "nbgrader": {
     "grade": true,
     "grade_id": "test-1_2-load-csv",
     "locked": true,
     "points": "0.3",
     "solution": false
    }
   },
   "outputs": [
    {
     "name": "stdout",
     "output_type": "stream",
     "text": [
      "Part 1 - Test 2 (0.3 points)\n",
      "\t---> - Testing the implementation of 'load_csv' ...\n",
      "Good Job!\n",
      "You've passed the 2nd test for the 'load_dataset' function implementation :-)\n"
     ]
    }
   ],
   "source": [
    "# 1.\n",
    "# ------------>>>>>>>> RUN THIS CODE CELL <<<<<<<<------------\n",
    "# --------  (run only)\n",
    "# === CODE TYPE: GRADED TEST \n",
    "\n",
    "print (\"Part 1 - Test 2 (0.3 points)\")\n",
    "print (\"\\t---> - Testing the implementation of 'load_csv' ...\")\n",
    "\n",
    "try:\n",
    "    # file_name = '.' + os.sep + 'data' + os.sep + 'flavors_of_cacao.csv'\n",
    "    file_name = 'data' + os.sep + 'flavors_of_cacao.csv'\n",
    "    df_chocolate = load_csv(file_name)\n",
    "except Exception as e:\n",
    "    print ('You probably have a syntax error, we got the following exception:')\n",
    "    print (str(e))\n",
    "    \n",
    "assert df_chocolate is not None, \"You did not return an object from the 'load_csv' function, try again\"\n",
    "assert isinstance(df_chocolate, pd.DataFrame), \"The object you returned is not a dataframe, try again\"\n",
    "\n",
    "print (\"Good Job!\\nYou've passed the 2nd test for the 'load_dataset' function implementation :-)\")"
   ]
  },
  {
   "cell_type": "markdown",
   "metadata": {
    "deletable": false,
    "editable": false,
    "nbgrader": {
     "grade": false,
     "locked": true,
     "solution": false
    }
   },
   "source": [
    "### 2. Get some information about the dataset (from the dataframe)\n",
    "#### The dataset contains the following columns:\n",
    "* Company (Maker-if known) - Name of the company manufacturing the bar\n",
    "* Specific Bean Origin or Bar Name -  The specific geo-region of origin for the bar.\n",
    "* REF - reference number\n",
    "* Review Date - Year of publication of the review.\n",
    "* Cocoa Percent - Cocoa percentage (darkness) of the chocolate bar being reviewed.\n",
    "* Company Location - Manufacturer base country.\n",
    "* Rating - The rating that the experts gave (5 is the best, 1 is the worst)\n",
    "* Bean Type - The variety (breed) of bean used, if provided\n",
    "* Broad Bean Origin - The broad geo-region of origin for the bean"
   ]
  },
  {
   "cell_type": "markdown",
   "metadata": {
    "deletable": false,
    "editable": false,
    "nbgrader": {
     "grade": false,
     "locked": true,
     "solution": false
    }
   },
   "source": [
    "#### 2.a. Obtain the number of rows"
   ]
  },
  {
   "cell_type": "markdown",
   "metadata": {},
   "source": [
    "### Instructions\n",
    "<u>method name</u>: <b>get_number_of_rows</b>\n",
    "<pre>The following is expected:\n",
    "--- Complete the 'get_num_of_rows' function to return the number of rows \n",
    "    in the pandas dataframe, given in the parameter 'dataframe'\n",
    "</pre>"
   ]
  },
  {
   "cell_type": "code",
   "execution_count": 18,
   "metadata": {
    "collapsed": true
   },
   "outputs": [],
   "source": [
    "# 2.a.\n",
    "# ------------>>>>>>>> RUN THIS CODE CELL <<<<<<<<------------\n",
    "# --------  (run after implementation)\n",
    "# === CODE TYPE: ANSWER \n",
    "\n",
    "def get_number_of_rows(dataframe):\n",
    "    ###\n",
    "    ### YOUR CODE HERE\n",
    "      return dataframe.shape[0]\n",
    "    ###\n"
   ]
  },
  {
   "cell_type": "code",
   "execution_count": 19,
   "metadata": {},
   "outputs": [
    {
     "name": "stdout",
     "output_type": "stream",
     "text": [
      "Number of rows: 1795\n"
     ]
    }
   ],
   "source": [
    "# 2.a.\n",
    "# ------------>>>>>>>> RUN THIS CODE CELL <<<<<<<<------------\n",
    "# --------  (run after implementation)\n",
    "# === CODE TYPE: SELF TESTING\n",
    "# Use the following code to test your implementation:\n",
    "\n",
    "file_name = 'data' + os.sep + 'flavors_of_cacao.csv'\n",
    "df_cocoa = load_csv(file_name)\n",
    "n_rows = get_number_of_rows(df_cocoa)\n",
    "\n",
    "print(\"Number of rows:\", n_rows)\n"
   ]
  },
  {
   "cell_type": "code",
   "execution_count": 20,
   "metadata": {
    "collapsed": true
   },
   "outputs": [],
   "source": [
    "# 2.a.\n",
    "# ------------>>>>>>>> RUN THIS CODE CELL <<<<<<<<------------\n",
    "# --------  (run after implementation, if used)\n",
    "# === CODE TYPE: SELF TESTING\n",
    "# Add your additional tests here if needed:\n",
    "\n",
    "###\n",
    "### YOUR CODE HERE\n",
    "###\n"
   ]
  },
  {
   "cell_type": "code",
   "execution_count": 21,
   "metadata": {
    "deletable": false,
    "editable": false,
    "nbgrader": {
     "grade": true,
     "grade_id": "test-2a_1-row-num",
     "locked": true,
     "points": "0.2",
     "solution": false
    }
   },
   "outputs": [
    {
     "name": "stdout",
     "output_type": "stream",
     "text": [
      "Part 2.a. - Test 1 (0.2 points) - Sanity\n",
      "\t--->Testing the implementation of 'get_number_of_rows' ...\n",
      "Good Job!\n",
      "You've passed the 1st test for the 'get_number_of_rows' function implementation :-)\n"
     ]
    }
   ],
   "source": [
    "# 2.a.\n",
    "# ------------>>>>>>>> RUN THIS CODE CELL <<<<<<<<------------\n",
    "# --------  (run only)\n",
    "# === CODE TYPE: GRADED TEST \n",
    "\n",
    "print (\"Part 2.a. - Test 1 (0.2 points) - Sanity\")\n",
    "print (\"\\t--->Testing the implementation of 'get_number_of_rows' ...\")\n",
    "\n",
    "try:\n",
    "    file_name = 'data' + os.sep + 'flavors_of_cacao.csv'\n",
    "    df_chocolate = load_csv(file_name)\n",
    "    num_of_rows    = get_number_of_rows(df_chocolate)\n",
    "except Exception as e:\n",
    "    print ('You probably have a syntax error, we got the following exception:')\n",
    "    print (str(e))\n",
    "    \n",
    "print (\"Good Job!\\nYou've passed the 1st test for the 'get_number_of_rows' function implementation :-)\")"
   ]
  },
  {
   "cell_type": "code",
   "execution_count": 22,
   "metadata": {
    "deletable": false,
    "editable": false,
    "nbgrader": {
     "grade": true,
     "grade_id": "test-2a_2-row-num",
     "locked": true,
     "points": "0.2",
     "solution": false
    }
   },
   "outputs": [
    {
     "name": "stdout",
     "output_type": "stream",
     "text": [
      "Part 2.a. - Test 2 (0.2 points)\n",
      "\t--->Testing the implementation of 'get_number_of_rows' ...\n",
      "Num of rows=1795\n",
      "Good Job!\n",
      "You've passed the 2nd test for the 'get_number_of_rows' function implementation :-)\n"
     ]
    }
   ],
   "source": [
    "# 2.a.\n",
    "# ------------>>>>>>>> RUN THIS CODE CELL <<<<<<<<------------\n",
    "# --------  (run only)\n",
    "# === CODE TYPE: GRADED TEST \n",
    "\n",
    "print (\"Part 2.a. - Test 2 (0.2 points)\")\n",
    "print (\"\\t--->Testing the implementation of 'get_number_of_rows' ...\")\n",
    "\n",
    "try:\n",
    "    file_name = 'data' + os.sep + 'flavors_of_cacao.csv'\n",
    "    df_chocolate = load_csv(file_name)\n",
    "    num_of_rows    = get_number_of_rows(df_chocolate)\n",
    "    print ('Num of rows=%d' %(num_of_rows))\n",
    "except Exception as e:\n",
    "    print ('You probably have a syntax error, we got the following exception:')\n",
    "    print (str(e))\n",
    "    \n",
    "assert num_of_rows != 0, \"The number of rows can't be 0\"\n",
    "\n",
    "print (\"Good Job!\\nYou've passed the 2nd test for the 'get_number_of_rows' function implementation :-)\")"
   ]
  },
  {
   "cell_type": "markdown",
   "metadata": {
    "deletable": false,
    "editable": false,
    "nbgrader": {
     "grade": false,
     "locked": true,
     "solution": false
    }
   },
   "source": [
    "#### 2.b. Obtain the number of columns"
   ]
  },
  {
   "cell_type": "markdown",
   "metadata": {},
   "source": [
    "### Instructions\n",
    "<u>method name</u>: <b>get_number_of_columns</b>\n",
    "<pre>The following is expected:\n",
    "--- Complete the 'get_num_of_columns' function to return the number of columns \n",
    "    in the pandas dataframe, given in the parameter 'dataframe'\n",
    "</pre>"
   ]
  },
  {
   "cell_type": "code",
   "execution_count": 23,
   "metadata": {
    "collapsed": true
   },
   "outputs": [],
   "source": [
    "# 2.b.\n",
    "# ------------>>>>>>>> RUN THIS CODE CELL <<<<<<<<------------\n",
    "# --------  (run after implementation)\n",
    "# === CODE TYPE: ANSWER \n",
    "\n",
    "def get_number_of_columns(dataframe):\n",
    "    ###\n",
    "    ### YOUR CODE HERE\n",
    "      return dataframe.shape[1]\n",
    "    ###\n"
   ]
  },
  {
   "cell_type": "code",
   "execution_count": 24,
   "metadata": {},
   "outputs": [
    {
     "name": "stdout",
     "output_type": "stream",
     "text": [
      "Number of cols: 9\n"
     ]
    }
   ],
   "source": [
    "# 2.b.\n",
    "# ------------>>>>>>>> RUN THIS CODE CELL <<<<<<<<------------\n",
    "# --------  (run after implementation)\n",
    "# === CODE TYPE: SELF TESTING\n",
    "# Use the following code to test your implementation:\n",
    "\n",
    "file_name = 'data' + os.sep + 'flavors_of_cacao.csv'\n",
    "df_cocoa = load_csv(file_name)\n",
    "n_cols = get_number_of_columns(df_cocoa)\n",
    "###\n",
    "### \n",
    "print(\"Number of cols:\", n_cols)\n",
    "###\n"
   ]
  },
  {
   "cell_type": "code",
   "execution_count": 25,
   "metadata": {
    "collapsed": true
   },
   "outputs": [],
   "source": [
    "# 2.b.\n",
    "# ------------>>>>>>>> RUN THIS CODE CELL <<<<<<<<------------\n",
    "# --------  (run after implementation, if used)\n",
    "# === CODE TYPE: SELF TESTING\n",
    "# Add your additional tests here if needed:\n",
    "\n",
    "###\n",
    "### YOUR CODE HERE\n",
    "###\n"
   ]
  },
  {
   "cell_type": "code",
   "execution_count": 26,
   "metadata": {
    "deletable": false,
    "editable": false,
    "nbgrader": {
     "grade": true,
     "grade_id": "test-2b_1-col-num",
     "locked": true,
     "points": "0.2",
     "solution": false
    }
   },
   "outputs": [
    {
     "name": "stdout",
     "output_type": "stream",
     "text": [
      "Part 2.b. - Test 1 (0.2 points) - Sanity\n",
      "\t--->Testing the implementation of 'get_number_of_columns' ...\n",
      "Good Job!\n",
      "You've passed the 1st test for the 'get_number_of_columns' function implementation :-)\n"
     ]
    }
   ],
   "source": [
    "# 2.b.\n",
    "# ------------>>>>>>>> RUN THIS CODE CELL <<<<<<<<------------\n",
    "# --------  (run only)\n",
    "# === CODE TYPE: GRADED TEST \n",
    "\n",
    "print (\"Part 2.b. - Test 1 (0.2 points) - Sanity\")\n",
    "print (\"\\t--->Testing the implementation of 'get_number_of_columns' ...\")\n",
    "\n",
    "try:\n",
    "    file_name = 'data' + os.sep + 'flavors_of_cacao.csv'\n",
    "    df_chocolate = load_csv(file_name)\n",
    "    num_of_columns = get_number_of_columns(df_chocolate)\n",
    "except Exception as e:\n",
    "    print ('You probably have a syntax error, we got the following exception:')\n",
    "    print (str(e))\n",
    "    \n",
    "print (\"Good Job!\\nYou've passed the 1st test for the 'get_number_of_columns' function implementation :-)\")"
   ]
  },
  {
   "cell_type": "code",
   "execution_count": 27,
   "metadata": {
    "deletable": false,
    "editable": false,
    "nbgrader": {
     "grade": true,
     "grade_id": "test-2b_2-col-num",
     "locked": true,
     "points": "0.2",
     "solution": false
    }
   },
   "outputs": [
    {
     "name": "stdout",
     "output_type": "stream",
     "text": [
      "Part 2.b. - Test 2 (0.2 points)\n",
      "\t--->Testing the implementation of 'get_number_of_columns' ...\n",
      "Num of columns=9\n",
      "Good Job!\n",
      "You've passed the 2nd test for the 'get_number_of_columns' function implementation :-)\n"
     ]
    }
   ],
   "source": [
    "# 2.b.\n",
    "# ------------>>>>>>>> RUN THIS CODE CELL <<<<<<<<------------\n",
    "# --------  (run only)\n",
    "# === CODE TYPE: GRADED TEST \n",
    "\n",
    "print (\"Part 2.b. - Test 2 (0.2 points)\")\n",
    "print (\"\\t--->Testing the implementation of 'get_number_of_columns' ...\")\n",
    "\n",
    "try:\n",
    "    file_name = 'data' + os.sep + 'flavors_of_cacao.csv'\n",
    "    df_chocolate = load_csv(file_name)\n",
    "    num_of_columns = get_number_of_columns(df_chocolate)\n",
    "    print ('Num of columns=%d' %(num_of_columns))\n",
    "except Exception as e:\n",
    "    print ('You probably have a syntax error, we got the following exception:')\n",
    "    print (str(e))\n",
    "    \n",
    "assert num_of_columns!=0, \"The number of columns can't be 0\"\n",
    "\n",
    "print (\"Good Job!\\nYou've passed the 2nd test for the 'get_number_of_columns' function implementation :-)\")"
   ]
  },
  {
   "cell_type": "code",
   "execution_count": 28,
   "metadata": {
    "deletable": false,
    "editable": false,
    "nbgrader": {
     "grade": true,
     "grade_id": "test-2b_3-col-num",
     "locked": true,
     "points": "0.2",
     "solution": false
    }
   },
   "outputs": [
    {
     "name": "stdout",
     "output_type": "stream",
     "text": [
      "Part 2.b. - Test 3 (0.2 points)\n",
      "\t--->Testing the implementation of 'get_number_of_rows' and 'get_number_of_columns' ...\n",
      "Num of rows=1795\n",
      "Num of columns=9\n",
      "Good Job!\n",
      "You've passed the 3rd test for the 'get_number_of_columns' function implementation :-)\n"
     ]
    }
   ],
   "source": [
    "# 2.b.\n",
    "# ------------>>>>>>>> RUN THIS CODE CELL <<<<<<<<------------\n",
    "# --------  (run only)\n",
    "# === CODE TYPE: GRADED TEST \n",
    "\n",
    "print (\"Part 2.b. - Test 3 (0.2 points)\")\n",
    "print (\"\\t--->Testing the implementation of 'get_number_of_rows' and 'get_number_of_columns' ...\")\n",
    "\n",
    "try:\n",
    "    file_name = 'data' + os.sep + 'flavors_of_cacao.csv'\n",
    "    df_chocolate = load_csv(file_name)\n",
    "    num_of_rows    = get_number_of_rows(df_chocolate)\n",
    "    num_of_columns = get_number_of_columns(df_chocolate)\n",
    "    print ('Num of rows=%d' %(num_of_rows))\n",
    "    print ('Num of columns=%d' %(num_of_columns))\n",
    "except Exception as e:\n",
    "    print ('You probably have a syntax error, we got the following exception:')\n",
    "    print (str(e))\n",
    "    \n",
    "assert 4 == num_of_rows % num_of_columns, \"You've got a wrong number of rows or columns\"\n",
    "\n",
    "print (\"Good Job!\\nYou've passed the 3rd test for the 'get_number_of_columns' function implementation :-)\")"
   ]
  },
  {
   "cell_type": "markdown",
   "metadata": {
    "deletable": false,
    "editable": false,
    "nbgrader": {
     "grade": false,
     "locked": true,
     "solution": false
    }
   },
   "source": [
    "### 3. Reading information from the dataframe:"
   ]
  },
  {
   "cell_type": "markdown",
   "metadata": {
    "deletable": false,
    "editable": false,
    "nbgrader": {
     "grade": false,
     "locked": true,
     "solution": false
    }
   },
   "source": [
    "#### 3.a. Get rows in range"
   ]
  },
  {
   "cell_type": "markdown",
   "metadata": {},
   "source": [
    "### Instructions\n",
    "<u>method name</u>: <b>get_rows_in_range</b>\n",
    "<pre>The following is expected:\n",
    "--- Complete the 'get_rows_in_range' function to return only the rows \n",
    "    in a pandas dataframe, given in the parameter 'dataframe', within the\n",
    "    range 'first_row' and 'last_row' (last row is excluded)\n",
    "</pre>"
   ]
  },
  {
   "cell_type": "code",
   "execution_count": 29,
   "metadata": {
    "collapsed": true
   },
   "outputs": [],
   "source": [
    "# 3.a.\n",
    "# ------------>>>>>>>> RUN THIS CODE CELL <<<<<<<<------------\n",
    "# --------  (run after implementation)\n",
    "# === CODE TYPE: ANSWER \n",
    "\n",
    "def get_rows_in_range(dataframe, first_row, last_row):\n",
    "    ###\n",
    "    ### \n",
    "    return dataframe.iloc[first_row:last_row]\n",
    "    ###\n"
   ]
  },
  {
   "cell_type": "code",
   "execution_count": 30,
   "metadata": {},
   "outputs": [
    {
     "name": "stdout",
     "output_type": "stream",
     "text": [
      "Number of rows in df_cocoa: 1795\n"
     ]
    }
   ],
   "source": [
    "# 3.a.\n",
    "# ------------>>>>>>>> RUN THIS CODE CELL <<<<<<<<------------\n",
    "# --------  (run after implementation)\n",
    "# === CODE TYPE: SELF TESTING\n",
    "# Use the following code to test your implementation:\n",
    "\n",
    "file_name = 'data' + os.sep + 'flavors_of_cacao.csv'\n",
    "df_cocoa = load_csv(file_name)\n",
    "row_begin_range, row_end_range = 1310, 1320\n",
    "df_rows_in_range = get_rows_in_range(df_cocoa, row_begin_range, row_end_range)\n",
    "###\n",
    "print(\"Number of rows in df_cocoa:\", df_cocoa.shape[0])\n",
    "\n",
    "###\n"
   ]
  },
  {
   "cell_type": "code",
   "execution_count": 31,
   "metadata": {
    "collapsed": true
   },
   "outputs": [],
   "source": [
    "# 3.a.\n",
    "# ------------>>>>>>>> RUN THIS CODE CELL <<<<<<<<------------\n",
    "# --------  (run after implementation, if used)\n",
    "# === CODE TYPE: SELF TESTING\n",
    "# Add your additional tests here if needed:\n",
    "\n",
    "###\n",
    "### YOUR CODE HERE\n",
    "###\n"
   ]
  },
  {
   "cell_type": "code",
   "execution_count": 32,
   "metadata": {
    "deletable": false,
    "editable": false,
    "nbgrader": {
     "grade": true,
     "grade_id": "test-3a_1-row-in-range",
     "locked": true,
     "points": "0.2",
     "solution": false
    }
   },
   "outputs": [
    {
     "name": "stdout",
     "output_type": "stream",
     "text": [
      "Part 3.a. - Test 1 (0.2 points) - Sanity\n",
      "\t--->Testing the implementation of 'get_rows_in_range' ...\n",
      "Good Job!\n",
      "You've passed the 1st test for the 'get_rows_in_range' function implementation :-)\n"
     ]
    }
   ],
   "source": [
    "# 3.a.\n",
    "# ------------>>>>>>>> RUN THIS CODE CELL <<<<<<<<------------\n",
    "# --------  (run only)\n",
    "# === CODE TYPE: GRADED TEST \n",
    "\n",
    "print (\"Part 3.a. - Test 1 (0.2 points) - Sanity\")\n",
    "print (\"\\t--->Testing the implementation of 'get_rows_in_range' ...\")\n",
    "\n",
    "try:\n",
    "    file_name = 'data' + os.sep + 'flavors_of_cacao.csv'\n",
    "    df_chocolate = load_csv(file_name)\n",
    "    df_ranged_rows = get_rows_in_range(df_chocolate, 1310, 1320)\n",
    "except Exception as e:\n",
    "    print ('You probably have a syntax error, we got the following exception:')\n",
    "    print (str(e))\n",
    "    \n",
    "print (\"Good Job!\\nYou've passed the 1st test for the 'get_rows_in_range' function implementation :-)\")"
   ]
  },
  {
   "cell_type": "code",
   "execution_count": 33,
   "metadata": {
    "deletable": false,
    "editable": false,
    "nbgrader": {
     "grade": true,
     "grade_id": "test-3a_2-row-in-range",
     "locked": true,
     "points": "0.5",
     "solution": false
    }
   },
   "outputs": [
    {
     "name": "stdout",
     "output_type": "stream",
     "text": [
      "Part 3.a. - Test 2 (0.5 points)\n",
      "\t--->Testing the implementation of 'get_rows_in_range' ...\n",
      "Num of rows=10\n",
      "Num of columns=9\n",
      "Good Job!\n",
      "You've passed the 2nd test for the 'get_rows_in_range' function implementation :-)\n",
      "\n",
      "Sub dataframe:\n"
     ]
    },
    {
     "data": {
      "text/html": [
       "<div>\n",
       "<style scoped>\n",
       "    .dataframe tbody tr th:only-of-type {\n",
       "        vertical-align: middle;\n",
       "    }\n",
       "\n",
       "    .dataframe tbody tr th {\n",
       "        vertical-align: top;\n",
       "    }\n",
       "\n",
       "    .dataframe thead th {\n",
       "        text-align: right;\n",
       "    }\n",
       "</style>\n",
       "<table border=\"1\" class=\"dataframe\">\n",
       "  <thead>\n",
       "    <tr style=\"text-align: right;\">\n",
       "      <th></th>\n",
       "      <th>Company (Maker-if known)</th>\n",
       "      <th>Specific Bean Origin or Bar Name</th>\n",
       "      <th>REF</th>\n",
       "      <th>Review Date</th>\n",
       "      <th>Cocoa Percent</th>\n",
       "      <th>Company Location</th>\n",
       "      <th>Rating</th>\n",
       "      <th>Bean Type</th>\n",
       "      <th>Broad Bean Origin</th>\n",
       "    </tr>\n",
       "  </thead>\n",
       "  <tbody>\n",
       "    <tr>\n",
       "      <th>1310</th>\n",
       "      <td>Potomac</td>\n",
       "      <td>Upala, Batch 18</td>\n",
       "      <td>654</td>\n",
       "      <td>2011</td>\n",
       "      <td>70%</td>\n",
       "      <td>U.S.A.</td>\n",
       "      <td>3.00</td>\n",
       "      <td>Matina</td>\n",
       "      <td>Costa Rica</td>\n",
       "    </tr>\n",
       "    <tr>\n",
       "      <th>1311</th>\n",
       "      <td>Potomac</td>\n",
       "      <td>San Martin, Amazonian Highlands</td>\n",
       "      <td>789</td>\n",
       "      <td>2011</td>\n",
       "      <td>70%</td>\n",
       "      <td>U.S.A.</td>\n",
       "      <td>2.75</td>\n",
       "      <td>NaN</td>\n",
       "      <td>Peru</td>\n",
       "    </tr>\n",
       "    <tr>\n",
       "      <th>1312</th>\n",
       "      <td>Potomac</td>\n",
       "      <td>Bahia</td>\n",
       "      <td>789</td>\n",
       "      <td>2011</td>\n",
       "      <td>70%</td>\n",
       "      <td>U.S.A.</td>\n",
       "      <td>3.50</td>\n",
       "      <td>NaN</td>\n",
       "      <td>Brazil</td>\n",
       "    </tr>\n",
       "    <tr>\n",
       "      <th>1313</th>\n",
       "      <td>Potomac</td>\n",
       "      <td>Upala, Batch 12</td>\n",
       "      <td>607</td>\n",
       "      <td>2010</td>\n",
       "      <td>82%</td>\n",
       "      <td>U.S.A.</td>\n",
       "      <td>3.75</td>\n",
       "      <td>Matina</td>\n",
       "      <td>Costa Rica</td>\n",
       "    </tr>\n",
       "    <tr>\n",
       "      <th>1314</th>\n",
       "      <td>Pralus</td>\n",
       "      <td>Peru</td>\n",
       "      <td>1446</td>\n",
       "      <td>2015</td>\n",
       "      <td>75%</td>\n",
       "      <td>France</td>\n",
       "      <td>3.25</td>\n",
       "      <td>NaN</td>\n",
       "      <td>Peru</td>\n",
       "    </tr>\n",
       "    <tr>\n",
       "      <th>1315</th>\n",
       "      <td>Pralus</td>\n",
       "      <td>Porcelana, S. of Lake Maracaibo</td>\n",
       "      <td>717</td>\n",
       "      <td>2011</td>\n",
       "      <td>75%</td>\n",
       "      <td>France</td>\n",
       "      <td>3.25</td>\n",
       "      <td>Criollo (Porcelana)</td>\n",
       "      <td>Venezuela</td>\n",
       "    </tr>\n",
       "    <tr>\n",
       "      <th>1316</th>\n",
       "      <td>Pralus</td>\n",
       "      <td>Chuao</td>\n",
       "      <td>486</td>\n",
       "      <td>2010</td>\n",
       "      <td>75%</td>\n",
       "      <td>France</td>\n",
       "      <td>3.50</td>\n",
       "      <td>Trinitario</td>\n",
       "      <td>Venezuela</td>\n",
       "    </tr>\n",
       "    <tr>\n",
       "      <th>1317</th>\n",
       "      <td>Pralus</td>\n",
       "      <td>Cuyagua</td>\n",
       "      <td>451</td>\n",
       "      <td>2009</td>\n",
       "      <td>75%</td>\n",
       "      <td>France</td>\n",
       "      <td>2.00</td>\n",
       "      <td>NaN</td>\n",
       "      <td>Venezuela</td>\n",
       "    </tr>\n",
       "    <tr>\n",
       "      <th>1318</th>\n",
       "      <td>Pralus</td>\n",
       "      <td>Papouasie</td>\n",
       "      <td>199</td>\n",
       "      <td>2008</td>\n",
       "      <td>75%</td>\n",
       "      <td>France</td>\n",
       "      <td>3.00</td>\n",
       "      <td>Trinitario</td>\n",
       "      <td>Papua New Guinea</td>\n",
       "    </tr>\n",
       "    <tr>\n",
       "      <th>1319</th>\n",
       "      <td>Pralus</td>\n",
       "      <td>Sambirano Valley, Le 100%</td>\n",
       "      <td>202</td>\n",
       "      <td>2008</td>\n",
       "      <td>100%</td>\n",
       "      <td>France</td>\n",
       "      <td>3.00</td>\n",
       "      <td>Criollo</td>\n",
       "      <td>Madagascar</td>\n",
       "    </tr>\n",
       "  </tbody>\n",
       "</table>\n",
       "</div>"
      ],
      "text/plain": [
       "     Company (Maker-if known) Specific Bean Origin or Bar Name   REF  \\\n",
       "1310                  Potomac                  Upala, Batch 18   654   \n",
       "1311                  Potomac  San Martin, Amazonian Highlands   789   \n",
       "1312                  Potomac                            Bahia   789   \n",
       "1313                  Potomac                  Upala, Batch 12   607   \n",
       "1314                   Pralus                             Peru  1446   \n",
       "1315                   Pralus  Porcelana, S. of Lake Maracaibo   717   \n",
       "1316                   Pralus                            Chuao   486   \n",
       "1317                   Pralus                          Cuyagua   451   \n",
       "1318                   Pralus                        Papouasie   199   \n",
       "1319                   Pralus        Sambirano Valley, Le 100%   202   \n",
       "\n",
       "      Review Date Cocoa Percent Company Location  Rating            Bean Type  \\\n",
       "1310         2011           70%           U.S.A.    3.00               Matina   \n",
       "1311         2011           70%           U.S.A.    2.75                  NaN   \n",
       "1312         2011           70%           U.S.A.    3.50                  NaN   \n",
       "1313         2010           82%           U.S.A.    3.75               Matina   \n",
       "1314         2015           75%           France    3.25                  NaN   \n",
       "1315         2011           75%           France    3.25  Criollo (Porcelana)   \n",
       "1316         2010           75%           France    3.50           Trinitario   \n",
       "1317         2009           75%           France    2.00                  NaN   \n",
       "1318         2008           75%           France    3.00           Trinitario   \n",
       "1319         2008          100%           France    3.00              Criollo   \n",
       "\n",
       "     Broad Bean Origin  \n",
       "1310        Costa Rica  \n",
       "1311              Peru  \n",
       "1312            Brazil  \n",
       "1313        Costa Rica  \n",
       "1314              Peru  \n",
       "1315         Venezuela  \n",
       "1316         Venezuela  \n",
       "1317         Venezuela  \n",
       "1318  Papua New Guinea  \n",
       "1319        Madagascar  "
      ]
     },
     "execution_count": 33,
     "metadata": {},
     "output_type": "execute_result"
    }
   ],
   "source": [
    "# 3.a.\n",
    "# ------------>>>>>>>> RUN THIS CODE CELL <<<<<<<<------------\n",
    "# --------  (run only)\n",
    "# === CODE TYPE: GRADED TEST \n",
    "\n",
    "print (\"Part 3.a. - Test 2 (0.5 points)\")\n",
    "print (\"\\t--->Testing the implementation of 'get_rows_in_range' ...\")\n",
    "\n",
    "try:\n",
    "    file_name = 'data' + os.sep + 'flavors_of_cacao.csv'\n",
    "    df_chocolate = load_csv(file_name)\n",
    "    df_ranged_rows = get_rows_in_range(df_chocolate, 1310, 1320)\n",
    "    num_of_rows    = get_number_of_rows(df_ranged_rows)\n",
    "    num_of_columns = get_number_of_columns(df_ranged_rows)\n",
    "    print ('Num of rows=%d' %(num_of_rows))\n",
    "    print ('Num of columns=%d' %(num_of_columns))\n",
    "except Exception as e:\n",
    "    print ('You probably have a syntax error, we got the following exception:')\n",
    "    print (str(e))\n",
    "    \n",
    "assert num_of_rows==10 and num_of_columns==9, \"Wrong number of rows or columns\"\n",
    "\n",
    "print (\"Good Job!\\nYou've passed the 2nd test for the 'get_rows_in_range' function implementation :-)\")\n",
    "\n",
    "print ('\\nSub dataframe:')\n",
    "df_ranged_rows"
   ]
  },
  {
   "cell_type": "markdown",
   "metadata": {
    "deletable": false,
    "editable": false,
    "nbgrader": {
     "grade": false,
     "locked": true,
     "solution": false
    }
   },
   "source": [
    "#### 3.b. Get columns in range"
   ]
  },
  {
   "cell_type": "markdown",
   "metadata": {},
   "source": [
    "### Instructions\n",
    "<u>method name</u>: <b>get_columns_in_range</b>\n",
    "<pre>The following is expected:\n",
    "--- Complete the 'get_columns_in_range' function to return only the columns \n",
    "    in a pandas dataframe, given in the parameter 'dataframe', within the\n",
    "    range 'first_column' and 'last_column' (last column is excluded)\n",
    "</pre>"
   ]
  },
  {
   "cell_type": "code",
   "execution_count": 34,
   "metadata": {
    "collapsed": true
   },
   "outputs": [],
   "source": [
    "# 3.b.\n",
    "# ------------>>>>>>>> RUN THIS CODE CELL <<<<<<<<------------\n",
    "# --------  (run after implementation)\n",
    "# === CODE TYPE: ANSWER \n",
    "\n",
    "def get_columns_in_range(dataframe, first_column, last_column):\n",
    "    ###\n",
    "    ### \n",
    "    return dataframe.iloc[:,first_column:last_column]\n",
    "    ###\n"
   ]
  },
  {
   "cell_type": "code",
   "execution_count": 35,
   "metadata": {
    "collapsed": true
   },
   "outputs": [],
   "source": [
    "# 3.b.\n",
    "# ------------>>>>>>>> RUN THIS CODE CELL <<<<<<<<------------\n",
    "# --------  (run after implementation)\n",
    "# === CODE TYPE: SELF TESTING\n",
    "# Use the following code to test your implementation:\n",
    "\n",
    "file_name = 'data' + os.sep + 'flavors_of_cacao.csv'\n",
    "df_cocoa = load_csv(file_name)\n",
    "row_begin_range, row_end_range = 1310, 1320\n",
    "df_rows_in_range = get_rows_in_range(df_cocoa, row_begin_range, row_end_range)\n",
    "col_begin_range, col_end_range = 4, 6\n",
    "df_cols_in_ranged = get_columns_in_range(df_rows_in_range, col_begin_range, col_end_range)\n",
    "###\n",
    "### YOUR CODE HERE\n",
    "###\n"
   ]
  },
  {
   "cell_type": "code",
   "execution_count": 36,
   "metadata": {
    "collapsed": true
   },
   "outputs": [],
   "source": [
    "# 3.b.\n",
    "# ------------>>>>>>>> RUN THIS CODE CELL <<<<<<<<------------\n",
    "# --------  (run after implementation, if used)\n",
    "# === CODE TYPE: SELF TESTING\n",
    "# Add your additional tests here if needed:\n",
    "\n",
    "###\n",
    "### YOUR CODE HERE\n",
    "###\n"
   ]
  },
  {
   "cell_type": "code",
   "execution_count": 37,
   "metadata": {
    "deletable": false,
    "editable": false,
    "nbgrader": {
     "grade": true,
     "grade_id": "test-3b_1-col-in-range",
     "locked": true,
     "points": "0.2",
     "solution": false
    }
   },
   "outputs": [
    {
     "name": "stdout",
     "output_type": "stream",
     "text": [
      "Part 3.b. - Test 1 (0.2 points) - Sanity\n",
      "\t--->Testing the implementation of 'get_columns_in_range' ...\n",
      "Good Job!\n",
      "You've passed the 1st test for the 'get_columns_in_range' function implementation :-)\n"
     ]
    }
   ],
   "source": [
    "# 3.b.\n",
    "# ------------>>>>>>>> RUN THIS CODE CELL <<<<<<<<------------\n",
    "# --------  (run only)\n",
    "# === CODE TYPE: GRADED TEST \n",
    "\n",
    "print (\"Part 3.b. - Test 1 (0.2 points) - Sanity\")\n",
    "print (\"\\t--->Testing the implementation of 'get_columns_in_range' ...\")\n",
    "\n",
    "try:\n",
    "    file_name = 'data' + os.sep + 'flavors_of_cacao.csv'\n",
    "    df_chocolate = load_csv(file_name)\n",
    "    df_ranged = get_columns_in_range(df_chocolate, 4, 6)\n",
    "except Exception as e:\n",
    "    print ('You probably have a syntax error, we got the following exception:')\n",
    "    print (str(e))\n",
    "    \n",
    "print (\"Good Job!\\nYou've passed the 1st test for the 'get_columns_in_range' function implementation :-)\")    "
   ]
  },
  {
   "cell_type": "code",
   "execution_count": 38,
   "metadata": {
    "deletable": false,
    "editable": false,
    "nbgrader": {
     "grade": true,
     "grade_id": "test-3b_2-col-in-range",
     "locked": true,
     "points": "0.5",
     "solution": false
    }
   },
   "outputs": [
    {
     "name": "stdout",
     "output_type": "stream",
     "text": [
      "Part 3.b. - Test 2 (0.5 points)\n",
      "\t--->Testing the implementation of 'get_columns_in_range' ...\n",
      "Num of rows=1795\n",
      "Num of columns=2\n",
      "Good Job!\n",
      "You've passed the 2nd test for the 'get_columns_in_range' function implementation :-)\n",
      "\n",
      "Sub dataframe:\n"
     ]
    },
    {
     "data": {
      "text/html": [
       "<div>\n",
       "<style scoped>\n",
       "    .dataframe tbody tr th:only-of-type {\n",
       "        vertical-align: middle;\n",
       "    }\n",
       "\n",
       "    .dataframe tbody tr th {\n",
       "        vertical-align: top;\n",
       "    }\n",
       "\n",
       "    .dataframe thead th {\n",
       "        text-align: right;\n",
       "    }\n",
       "</style>\n",
       "<table border=\"1\" class=\"dataframe\">\n",
       "  <thead>\n",
       "    <tr style=\"text-align: right;\">\n",
       "      <th></th>\n",
       "      <th>Cocoa Percent</th>\n",
       "      <th>Company Location</th>\n",
       "    </tr>\n",
       "  </thead>\n",
       "  <tbody>\n",
       "    <tr>\n",
       "      <th>0</th>\n",
       "      <td>63%</td>\n",
       "      <td>France</td>\n",
       "    </tr>\n",
       "    <tr>\n",
       "      <th>1</th>\n",
       "      <td>70%</td>\n",
       "      <td>France</td>\n",
       "    </tr>\n",
       "    <tr>\n",
       "      <th>2</th>\n",
       "      <td>70%</td>\n",
       "      <td>France</td>\n",
       "    </tr>\n",
       "    <tr>\n",
       "      <th>3</th>\n",
       "      <td>70%</td>\n",
       "      <td>France</td>\n",
       "    </tr>\n",
       "    <tr>\n",
       "      <th>4</th>\n",
       "      <td>70%</td>\n",
       "      <td>France</td>\n",
       "    </tr>\n",
       "    <tr>\n",
       "      <th>...</th>\n",
       "      <td>...</td>\n",
       "      <td>...</td>\n",
       "    </tr>\n",
       "    <tr>\n",
       "      <th>1790</th>\n",
       "      <td>70%</td>\n",
       "      <td>Austria</td>\n",
       "    </tr>\n",
       "    <tr>\n",
       "      <th>1791</th>\n",
       "      <td>65%</td>\n",
       "      <td>Austria</td>\n",
       "    </tr>\n",
       "    <tr>\n",
       "      <th>1792</th>\n",
       "      <td>65%</td>\n",
       "      <td>Austria</td>\n",
       "    </tr>\n",
       "    <tr>\n",
       "      <th>1793</th>\n",
       "      <td>62%</td>\n",
       "      <td>Austria</td>\n",
       "    </tr>\n",
       "    <tr>\n",
       "      <th>1794</th>\n",
       "      <td>65%</td>\n",
       "      <td>Austria</td>\n",
       "    </tr>\n",
       "  </tbody>\n",
       "</table>\n",
       "<p>1795 rows × 2 columns</p>\n",
       "</div>"
      ],
      "text/plain": [
       "     Cocoa Percent Company Location\n",
       "0              63%           France\n",
       "1              70%           France\n",
       "2              70%           France\n",
       "3              70%           France\n",
       "4              70%           France\n",
       "...            ...              ...\n",
       "1790           70%          Austria\n",
       "1791           65%          Austria\n",
       "1792           65%          Austria\n",
       "1793           62%          Austria\n",
       "1794           65%          Austria\n",
       "\n",
       "[1795 rows x 2 columns]"
      ]
     },
     "execution_count": 38,
     "metadata": {},
     "output_type": "execute_result"
    }
   ],
   "source": [
    "# 3.b.\n",
    "# ------------>>>>>>>> RUN THIS CODE CELL <<<<<<<<------------\n",
    "# --------  (run only)\n",
    "# === CODE TYPE: GRADED TEST \n",
    "\n",
    "print (\"Part 3.b. - Test 2 (0.5 points)\")\n",
    "print (\"\\t--->Testing the implementation of 'get_columns_in_range' ...\")\n",
    "\n",
    "try:\n",
    "    file_name = 'data' + os.sep + 'flavors_of_cacao.csv'\n",
    "    df_chocolate = load_csv(file_name)\n",
    "    df_ranged = get_columns_in_range(df_chocolate, 4, 6)\n",
    "    num_of_rows    = get_number_of_rows(df_ranged)\n",
    "    num_of_columns = get_number_of_columns(df_ranged)\n",
    "    print ('Num of rows=%d' %(num_of_rows))\n",
    "    print ('Num of columns=%d' %(num_of_columns))\n",
    "except Exception as e:\n",
    "    print ('You probably have a syntax error, we got the following exception:')\n",
    "    print (str(e))\n",
    "    \n",
    "assert num_of_columns==2, \"Wrong number of columns\"\n",
    "\n",
    "print (\"Good Job!\\nYou've passed the 2nd test for the 'get_columns_in_range' function implementation :-)\")   \n",
    "\n",
    "print ('\\nSub dataframe:')\n",
    "df_ranged"
   ]
  },
  {
   "cell_type": "code",
   "execution_count": 39,
   "metadata": {
    "deletable": false,
    "editable": false,
    "nbgrader": {
     "grade": true,
     "grade_id": "test-3b_3-col-in-range",
     "locked": true,
     "points": "0.6",
     "solution": false
    }
   },
   "outputs": [
    {
     "name": "stdout",
     "output_type": "stream",
     "text": [
      "Part 3.b. - Test 3 (0.6 points)\n",
      "\t--->Testing the implementation of 'get_columns_in_range' ...\n",
      "Num of rows=10\n",
      "Num of columns=2\n",
      "Good Job!\n",
      "You've passed the 3rd test for the 'get_columns_in_range' function implementation :-)\n",
      "\n",
      "Sub dataframe:\n"
     ]
    },
    {
     "data": {
      "text/html": [
       "<div>\n",
       "<style scoped>\n",
       "    .dataframe tbody tr th:only-of-type {\n",
       "        vertical-align: middle;\n",
       "    }\n",
       "\n",
       "    .dataframe tbody tr th {\n",
       "        vertical-align: top;\n",
       "    }\n",
       "\n",
       "    .dataframe thead th {\n",
       "        text-align: right;\n",
       "    }\n",
       "</style>\n",
       "<table border=\"1\" class=\"dataframe\">\n",
       "  <thead>\n",
       "    <tr style=\"text-align: right;\">\n",
       "      <th></th>\n",
       "      <th>Cocoa Percent</th>\n",
       "      <th>Company Location</th>\n",
       "    </tr>\n",
       "  </thead>\n",
       "  <tbody>\n",
       "    <tr>\n",
       "      <th>1310</th>\n",
       "      <td>70%</td>\n",
       "      <td>U.S.A.</td>\n",
       "    </tr>\n",
       "    <tr>\n",
       "      <th>1311</th>\n",
       "      <td>70%</td>\n",
       "      <td>U.S.A.</td>\n",
       "    </tr>\n",
       "    <tr>\n",
       "      <th>1312</th>\n",
       "      <td>70%</td>\n",
       "      <td>U.S.A.</td>\n",
       "    </tr>\n",
       "    <tr>\n",
       "      <th>1313</th>\n",
       "      <td>82%</td>\n",
       "      <td>U.S.A.</td>\n",
       "    </tr>\n",
       "    <tr>\n",
       "      <th>1314</th>\n",
       "      <td>75%</td>\n",
       "      <td>France</td>\n",
       "    </tr>\n",
       "    <tr>\n",
       "      <th>1315</th>\n",
       "      <td>75%</td>\n",
       "      <td>France</td>\n",
       "    </tr>\n",
       "    <tr>\n",
       "      <th>1316</th>\n",
       "      <td>75%</td>\n",
       "      <td>France</td>\n",
       "    </tr>\n",
       "    <tr>\n",
       "      <th>1317</th>\n",
       "      <td>75%</td>\n",
       "      <td>France</td>\n",
       "    </tr>\n",
       "    <tr>\n",
       "      <th>1318</th>\n",
       "      <td>75%</td>\n",
       "      <td>France</td>\n",
       "    </tr>\n",
       "    <tr>\n",
       "      <th>1319</th>\n",
       "      <td>100%</td>\n",
       "      <td>France</td>\n",
       "    </tr>\n",
       "  </tbody>\n",
       "</table>\n",
       "</div>"
      ],
      "text/plain": [
       "     Cocoa Percent Company Location\n",
       "1310           70%           U.S.A.\n",
       "1311           70%           U.S.A.\n",
       "1312           70%           U.S.A.\n",
       "1313           82%           U.S.A.\n",
       "1314           75%           France\n",
       "1315           75%           France\n",
       "1316           75%           France\n",
       "1317           75%           France\n",
       "1318           75%           France\n",
       "1319          100%           France"
      ]
     },
     "execution_count": 39,
     "metadata": {},
     "output_type": "execute_result"
    }
   ],
   "source": [
    "# 3.b.\n",
    "# ------------>>>>>>>> RUN THIS CODE CELL <<<<<<<<------------\n",
    "# --------  (run only)\n",
    "# === CODE TYPE: GRADED TEST \n",
    "\n",
    "print (\"Part 3.b. - Test 3 (0.6 points)\")\n",
    "print (\"\\t--->Testing the implementation of 'get_columns_in_range' ...\")\n",
    "\n",
    "try:\n",
    "    file_name = 'data' + os.sep + 'flavors_of_cacao.csv'\n",
    "    df_chocolate = load_csv(file_name)\n",
    "    df_ranged_rows = get_rows_in_range(df_chocolate, 1310, 1320)\n",
    "    df_ranged = get_columns_in_range(df_ranged_rows, 4, 6)\n",
    "    num_of_rows    = get_number_of_rows(df_ranged)\n",
    "    num_of_columns = get_number_of_columns(df_ranged)\n",
    "    print ('Num of rows=%d' %(num_of_rows))\n",
    "    print ('Num of columns=%d' %(num_of_columns))\n",
    "except Exception as e:\n",
    "    print ('You probably have a syntax error, we got the following exception:')\n",
    "    print (str(e))\n",
    "    \n",
    "assert num_of_rows==10 and num_of_columns==2, \"Wrong number of rows or columns\"\n",
    "\n",
    "print (\"Good Job!\\nYou've passed the 3rd test for the 'get_columns_in_range' function implementation :-)\")   \n",
    "\n",
    "print ('\\nSub dataframe:')\n",
    "df_ranged"
   ]
  },
  {
   "cell_type": "markdown",
   "metadata": {
    "deletable": false,
    "editable": false,
    "nbgrader": {
     "grade": false,
     "locked": true,
     "solution": false
    }
   },
   "source": [
    "### 4. Conditional Selection of data:"
   ]
  },
  {
   "cell_type": "markdown",
   "metadata": {
    "deletable": false,
    "editable": false,
    "nbgrader": {
     "grade": false,
     "locked": true,
     "solution": false
    }
   },
   "source": [
    "#### 4.a. Select rows by cell value"
   ]
  },
  {
   "cell_type": "markdown",
   "metadata": {},
   "source": [
    "### Instructions\n",
    "<u>method name</u>: <b>select_rows_by_cell_val</b>\n",
    "<pre>The following is expected:\n",
    "--- Complete the 'select_rows_by_cell_val' function to return only the rows \n",
    "    in a pandas dataframe, given in the parameter 'dataframe', which \n",
    "    match the 'matching_val' value of in the cell in the 'col_name' column.\n",
    "</pre>"
   ]
  },
  {
   "cell_type": "code",
   "execution_count": 40,
   "metadata": {
    "collapsed": true
   },
   "outputs": [],
   "source": [
    "# 4.a.\n",
    "# ------------>>>>>>>> RUN THIS CODE CELL <<<<<<<<------------\n",
    "# --------  (run after implementation)\n",
    "# === CODE TYPE: ANSWER \n",
    "\n",
    "def select_rows_by_cell_val(dataframe, col_name, matching_val):\n",
    "    ###\n",
    "    ###\n",
    "   return dataframe[dataframe[col_name]==matching_val]\n",
    "    ###\n"
   ]
  },
  {
   "cell_type": "code",
   "execution_count": 41,
   "metadata": {},
   "outputs": [
    {
     "name": "stdout",
     "output_type": "stream",
     "text": [
      "       Company (Maker-if known) Specific Bean Origin or Bar Name   REF  \\\n",
      "34           Akesson's (Pralus)          Monte Alegre, D. Badero   508   \n",
      "43                    Alexandre           Makwale Village, Kyela  1944   \n",
      "63        Amatller (Simon Coll)                            Ghana   322   \n",
      "66        Amatller (Simon Coll)                            Ghana   464   \n",
      "136         Artisan du Chocolat                            Congo   300   \n",
      "...                         ...                              ...   ...   \n",
      "1704  Vanleer (Barry Callebaut)                             Napa   963   \n",
      "1734                 Whittakers                            Ghana   733   \n",
      "1788                     Zotter                 Kongo, Highlands   883   \n",
      "1791                     Zotter                            Congo   749   \n",
      "1792                     Zotter                     Kerala State   749   \n",
      "\n",
      "      Review Date Cocoa Percent Company Location  Rating  Bean Type  \\\n",
      "34           2010           75%      Switzerland    2.75  Forastero   \n",
      "43           2017           70%      Netherlands    3.50  Forastero   \n",
      "63           2009           70%            Spain    3.00  Forastero   \n",
      "66           2009           85%            Spain    3.00  Forastero   \n",
      "136          2008           72%             U.K.    3.75  Forastero   \n",
      "...           ...           ...              ...     ...        ...   \n",
      "1704         2012           65%           U.S.A.    2.75  Forastero   \n",
      "1734         2011           72%      New Zealand    2.50  Forastero   \n",
      "1788         2012           68%          Austria    3.25  Forastero   \n",
      "1791         2011           65%          Austria    3.00  Forastero   \n",
      "1792         2011           65%          Austria    3.50  Forastero   \n",
      "\n",
      "     Broad Bean Origin  \n",
      "34              Brazil  \n",
      "43            Tanzania  \n",
      "63               Ghana  \n",
      "66               Ghana  \n",
      "136              Congo  \n",
      "...                ...  \n",
      "1704             Ghana  \n",
      "1734             Ghana  \n",
      "1788             Congo  \n",
      "1791             Congo  \n",
      "1792             India  \n",
      "\n",
      "[87 rows x 9 columns]\n"
     ]
    }
   ],
   "source": [
    "# 4.a.\n",
    "# ------------>>>>>>>> RUN THIS CODE CELL <<<<<<<<------------\n",
    "# --------  (run after implementation)\n",
    "# === CODE TYPE: SELF TESTING\n",
    "# Use the following code to test your implementation:\n",
    "\n",
    "file_name = 'data' + os.sep + 'flavors_of_cacao.csv'\n",
    "df_cocoa = load_csv(file_name)\n",
    "col_name_1, col_val_1 = 'Bean Type', 'Forastero'\n",
    "col_name_3, col_val_3 = 'Cocoa Percent', '100%'\n",
    "df_rows_pass_cond_1 = select_rows_by_cell_val(df_cocoa, col_name_1, col_val_1)\n",
    "df_rows_pass_cond_1_3 = select_rows_by_cell_val(df_rows_pass_cond_1, col_name_3, col_val_3)\n",
    "###\n",
    "### YOUR CODE HERE\n",
    "print(df_rows_pass_cond_1)\n",
    "###\n"
   ]
  },
  {
   "cell_type": "code",
   "execution_count": 42,
   "metadata": {
    "collapsed": true
   },
   "outputs": [],
   "source": [
    "# 4.a.\n",
    "# ------------>>>>>>>> RUN THIS CODE CELL <<<<<<<<------------\n",
    "# --------  (run after implementation, if used)\n",
    "# === CODE TYPE: SELF TESTING\n",
    "# Add your additional tests here if needed:\n",
    "\n",
    "###\n",
    "### YOUR CODE HERE\n",
    "###\n"
   ]
  },
  {
   "cell_type": "code",
   "execution_count": 43,
   "metadata": {
    "deletable": false,
    "editable": false,
    "nbgrader": {
     "grade": true,
     "grade_id": "test-4a_1-cond-match",
     "locked": true,
     "points": "0.2",
     "solution": false
    }
   },
   "outputs": [
    {
     "name": "stdout",
     "output_type": "stream",
     "text": [
      "Part 4.a. - Test 1 (0.2 points) - Sanity\n",
      "\t--->Testing the implementation of 'select_rows_by_cell_val' ...\n",
      "\n",
      "Good Job!\n",
      "You've passed the 1st test for the 'select_rows_by_cell_val' function implementation :-)\n"
     ]
    }
   ],
   "source": [
    "# 4.a.\n",
    "# ------------>>>>>>>> RUN THIS CODE CELL <<<<<<<<------------\n",
    "# --------  (run only)\n",
    "# === CODE TYPE: GRADED TEST \n",
    "\n",
    "print (\"Part 4.a. - Test 1 (0.2 points) - Sanity\")\n",
    "print (\"\\t--->Testing the implementation of 'select_rows_by_cell_val' ...\\n\")\n",
    "\n",
    "try:\n",
    "    file_name = 'data' + os.sep + 'flavors_of_cacao.csv'\n",
    "    df_chocolate = load_csv(file_name)\n",
    "    df_passes_cond_1 = select_rows_by_cell_val(df_chocolate, 'Bean Type', 'Forastero')\n",
    "except Exception as e:\n",
    "    print ('You probably have a syntax error, we got the following exception:')\n",
    "    print (str(e))\n",
    "\n",
    "print (\"Good Job!\\nYou've passed the 1st test for the 'select_rows_by_cell_val' function implementation :-)\")   "
   ]
  },
  {
   "cell_type": "code",
   "execution_count": 46,
   "metadata": {
    "deletable": false,
    "editable": false,
    "nbgrader": {
     "grade": true,
     "grade_id": "test-4a_2-cond-match",
     "locked": true,
     "points": "0.5",
     "solution": false
    }
   },
   "outputs": [
    {
     "name": "stdout",
     "output_type": "stream",
     "text": [
      "Part 4.a. - Test 2 (0.5 points)\n",
      "\t--->Testing the implementation of 'select_rows_by_cell_val' ...\n",
      "\n",
      "Good Job!\n",
      "You've passed the 2nd test for the 'select_rows_by_cell_val' function implementation :-)\n",
      "First few rows of the dataframe passing 1st condition:\n"
     ]
    },
    {
     "data": {
      "text/html": [
       "<div>\n",
       "<style scoped>\n",
       "    .dataframe tbody tr th:only-of-type {\n",
       "        vertical-align: middle;\n",
       "    }\n",
       "\n",
       "    .dataframe tbody tr th {\n",
       "        vertical-align: top;\n",
       "    }\n",
       "\n",
       "    .dataframe thead th {\n",
       "        text-align: right;\n",
       "    }\n",
       "</style>\n",
       "<table border=\"1\" class=\"dataframe\">\n",
       "  <thead>\n",
       "    <tr style=\"text-align: right;\">\n",
       "      <th></th>\n",
       "      <th>Company (Maker-if known)</th>\n",
       "      <th>Specific Bean Origin or Bar Name</th>\n",
       "      <th>REF</th>\n",
       "      <th>Review Date</th>\n",
       "      <th>Cocoa Percent</th>\n",
       "      <th>Company Location</th>\n",
       "      <th>Rating</th>\n",
       "      <th>Bean Type</th>\n",
       "      <th>Broad Bean Origin</th>\n",
       "    </tr>\n",
       "  </thead>\n",
       "  <tbody>\n",
       "    <tr>\n",
       "      <th>34</th>\n",
       "      <td>Akesson's (Pralus)</td>\n",
       "      <td>Monte Alegre, D. Badero</td>\n",
       "      <td>508</td>\n",
       "      <td>2010</td>\n",
       "      <td>75%</td>\n",
       "      <td>Switzerland</td>\n",
       "      <td>2.75</td>\n",
       "      <td>Forastero</td>\n",
       "      <td>Brazil</td>\n",
       "    </tr>\n",
       "    <tr>\n",
       "      <th>43</th>\n",
       "      <td>Alexandre</td>\n",
       "      <td>Makwale Village, Kyela</td>\n",
       "      <td>1944</td>\n",
       "      <td>2017</td>\n",
       "      <td>70%</td>\n",
       "      <td>Netherlands</td>\n",
       "      <td>3.50</td>\n",
       "      <td>Forastero</td>\n",
       "      <td>Tanzania</td>\n",
       "    </tr>\n",
       "    <tr>\n",
       "      <th>63</th>\n",
       "      <td>Amatller (Simon Coll)</td>\n",
       "      <td>Ghana</td>\n",
       "      <td>322</td>\n",
       "      <td>2009</td>\n",
       "      <td>70%</td>\n",
       "      <td>Spain</td>\n",
       "      <td>3.00</td>\n",
       "      <td>Forastero</td>\n",
       "      <td>Ghana</td>\n",
       "    </tr>\n",
       "    <tr>\n",
       "      <th>66</th>\n",
       "      <td>Amatller (Simon Coll)</td>\n",
       "      <td>Ghana</td>\n",
       "      <td>464</td>\n",
       "      <td>2009</td>\n",
       "      <td>85%</td>\n",
       "      <td>Spain</td>\n",
       "      <td>3.00</td>\n",
       "      <td>Forastero</td>\n",
       "      <td>Ghana</td>\n",
       "    </tr>\n",
       "    <tr>\n",
       "      <th>136</th>\n",
       "      <td>Artisan du Chocolat</td>\n",
       "      <td>Congo</td>\n",
       "      <td>300</td>\n",
       "      <td>2008</td>\n",
       "      <td>72%</td>\n",
       "      <td>U.K.</td>\n",
       "      <td>3.75</td>\n",
       "      <td>Forastero</td>\n",
       "      <td>Congo</td>\n",
       "    </tr>\n",
       "  </tbody>\n",
       "</table>\n",
       "</div>"
      ],
      "text/plain": [
       "    Company (Maker-if known) Specific Bean Origin or Bar Name   REF  \\\n",
       "34        Akesson's (Pralus)          Monte Alegre, D. Badero   508   \n",
       "43                 Alexandre           Makwale Village, Kyela  1944   \n",
       "63     Amatller (Simon Coll)                            Ghana   322   \n",
       "66     Amatller (Simon Coll)                            Ghana   464   \n",
       "136      Artisan du Chocolat                            Congo   300   \n",
       "\n",
       "     Review Date Cocoa Percent Company Location  Rating  Bean Type  \\\n",
       "34          2010           75%      Switzerland    2.75  Forastero   \n",
       "43          2017           70%      Netherlands    3.50  Forastero   \n",
       "63          2009           70%            Spain    3.00  Forastero   \n",
       "66          2009           85%            Spain    3.00  Forastero   \n",
       "136         2008           72%             U.K.    3.75  Forastero   \n",
       "\n",
       "    Broad Bean Origin  \n",
       "34             Brazil  \n",
       "43           Tanzania  \n",
       "63              Ghana  \n",
       "66              Ghana  \n",
       "136             Congo  "
      ]
     },
     "execution_count": 46,
     "metadata": {},
     "output_type": "execute_result"
    }
   ],
   "source": [
    "# 4.a.\n",
    "# ------------>>>>>>>> RUN THIS CODE CELL <<<<<<<<------------\n",
    "# --------  (run only)\n",
    "# === CODE TYPE: GRADED TEST \n",
    "\n",
    "print (\"Part 4.a. - Test 2 (0.5 points)\")\n",
    "print (\"\\t--->Testing the implementation of 'select_rows_by_cell_val' ...\\n\")\n",
    "\n",
    "try:\n",
    "    file_name = 'data' + os.sep + 'flavors_of_cacao.csv'\n",
    "    df_chocolate = load_csv(file_name)\n",
    "    df_passes_cond_1 = select_rows_by_cell_val(df_chocolate, 'Bean Type', 'Forastero')\n",
    "    num_of_rows    = get_number_of_rows(df_passes_cond_1)\n",
    "    num_of_columns = get_number_of_columns(df_passes_cond_1)\n",
    "except Exception as e:\n",
    "    print ('You probably have a syntax error, we got the following exception:')\n",
    "    print (str(e))\n",
    "    \n",
    "assert num_of_rows==87 and num_of_columns==9, \"Wrong number of rows or columns\"\n",
    "\n",
    "print (\"Good Job!\\nYou've passed the 2nd test for the 'select_rows_by_cell_val' function implementation :-)\")   \n",
    "\n",
    "print ('First few rows of the dataframe passing 1st condition:')\n",
    "df_passes_cond_1.head()"
   ]
  },
  {
   "cell_type": "code",
   "execution_count": 47,
   "metadata": {
    "deletable": false,
    "editable": false,
    "nbgrader": {
     "grade": true,
     "grade_id": "test-4a_3-cond-match",
     "locked": true,
     "points": "0.5",
     "solution": false
    }
   },
   "outputs": [
    {
     "name": "stdout",
     "output_type": "stream",
     "text": [
      "Part 4.a. - Test 3 (0.5 points)\n",
      "\t--->Testing the implementation of 'select_rows_by_cell_val'\n",
      "\t\t====> Full grading test - the following test can not be seen before submission ...\n"
     ]
    }
   ],
   "source": [
    "# 4.a.\n",
    "# ------------>>>>>>>> RUN THIS CODE CELL <<<<<<<<------------\n",
    "# --------  (run only)\n",
    "# === CODE TYPE: GRADED TEST \n",
    "\n",
    "print (\"Part 4.a. - Test 3 (0.5 points)\")\n",
    "print (\"\\t--->Testing the implementation of 'select_rows_by_cell_val'\")\n",
    "print (\"\\t\\t====> Full grading test - the following test can not be seen before submission ...\")\n",
    "\n",
    "###\n",
    "### AUTOGRADER TEST - DO NOT REMOVE\n",
    "###\n"
   ]
  },
  {
   "cell_type": "markdown",
   "metadata": {
    "deletable": false,
    "editable": false,
    "nbgrader": {
     "grade": false,
     "locked": true,
     "solution": false
    }
   },
   "source": [
    "#### 4.b. Select rows with value in given range"
   ]
  },
  {
   "cell_type": "markdown",
   "metadata": {},
   "source": [
    "### Instructions\n",
    "<u>method name</u>: <b>select_rows_w_vals_in_range</b>\n",
    "<pre>The following is expected:\n",
    "--- Complete the 'select_rows_w_vals_in_range' function to return only the rows \n",
    "    in a pandas dataframe, given in the parameter 'dataframe', for which \n",
    "    the values of some column given in the 'col_name' parameter, are \n",
    "    between the 'lower_range' and 'higher_range' (inculding lower_range and higher_range)\n",
    "</pre>"
   ]
  },
  {
   "cell_type": "code",
   "execution_count": 48,
   "metadata": {
    "collapsed": true
   },
   "outputs": [],
   "source": [
    "# 4.b.\n",
    "# ------------>>>>>>>> RUN THIS CODE CELL <<<<<<<<------------\n",
    "# --------  (run after implementation)\n",
    "# === CODE TYPE: ANSWER \n",
    "\n",
    "def select_rows_w_vals_in_range(dataframe, col_name, lower_range, higher_range):\n",
    "    ###\n",
    "    ### YOUR CODE HERE\n",
    "      return dataframe[(dataframe[col_name] >= lower_range) & (dataframe[col_name] <= higher_range)]\n",
    "    ###\n"
   ]
  },
  {
   "cell_type": "code",
   "execution_count": 49,
   "metadata": {},
   "outputs": [
    {
     "name": "stdout",
     "output_type": "stream",
     "text": [
      "       Company (Maker-if known) Specific Bean Origin or Bar Name   REF  \\\n",
      "34           Akesson's (Pralus)          Monte Alegre, D. Badero   508   \n",
      "43                    Alexandre           Makwale Village, Kyela  1944   \n",
      "63        Amatller (Simon Coll)                            Ghana   322   \n",
      "66        Amatller (Simon Coll)                            Ghana   464   \n",
      "136         Artisan du Chocolat                            Congo   300   \n",
      "...                         ...                              ...   ...   \n",
      "1704  Vanleer (Barry Callebaut)                             Napa   963   \n",
      "1734                 Whittakers                            Ghana   733   \n",
      "1788                     Zotter                 Kongo, Highlands   883   \n",
      "1791                     Zotter                            Congo   749   \n",
      "1792                     Zotter                     Kerala State   749   \n",
      "\n",
      "      Review Date Cocoa Percent Company Location  Rating  Bean Type  \\\n",
      "34           2010           75%      Switzerland    2.75  Forastero   \n",
      "43           2017           70%      Netherlands    3.50  Forastero   \n",
      "63           2009           70%            Spain    3.00  Forastero   \n",
      "66           2009           85%            Spain    3.00  Forastero   \n",
      "136          2008           72%             U.K.    3.75  Forastero   \n",
      "...           ...           ...              ...     ...        ...   \n",
      "1704         2012           65%           U.S.A.    2.75  Forastero   \n",
      "1734         2011           72%      New Zealand    2.50  Forastero   \n",
      "1788         2012           68%          Austria    3.25  Forastero   \n",
      "1791         2011           65%          Austria    3.00  Forastero   \n",
      "1792         2011           65%          Austria    3.50  Forastero   \n",
      "\n",
      "     Broad Bean Origin  \n",
      "34              Brazil  \n",
      "43            Tanzania  \n",
      "63               Ghana  \n",
      "66               Ghana  \n",
      "136              Congo  \n",
      "...                ...  \n",
      "1704             Ghana  \n",
      "1734             Ghana  \n",
      "1788             Congo  \n",
      "1791             Congo  \n",
      "1792             India  \n",
      "\n",
      "[87 rows x 9 columns]\n"
     ]
    }
   ],
   "source": [
    "# 4.b.\n",
    "# ------------>>>>>>>> RUN THIS CODE CELL <<<<<<<<------------\n",
    "# --------  (run after implementation)\n",
    "# === CODE TYPE: SELF TESTING\n",
    "# Use the following code to test your implementation:\n",
    "\n",
    "file_name = 'data' + os.sep + 'flavors_of_cacao.csv'\n",
    "df_cocoa = load_csv(file_name)\n",
    "col_name_1, col_val_1 = 'Bean Type', 'Forastero'\n",
    "col_name_2, col_lower_val_2, col_upper_val_2 = 'Review Date', 2015, 2017\n",
    "df_rows_pass_cond_1 = select_rows_by_cell_val(df_cocoa, col_name_1, col_val_1)\n",
    "df_rows_pass_cond_1_2 = select_rows_w_vals_in_range(df_rows_pass_cond_1, col_name_2, col_lower_val_2, col_upper_val_2)\n",
    "###\n",
    "### YOUR CODE HERE\n",
    "print(df_rows_pass_cond_1 )\n",
    "###\n"
   ]
  },
  {
   "cell_type": "code",
   "execution_count": 50,
   "metadata": {
    "collapsed": true
   },
   "outputs": [],
   "source": [
    "# 4.b.\n",
    "# ------------>>>>>>>> RUN THIS CODE CELL <<<<<<<<------------\n",
    "# --------  (run after implementation, if used)\n",
    "# === CODE TYPE: SELF TESTING\n",
    "# Add your additional tests here if needed:\n",
    "\n",
    "###\n",
    "### YOUR CODE HERE\n",
    "###\n"
   ]
  },
  {
   "cell_type": "code",
   "execution_count": 51,
   "metadata": {
    "deletable": false,
    "editable": false,
    "nbgrader": {
     "grade": true,
     "grade_id": "test-4b_1-cond-range",
     "locked": true,
     "points": "0.2",
     "solution": false
    }
   },
   "outputs": [
    {
     "name": "stdout",
     "output_type": "stream",
     "text": [
      "Part 4.b. - Test 1 (0.2 points) - Sanity\n",
      "\t--->Testing the implementation of 'select_rows_w_vals_in_range' ...\n",
      "Good Job!\n",
      "You've passed the 1st test for the 'select_rows_w_vals_in_range' function implementation :-)\n"
     ]
    }
   ],
   "source": [
    "# 4.b.\n",
    "# ------------>>>>>>>> RUN THIS CODE CELL <<<<<<<<------------\n",
    "# --------  (run only)\n",
    "# === CODE TYPE: GRADED TEST \n",
    "\n",
    "print (\"Part 4.b. - Test 1 (0.2 points) - Sanity\")\n",
    "print (\"\\t--->Testing the implementation of 'select_rows_w_vals_in_range' ...\")\n",
    "\n",
    "try:\n",
    "    file_name = 'data' + os.sep + 'flavors_of_cacao.csv'\n",
    "    df_chocolate = load_csv(file_name)\n",
    "    df_passes_cond_2 = select_rows_w_vals_in_range(df_chocolate, 'Review Date', 2015, 2017)\n",
    "except Exception as e:\n",
    "    print ('You probably have a syntax error, we got the following exception:')\n",
    "    print (str(e))\n",
    "\n",
    "print (\"Good Job!\\nYou've passed the 1st test for the 'select_rows_w_vals_in_range' function implementation :-)\")       "
   ]
  },
  {
   "cell_type": "code",
   "execution_count": 52,
   "metadata": {
    "deletable": false,
    "editable": false,
    "nbgrader": {
     "grade": true,
     "grade_id": "test-4b_2-cond-range",
     "locked": true,
     "points": "0.5",
     "solution": false
    }
   },
   "outputs": [
    {
     "name": "stdout",
     "output_type": "stream",
     "text": [
      "Part 4.b. - Test 2 (0.5 points)\n",
      "\t--->Testing the implementation of 'select_rows_by_cell_val' and 'select_rows_w_vals_in_range' ...\n",
      "Num of rows=14\n",
      "Num of columns=9\n",
      "Good Job!\n",
      "You've passed the 2nd test for the 'select_rows_by_cell_val' and 'select_rows_w_vals_in_range' function implementation :-)\n",
      "First few rows of the dataframe passing the conditions:\n"
     ]
    },
    {
     "data": {
      "text/html": [
       "<div>\n",
       "<style scoped>\n",
       "    .dataframe tbody tr th:only-of-type {\n",
       "        vertical-align: middle;\n",
       "    }\n",
       "\n",
       "    .dataframe tbody tr th {\n",
       "        vertical-align: top;\n",
       "    }\n",
       "\n",
       "    .dataframe thead th {\n",
       "        text-align: right;\n",
       "    }\n",
       "</style>\n",
       "<table border=\"1\" class=\"dataframe\">\n",
       "  <thead>\n",
       "    <tr style=\"text-align: right;\">\n",
       "      <th></th>\n",
       "      <th>Company (Maker-if known)</th>\n",
       "      <th>Specific Bean Origin or Bar Name</th>\n",
       "      <th>REF</th>\n",
       "      <th>Review Date</th>\n",
       "      <th>Cocoa Percent</th>\n",
       "      <th>Company Location</th>\n",
       "      <th>Rating</th>\n",
       "      <th>Bean Type</th>\n",
       "      <th>Broad Bean Origin</th>\n",
       "    </tr>\n",
       "  </thead>\n",
       "  <tbody>\n",
       "    <tr>\n",
       "      <th>43</th>\n",
       "      <td>Alexandre</td>\n",
       "      <td>Makwale Village, Kyela</td>\n",
       "      <td>1944</td>\n",
       "      <td>2017</td>\n",
       "      <td>70%</td>\n",
       "      <td>Netherlands</td>\n",
       "      <td>3.50</td>\n",
       "      <td>Forastero</td>\n",
       "      <td>Tanzania</td>\n",
       "    </tr>\n",
       "    <tr>\n",
       "      <th>403</th>\n",
       "      <td>Chocolate Makers</td>\n",
       "      <td>Congo, Gorilla bar</td>\n",
       "      <td>1530</td>\n",
       "      <td>2015</td>\n",
       "      <td>68%</td>\n",
       "      <td>Amsterdam</td>\n",
       "      <td>3.50</td>\n",
       "      <td>Forastero</td>\n",
       "      <td>Congo</td>\n",
       "    </tr>\n",
       "    <tr>\n",
       "      <th>521</th>\n",
       "      <td>De Villiers</td>\n",
       "      <td>Bundibugyo District</td>\n",
       "      <td>1832</td>\n",
       "      <td>2016</td>\n",
       "      <td>70%</td>\n",
       "      <td>South Africa</td>\n",
       "      <td>2.50</td>\n",
       "      <td>Forastero</td>\n",
       "      <td>Uganda</td>\n",
       "    </tr>\n",
       "    <tr>\n",
       "      <th>729</th>\n",
       "      <td>Georgia Ramon</td>\n",
       "      <td>ABOCFA Coop</td>\n",
       "      <td>1642</td>\n",
       "      <td>2015</td>\n",
       "      <td>70%</td>\n",
       "      <td>Germany</td>\n",
       "      <td>4.00</td>\n",
       "      <td>Forastero</td>\n",
       "      <td>Ghana</td>\n",
       "    </tr>\n",
       "    <tr>\n",
       "      <th>800</th>\n",
       "      <td>hello cocoa</td>\n",
       "      <td>Uganda</td>\n",
       "      <td>1458</td>\n",
       "      <td>2015</td>\n",
       "      <td>57%</td>\n",
       "      <td>U.S.A.</td>\n",
       "      <td>2.75</td>\n",
       "      <td>Forastero</td>\n",
       "      <td>Uganda</td>\n",
       "    </tr>\n",
       "  </tbody>\n",
       "</table>\n",
       "</div>"
      ],
      "text/plain": [
       "    Company (Maker-if known) Specific Bean Origin or Bar Name   REF  \\\n",
       "43                 Alexandre           Makwale Village, Kyela  1944   \n",
       "403         Chocolate Makers               Congo, Gorilla bar  1530   \n",
       "521              De Villiers              Bundibugyo District  1832   \n",
       "729            Georgia Ramon                      ABOCFA Coop  1642   \n",
       "800              hello cocoa                           Uganda  1458   \n",
       "\n",
       "     Review Date Cocoa Percent Company Location  Rating  Bean Type  \\\n",
       "43          2017           70%      Netherlands    3.50  Forastero   \n",
       "403         2015           68%        Amsterdam    3.50  Forastero   \n",
       "521         2016           70%     South Africa    2.50  Forastero   \n",
       "729         2015           70%          Germany    4.00  Forastero   \n",
       "800         2015           57%           U.S.A.    2.75  Forastero   \n",
       "\n",
       "    Broad Bean Origin  \n",
       "43           Tanzania  \n",
       "403             Congo  \n",
       "521            Uganda  \n",
       "729             Ghana  \n",
       "800            Uganda  "
      ]
     },
     "execution_count": 52,
     "metadata": {},
     "output_type": "execute_result"
    }
   ],
   "source": [
    "# 4.b.\n",
    "# ------------>>>>>>>> RUN THIS CODE CELL <<<<<<<<------------\n",
    "# --------  (run only)\n",
    "# === CODE TYPE: GRADED TEST \n",
    "\n",
    "print (\"Part 4.b. - Test 2 (0.5 points)\")\n",
    "print (\"\\t--->Testing the implementation of 'select_rows_by_cell_val' and 'select_rows_w_vals_in_range' ...\")\n",
    "\n",
    "try:\n",
    "    file_name = 'data' + os.sep + 'flavors_of_cacao.csv'\n",
    "    df_chocolate = load_csv(file_name)\n",
    "    df_passes_cond_1 = select_rows_by_cell_val(df_chocolate, 'Bean Type', 'Forastero')\n",
    "    df_passes_cond_1_2 = select_rows_w_vals_in_range(df_passes_cond_1, 'Review Date', 2015, 2017)\n",
    "    num_of_rows    = get_number_of_rows(df_passes_cond_1_2)\n",
    "    num_of_columns = get_number_of_columns(df_passes_cond_1_2)\n",
    "    print ('Num of rows=%d' %(num_of_rows))\n",
    "    print ('Num of columns=%d' %(num_of_columns))\n",
    "except Exception as e:\n",
    "    print ('You probably have a syntax error, we got the following exception:')\n",
    "    print (str(e))\n",
    "\n",
    "assert num_of_rows==14 and num_of_columns==9, \"Wrong number of rows or columns passing conditions 1, 2\"\n",
    "\n",
    "print (\"Good Job!\\nYou've passed the 2nd test for the 'select_rows_by_cell_val' and 'select_rows_w_vals_in_range' function implementation :-)\")       \n",
    "\n",
    "print ('First few rows of the dataframe passing the conditions:')\n",
    "df_passes_cond_1_2.head()"
   ]
  },
  {
   "cell_type": "code",
   "execution_count": 53,
   "metadata": {
    "deletable": false,
    "editable": false,
    "nbgrader": {
     "grade": true,
     "grade_id": "test-4b_3-cond-range",
     "locked": true,
     "points": "0.6",
     "solution": false
    }
   },
   "outputs": [
    {
     "name": "stdout",
     "output_type": "stream",
     "text": [
      "Part 4.b. - Test 3 (0.6 points)\n",
      "\t--->Testing the implementation of 'select_rows_by_cell_val' and 'select_rows_w_vals_in_range' ...\n",
      "\n",
      "\t====> Full grading test - the following test can not be seen before submission\n"
     ]
    }
   ],
   "source": [
    "# 4.b.\n",
    "# ------------>>>>>>>> RUN THIS CODE CELL <<<<<<<<------------\n",
    "# --------  (run only)\n",
    "# === CODE TYPE: GRADED TEST \n",
    "\n",
    "print (\"Part 4.b. - Test 3 (0.6 points)\")\n",
    "print (\"\\t--->Testing the implementation of 'select_rows_by_cell_val' and 'select_rows_w_vals_in_range' ...\")\n",
    "print (\"\\n\\t====> Full grading test - the following test can not be seen before submission\")\n",
    "\n",
    "###\n",
    "### AUTOGRADER TEST - DO NOT REMOVE\n",
    "###\n"
   ]
  },
  {
   "cell_type": "code",
   "execution_count": null,
   "metadata": {
    "collapsed": true
   },
   "outputs": [],
   "source": []
  }
 ],
 "metadata": {
  "kernelspec": {
   "display_name": "Python 3 [3.7]",
   "language": "python",
   "name": "python3"
  },
  "language_info": {
   "codemirror_mode": {
    "name": "ipython",
    "version": 3
   },
   "file_extension": ".py",
   "mimetype": "text/x-python",
   "name": "python",
   "nbconvert_exporter": "python",
   "pygments_lexer": "ipython3",
   "version": "3.7.5"
  }
 },
 "nbformat": 4,
 "nbformat_minor": 2
}
