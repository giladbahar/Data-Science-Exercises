{
 "cells": [
  {
   "cell_type": "markdown",
   "metadata": {
    "deletable": false,
    "editable": false,
    "nbgrader": {
     "grade": false,
     "locked": true,
     "solution": false
    }
   },
   "source": [
    "![Final Lesson Exercise](images/Banner_FEX.png)"
   ]
  },
  {
   "cell_type": "markdown",
   "metadata": {
    "deletable": false,
    "editable": false,
    "nbgrader": {
     "grade": false,
     "locked": true,
     "solution": false
    }
   },
   "source": [
    "# Lesson #7: Introduction to classification\n",
    "## Good Movies - The IMDb movie dataset"
   ]
  },
  {
   "cell_type": "markdown",
   "metadata": {
    "deletable": false,
    "editable": false,
    "nbgrader": {
     "grade": false,
     "locked": true,
     "solution": false
    }
   },
   "source": [
    "## About this assignment\n",
    "In this assignment, you will continue to explore information regarding good movies.<br/>\n",
    "\n",
    "This time you will practice a basic classification flow and perform the following steps:\n",
    "* Load the dataset\n",
    "* Split the dataset to train and test\n",
    "* Scale the data\n",
    "* Train a classification model\n",
    "* Predict new examples"
   ]
  },
  {
   "cell_type": "markdown",
   "metadata": {
    "deletable": false,
    "editable": false,
    "nbgrader": {
     "grade": false,
     "locked": true,
     "solution": false
    }
   },
   "source": [
    "## Preceding Step - import modules (packages)\n",
    "This step is necessary in order to use external packages. \n",
    "\n",
    "**Use the following libraries for the assignment, when needed**:"
   ]
  },
  {
   "cell_type": "code",
   "execution_count": 1,
   "metadata": {
    "collapsed": true,
    "deletable": false,
    "editable": false,
    "nbgrader": {
     "grade": false,
     "locked": true,
     "solution": false
    }
   },
   "outputs": [],
   "source": [
    "# ------------>>>>>>>> RUN THIS CODE CELL <<<<<<<<------------\n",
    "# === CELL TYPE: IMPORTS AND SETUP \n",
    "\n",
    "import os                           # for testing use only\n",
    "import pandas as pd\n",
    "import numpy as np\n",
    "import sklearn\n",
    "from sklearn import preprocessing, linear_model, model_selection\n",
    "from sklearn.preprocessing import StandardScaler, MinMaxScaler\n",
    "from sklearn.linear_model import LogisticRegression\n",
    "from sklearn.model_selection import train_test_split"
   ]
  },
  {
   "cell_type": "markdown",
   "metadata": {
    "deletable": false,
    "editable": false,
    "nbgrader": {
     "grade": false,
     "locked": true,
     "solution": false
    }
   },
   "source": [
    "## 1. Load the IMDb movie dataset\n",
    "In this section you will load the IMDB movie dataset and split the dataset to feature vectors (X) and labels (y)."
   ]
  },
  {
   "cell_type": "markdown",
   "metadata": {
    "deletable": false,
    "editable": false,
    "nbgrader": {
     "grade": false,
     "locked": true,
     "solution": false
    }
   },
   "source": [
    "### 1. Instructions\n",
    "<u>method name</u>: <b>load_dataset</b>\n",
    "<pre>The following is expected:\n",
    "--- Complete the 'load_dataset' function to  to load a CSV file from 'file_name' path,\n",
    "    remove the 'label_column' column, and return the rest of the dataframe as dataframe 'X' and\n",
    "    the removed 'label_column' column as series 'y'\n",
    "Notes: \n",
    "* The 'X' dataframe should not include the 'label_column' column.\n",
    "* The return statement should look similar to the following statement:\n",
    "return X, y\n",
    "</pre>"
   ]
  },
  {
   "cell_type": "code",
   "execution_count": 2,
   "metadata": {
    "collapsed": true
   },
   "outputs": [],
   "source": [
    "# 1.\n",
    "# ------------>>>>>>>> RUN THIS CODE CELL <<<<<<<<------------\n",
    "# --------  (run after implementation)\n",
    "# === CODE TYPE: ANSWER \n",
    "\n",
    "def load_dataset(file_name, label_column):\n",
    "    df = pd.read_csv(file_name)\n",
    "    y = df[label_column]  \n",
    "    X = df.drop(columns=[label_column])  \n",
    "    return X, y"
   ]
  },
  {
   "cell_type": "code",
   "execution_count": 3,
   "metadata": {},
   "outputs": [
    {
     "name": "stdout",
     "output_type": "stream",
     "text": [
      "      title_year    budget     gross  actor_1_facebook_likes\n",
      "0           2014  20000000  84518155                     989\n",
      "1           1999  21000000  52008288                     893\n",
      "2           2000  82000000  34543701                    3000\n",
      "3           1999  21500000  24362501                   12000\n",
      "4           2013   5000000  44456509                     399\n",
      "...          ...       ...       ...                     ...\n",
      "1980        1988  63000000  53715611                   13000\n",
      "1981        2012   3000000    418268                    4000\n",
      "1982        1995  35000000  70960517                   16000\n",
      "1983        2009  16000000  16204793                   24000\n",
      "1984        2015  13000000  14677654                     805\n",
      "\n",
      "[1985 rows x 4 columns] 0       0\n",
      "1       1\n",
      "2       0\n",
      "3       1\n",
      "4       1\n",
      "       ..\n",
      "1980    0\n",
      "1981    0\n",
      "1982    1\n",
      "1983    0\n",
      "1984    1\n",
      "Name: high_score, Length: 1985, dtype: int64\n"
     ]
    }
   ],
   "source": [
    "# 1.\n",
    "# ------------>>>>>>>> RUN THIS CODE CELL <<<<<<<<------------\n",
    "# --------  (run after implementation)\n",
    "# === CODE TYPE: SELF TESTING\n",
    "# Use the following code to test your implementation:\n",
    "file_name = '.' + os.sep + 'data' + os.sep + 'imdb-movies-good_or_bad_v1_5.csv'\n",
    "category_col_name = 'high_score'\n",
    "X, y = load_dataset(file_name, category_col_name)\n",
    "print(X,y)\n",
    "# --- add additional code to check your code if needed:\n",
    "###\n",
    "### YOUR CODE HERE\n",
    "###\n"
   ]
  },
  {
   "cell_type": "code",
   "execution_count": 4,
   "metadata": {
    "collapsed": true
   },
   "outputs": [],
   "source": [
    "# 1.\n",
    "# ------------>>>>>>>> RUN THIS CODE CELL <<<<<<<<------------\n",
    "# --------  (run after implementation, if used)\n",
    "# === CODE TYPE: SELF TESTING\n",
    "# ---- Add your additional tests here if needed:\n",
    "###\n",
    "### YOUR CODE HERE\n",
    "###\n"
   ]
  },
  {
   "cell_type": "code",
   "execution_count": 5,
   "metadata": {
    "deletable": false,
    "editable": false,
    "nbgrader": {
     "grade": true,
     "grade_id": "test1-1_load_dataset",
     "locked": true,
     "points": "0.1",
     "solution": false
    }
   },
   "outputs": [
    {
     "name": "stdout",
     "output_type": "stream",
     "text": [
      "Part 1. - Test 1 (name: test1-1_load_dataset, points: 0.1) - Sanity\n",
      "\t--->Testing the implementation of 'load_dataset' ...\n",
      "Good Job!\n",
      "You've passed the 1st test for the 'load_dataset' function implementation :-)\n"
     ]
    }
   ],
   "source": [
    "# 1.\n",
    "# ------------>>>>>>>> RUN THIS CODE CELL <<<<<<<<------------\n",
    "# --------  (run only)\n",
    "# === CODE TYPE: GRADED TEST \n",
    "\n",
    "print (\"Part 1. - Test 1 (name: test1-1_load_dataset, points: 0.1) - Sanity\")\n",
    "print (\"\\t--->Testing the implementation of 'load_dataset' ...\")\n",
    "file_name = '.' + os.sep + 'data' + os.sep + 'imdb-movies-good_or_bad_v1_5.csv'\n",
    "category_col_name = 'high_score'\n",
    "try:\n",
    "    X, y = load_dataset(file_name, category_col_name)\n",
    "except Exception as e:\n",
    "    print ('You probably have a syntax error, we got the following exception:')\n",
    "    print ('\\tError Message:', str(e))\n",
    "    print ('Try fixing your implementation')\n",
    "    raise \n",
    "    \n",
    "print (\"Good Job!\\nYou've passed the 1st test for the 'load_dataset' function implementation :-)\")\n"
   ]
  },
  {
   "cell_type": "code",
   "execution_count": 6,
   "metadata": {
    "deletable": false,
    "editable": false,
    "nbgrader": {
     "grade": true,
     "grade_id": "test1-2_load_dataset",
     "locked": true,
     "points": "0.9",
     "solution": false
    }
   },
   "outputs": [
    {
     "name": "stdout",
     "output_type": "stream",
     "text": [
      "Part 1. - Test 2 (name: test1-2_load_dataset, points: 0.9)\n",
      "\t--->Testing the implementation of 'load_dataset' ...\n",
      "Good Job!\n",
      "You've passed the 2nd test for the 'load_dataset' function implementation :-)\n"
     ]
    },
    {
     "data": {
      "text/html": [
       "<div>\n",
       "<style scoped>\n",
       "    .dataframe tbody tr th:only-of-type {\n",
       "        vertical-align: middle;\n",
       "    }\n",
       "\n",
       "    .dataframe tbody tr th {\n",
       "        vertical-align: top;\n",
       "    }\n",
       "\n",
       "    .dataframe thead th {\n",
       "        text-align: right;\n",
       "    }\n",
       "</style>\n",
       "<table border=\"1\" class=\"dataframe\">\n",
       "  <thead>\n",
       "    <tr style=\"text-align: right;\">\n",
       "      <th></th>\n",
       "      <th>title_year</th>\n",
       "      <th>budget</th>\n",
       "      <th>gross</th>\n",
       "      <th>actor_1_facebook_likes</th>\n",
       "    </tr>\n",
       "  </thead>\n",
       "  <tbody>\n",
       "    <tr>\n",
       "      <th>0</th>\n",
       "      <td>2014</td>\n",
       "      <td>20000000</td>\n",
       "      <td>84518155</td>\n",
       "      <td>989</td>\n",
       "    </tr>\n",
       "    <tr>\n",
       "      <th>1</th>\n",
       "      <td>1999</td>\n",
       "      <td>21000000</td>\n",
       "      <td>52008288</td>\n",
       "      <td>893</td>\n",
       "    </tr>\n",
       "    <tr>\n",
       "      <th>2</th>\n",
       "      <td>2000</td>\n",
       "      <td>82000000</td>\n",
       "      <td>34543701</td>\n",
       "      <td>3000</td>\n",
       "    </tr>\n",
       "    <tr>\n",
       "      <th>3</th>\n",
       "      <td>1999</td>\n",
       "      <td>21500000</td>\n",
       "      <td>24362501</td>\n",
       "      <td>12000</td>\n",
       "    </tr>\n",
       "    <tr>\n",
       "      <th>4</th>\n",
       "      <td>2013</td>\n",
       "      <td>5000000</td>\n",
       "      <td>44456509</td>\n",
       "      <td>399</td>\n",
       "    </tr>\n",
       "  </tbody>\n",
       "</table>\n",
       "</div>"
      ],
      "text/plain": [
       "   title_year    budget     gross  actor_1_facebook_likes\n",
       "0        2014  20000000  84518155                     989\n",
       "1        1999  21000000  52008288                     893\n",
       "2        2000  82000000  34543701                    3000\n",
       "3        1999  21500000  24362501                   12000\n",
       "4        2013   5000000  44456509                     399"
      ]
     },
     "execution_count": 6,
     "metadata": {},
     "output_type": "execute_result"
    }
   ],
   "source": [
    "# 1.\n",
    "# ------------>>>>>>>> RUN THIS CODE CELL <<<<<<<<------------\n",
    "# --------  (run only)\n",
    "# === CODE TYPE: GRADED TEST \n",
    "\n",
    "print (\"Part 1. - Test 2 (name: test1-2_load_dataset, points: 0.9)\")\n",
    "print (\"\\t--->Testing the implementation of 'load_dataset' ...\")\n",
    "\n",
    "file_name = '.' + os.sep + 'data' + os.sep + 'imdb-movies-good_or_bad_v1_5.csv'\n",
    "category_col_name = 'high_score'\n",
    "try:\n",
    "    X, y = load_dataset(file_name, category_col_name)\n",
    "except Exception as e:\n",
    "    print ('You probably have a syntax error, we got the following exception:')\n",
    "    print ('\\tError Message:', str(e))\n",
    "    print ('Try fixing your implementation')\n",
    "    raise \n",
    "assert X.shape == (1985, 4), 'Wrong shape for feature vector dataframe'\n",
    "assert y.shape[0] == 1985, 'Wrong number of lables in series'\n",
    "\n",
    "print (\"Good Job!\\nYou've passed the 2nd test for the 'load_dataset' function implementation :-)\")\n",
    "X.head()"
   ]
  },
  {
   "cell_type": "markdown",
   "metadata": {
    "deletable": false,
    "editable": false,
    "nbgrader": {
     "grade": false,
     "locked": true,
     "solution": false
    }
   },
   "source": [
    "## 2. Split dataset to train and test\n",
    "In this section you will split the dataset into a train set and a test set."
   ]
  },
  {
   "cell_type": "markdown",
   "metadata": {
    "deletable": false,
    "editable": false,
    "nbgrader": {
     "grade": false,
     "locked": true,
     "solution": false
    }
   },
   "source": [
    "### 2. Instructions\n",
    "<u>method name</u>: <b>split_to_train_and_test</b>\n",
    "<pre>The following is expected:\n",
    "--- Complete the 'split_to_train_and_test' function to split the dataset (already divided to X & y)\n",
    "    to a train set and test set.\n",
    "\n",
    "You should split the 'X' dataframe into a 'X_train', 'X_test', where the ratio of the test out of 'X' is 'test_ratio'.\n",
    "The 'y' series should be splitted in a corresponding way into 'y_train' and 'y_test'.\n",
    "\n",
    "Notes: \n",
    "* Use sklearn's 'train_test_split' method, which was taught in class (and is imported above)\n",
    "* Use the 'rand_state' as the value for the 'random_state' parameter in 'train_test_split'.\n",
    "\n",
    "The return statement should look similar to the following statement:\n",
    "return X_train, X_test, y_train, y_test\n",
    "</pre>"
   ]
  },
  {
   "cell_type": "code",
   "execution_count": 7,
   "metadata": {
    "collapsed": true
   },
   "outputs": [],
   "source": [
    "# 2.\n",
    "# ------------>>>>>>>> RUN THIS CODE CELL <<<<<<<<------------\n",
    "# --------  (run after implementation)\n",
    "# === CODE TYPE: ANSWER \n",
    "\n",
    "def split_to_train_and_test(X, y, test_ratio, rand_state):\n",
    "    X_train, X_test, y_train, y_test = train_test_split(\n",
    "        X, y, test_size=test_ratio, random_state=rand_state\n",
    "    )\n",
    "    return X_train, X_test, y_train, y_test"
   ]
  },
  {
   "cell_type": "code",
   "execution_count": 8,
   "metadata": {},
   "outputs": [
    {
     "name": "stdout",
     "output_type": "stream",
     "text": [
      "      title_year    budget     gross  actor_1_facebook_likes\n",
      "1017        2004  20000000  15712072                     787\n",
      "420         1990  60000000  82670733                   10000\n",
      "1107        2012    427000   2833383                    2000\n",
      "186         2009   8000000  16699684                   24000\n",
      "863         1994  10000000  29392418                     851\n",
      "...          ...       ...       ...                     ...\n",
      "321         1997  80000000  17593391                     766\n",
      "1104        2005  60000000  82931301                    3000\n",
      "1932        2005  30000000  43894863                     944\n",
      "931         2007  25000000  35000629                    1000\n",
      "1984        2015  13000000  14677654                     805\n",
      "\n",
      "[1389 rows x 4 columns]       title_year    budget      gross  actor_1_facebook_likes\n",
      "1427        2004  90000000   59475623                   11000\n",
      "1386        2000   9000000   20035310                    3000\n",
      "60          2005   8000000     127144                    8000\n",
      "354         1999   1200000     110720                     142\n",
      "340         2011  10000000    1754319                     749\n",
      "...          ...       ...        ...                     ...\n",
      "1833        2014  16000000   13998282                   12000\n",
      "1540        1994   8000000  107930000                   13000\n",
      "1549        2010    500000      98017                     353\n",
      "838         1985   2200000   30000000                     426\n",
      "370         2006  15000000   47860214                    1000\n",
      "\n",
      "[596 rows x 4 columns] 1017    0\n",
      "420     0\n",
      "1107    0\n",
      "186     0\n",
      "863     0\n",
      "       ..\n",
      "321     0\n",
      "1104    0\n",
      "1932    0\n",
      "931     0\n",
      "1984    1\n",
      "Name: high_score, Length: 1389, dtype: int64 1427    0\n",
      "1386    0\n",
      "60      0\n",
      "354     1\n",
      "340     1\n",
      "       ..\n",
      "1833    0\n",
      "1540    1\n",
      "1549    0\n",
      "838     0\n",
      "370     0\n",
      "Name: high_score, Length: 596, dtype: int64\n"
     ]
    }
   ],
   "source": [
    "# 2.\n",
    "# ------------>>>>>>>> RUN THIS CODE CELL <<<<<<<<------------\n",
    "# --------  (run after implementation)\n",
    "# === CODE TYPE: SELF TESTING\n",
    "# Use the following code to test your implementation:\n",
    "file_name = '.' + os.sep + 'data' + os.sep + 'imdb-movies-good_or_bad_v1_5.csv'\n",
    "category_col_name = 'high_score'\n",
    "X, y = load_dataset(file_name, category_col_name)\n",
    "X_train, X_test, y_train, y_test = split_to_train_and_test(X, y, 0.3, 41)\n",
    "print(X_train, X_test, y_train, y_test)\n",
    "# --- add additional code to check your code if needed:\n",
    "###\n",
    "### YOUR CODE HERE\n",
    "###\n"
   ]
  },
  {
   "cell_type": "code",
   "execution_count": 9,
   "metadata": {
    "collapsed": true
   },
   "outputs": [],
   "source": [
    "# 2.\n",
    "# ------------>>>>>>>> RUN THIS CODE CELL <<<<<<<<------------\n",
    "# --------  (run after implementation, if used)\n",
    "# === CODE TYPE: SELF TESTING\n",
    "# ---- Add your additional tests here if needed:\n",
    "###\n",
    "### YOUR CODE HERE\n",
    "###\n"
   ]
  },
  {
   "cell_type": "code",
   "execution_count": 10,
   "metadata": {
    "deletable": false,
    "editable": false,
    "nbgrader": {
     "grade": true,
     "grade_id": "test2-1_split_to_train_and_test",
     "locked": true,
     "points": "0.1",
     "solution": false
    }
   },
   "outputs": [
    {
     "name": "stdout",
     "output_type": "stream",
     "text": [
      "Part 2. - Test 1 (name: test2-1_split_to_train_and_test, points: 0.1) - Sanity\n",
      "\t--->Testing the implementation of 'split_to_train_and_test' ...\n",
      "Good Job!\n",
      "You've passed the 1st test for the 'split_to_train_and_test' function implementation :-)\n"
     ]
    }
   ],
   "source": [
    "# 2.\n",
    "# ------------>>>>>>>> RUN THIS CODE CELL <<<<<<<<------------\n",
    "# --------  (run only)\n",
    "# === CODE TYPE: GRADED TEST \n",
    "\n",
    "print (\"Part 2. - Test 1 (name: test2-1_split_to_train_and_test, points: 0.1) - Sanity\")\n",
    "print (\"\\t--->Testing the implementation of 'split_to_train_and_test' ...\")\n",
    "\n",
    "file_name = '.' + os.sep + 'data' + os.sep + 'imdb-movies-good_or_bad_v1_5.csv'\n",
    "category_col_name = 'high_score'\n",
    "try:\n",
    "    X, y = load_dataset(file_name, category_col_name)\n",
    "    X_train, X_test, y_train, y_test = split_to_train_and_test(X, y, 0.3, 41)\n",
    "except Exception as e:\n",
    "    print ('You probably have a syntax error, we got the following exception:')\n",
    "    print ('\\tError Message:', str(e))\n",
    "    print ('Try fixing your implementation')\n",
    "    raise \n",
    "\n",
    "print (\"Good Job!\\nYou've passed the 1st test for the 'split_to_train_and_test' function implementation :-)\")"
   ]
  },
  {
   "cell_type": "code",
   "execution_count": 11,
   "metadata": {
    "deletable": false,
    "editable": false,
    "nbgrader": {
     "grade": true,
     "grade_id": "test2-2_split_to_train_and_test",
     "locked": true,
     "points": "0.4",
     "solution": false
    }
   },
   "outputs": [
    {
     "name": "stdout",
     "output_type": "stream",
     "text": [
      "Part 2. - Test 2 (name: test2-2_split_to_train_and_test, points: 0.4)\n",
      "\t--->Testing the implementation of 'split_to_train_and_test' ...\n",
      "Good Job!\n",
      "You've passed the 2nd test for the 'split_to_train_and_test' function implementation :-)\n"
     ]
    }
   ],
   "source": [
    "# 2.\n",
    "# ------------>>>>>>>> RUN THIS CODE CELL <<<<<<<<------------\n",
    "# --------  (run only)\n",
    "# === CODE TYPE: GRADED TEST \n",
    "\n",
    "print (\"Part 2. - Test 2 (name: test2-2_split_to_train_and_test, points: 0.4)\")\n",
    "print (\"\\t--->Testing the implementation of 'split_to_train_and_test' ...\")\n",
    "\n",
    "file_name = '.' + os.sep + 'data' + os.sep + 'imdb-movies-good_or_bad_v1_5.csv'\n",
    "category_col_name = 'high_score'\n",
    "try:\n",
    "    X, y = load_dataset(file_name, category_col_name)\n",
    "    X_train, X_test, y_train, y_test = split_to_train_and_test(X, y, 0.3, 41)\n",
    "except Exception as e:\n",
    "    print ('You probably have a syntax error, we got the following exception:')\n",
    "    print ('\\tError Message:', str(e))\n",
    "    print ('Try fixing your implementation')\n",
    "    raise \n",
    "\n",
    "assert X_train.shape == (1389, 4), 'Wrong shape for feature vector train dataframe'\n",
    "assert X_test.shape == (596, 4), 'Wrong shape for feature vector test dataframe'\n",
    "assert y_train.shape[0] == 1389, 'Wrong number of lables in train series'\n",
    "assert y_test.shape[0] == 596, 'Wrong number of lables in  test series'\n",
    "\n",
    "print (\"Good Job!\\nYou've passed the 2nd test for the 'split_to_train_and_test' function implementation :-)\")"
   ]
  },
  {
   "cell_type": "code",
   "execution_count": 12,
   "metadata": {
    "deletable": false,
    "editable": false,
    "nbgrader": {
     "grade": true,
     "grade_id": "test2-3_split_to_train_and_test",
     "locked": true,
     "points": "0.5",
     "solution": false
    }
   },
   "outputs": [
    {
     "name": "stdout",
     "output_type": "stream",
     "text": [
      "Part 2. - Test 2 (name: test2-3_split_to_train_and_test, points: 0.5)\n",
      "\t--->Testing the implementation of 'split_to_train_and_test' ...\n",
      "Good Job!\n",
      "You've passed the 3rd test for the 'split_to_train_and_test' function implementation :-)\n"
     ]
    }
   ],
   "source": [
    "# 2.\n",
    "# ------------>>>>>>>> RUN THIS CODE CELL <<<<<<<<------------\n",
    "# --------  (run only)\n",
    "# === CODE TYPE: GRADED TEST  \n",
    "\n",
    "print (\"Part 2. - Test 2 (name: test2-3_split_to_train_and_test, points: 0.5)\")\n",
    "print (\"\\t--->Testing the implementation of 'split_to_train_and_test' ...\")\n",
    "\n",
    "file_name = '.' + os.sep + 'data' + os.sep + 'imdb-movies-good_or_bad_v1_5.csv'\n",
    "category_col_name = 'high_score'\n",
    "try:\n",
    "    X, y = load_dataset(file_name, category_col_name)\n",
    "    X_train, X_test, y_train, y_test = split_to_train_and_test(X, y, 0.3, 41)\n",
    "except Exception as e:\n",
    "    print ('You probably have a syntax error, we got the following exception:')\n",
    "    print ('\\tError Message:', str(e))\n",
    "    print ('Try fixing your implementation')\n",
    "    raise\n",
    "\n",
    "assert list(y_train.value_counts().values) == [785, 604], 'Wrong count of train label values'\n",
    "assert list(y_test.value_counts().values) == [337, 259], 'Wrong count of test label values'\n",
    "\n",
    "print (\"Good Job!\\nYou've passed the 3rd test for the 'split_to_train_and_test' function implementation :-)\")"
   ]
  },
  {
   "cell_type": "markdown",
   "metadata": {
    "deletable": false,
    "editable": false,
    "nbgrader": {
     "grade": false,
     "locked": true,
     "solution": false
    }
   },
   "source": [
    "## 3. Scale features\n",
    "In this section you will scale your dataset, using two possible scaling techniques:\n",
    "1. Minmax scaler (using sklearn's MinMaxScaler)\n",
    "+ Standard scaler (using sklearn's StandardScaler)\n",
    "\n",
    "You will perform a couple of tasks including:\n",
    "* Creating the scaler\n",
    "* Scale the train set\n",
    "* Scale the test set"
   ]
  },
  {
   "cell_type": "markdown",
   "metadata": {
    "deletable": false,
    "editable": false,
    "nbgrader": {
     "grade": false,
     "locked": true,
     "solution": false
    }
   },
   "source": [
    "### 3.a. Instructions\n",
    "<u>method name</u>: <b>scale_features</b>\n",
    "<pre>The following is expected:\n",
    "--- Complete the 'scale_features' function to create a scaler (Minmax scaler or Standard scaler) and \n",
    "    scale the given 'X_train' train set with the scaler. \n",
    "\n",
    "     If the value of 'scale_type' equals 'minmax', you should create a Minmax scaler object (using sklearn's MinMaxScaler).\n",
    "     If the value of 'scale_type' equals 'standard', you should create a Standard scaler object (using sklearn's StandardScaler).\n",
    "         Note: you could assume that the input values for 'scale_type' are either 'minmax' or 'standard'.\n",
    "     \n",
    "     Note: If 'scale_type' equals 'minmax'scale with 'feature_range=(0, 1)'\n",
    "\n",
    "Return the scaler object and the scaled 'X_train' train set.\n",
    "\n",
    "Note: the return statement should look similar to the following statement:\n",
    "return scaler, X_train_scaled\n",
    "</pre>"
   ]
  },
  {
   "cell_type": "code",
   "execution_count": 13,
   "metadata": {
    "collapsed": true
   },
   "outputs": [],
   "source": [
    "# 3.a.\n",
    "# ------------>>>>>>>> RUN THIS CODE CELL <<<<<<<<------------\n",
    "# --------  (run after implementation)\n",
    "# === CODE TYPE: ANSWER \n",
    "\n",
    "def scale_features(X_train, scale_type):\n",
    "    if scale_type == 'minmax':\n",
    "        scaler = MinMaxScaler(feature_range=(0, 1))\n",
    "    elif scale_type == 'standard':\n",
    "        scaler = StandardScaler()\n",
    "    else:\n",
    "        raise ValueError(\"scale_type must be either 'minmax' or 'standard'\")\n",
    "    \n",
    "    # Fit and transform the data\n",
    "    X_train_scaled = scaler.fit_transform(X_train)\n",
    "    \n",
    "    return scaler, X_train_scaled"
   ]
  },
  {
   "cell_type": "code",
   "execution_count": 14,
   "metadata": {},
   "outputs": [
    {
     "name": "stdout",
     "output_type": "stream",
     "text": [
      "StandardScaler() [[ 1.16063806e-01 -2.23695885e-01 -4.44050083e-01 -6.26762782e-01]\n",
      " [-1.62947120e+00  1.56040603e+00  1.74886745e+00  6.39003473e-01]\n",
      " [ 1.11351238e+00 -1.09670156e+00 -8.65831261e-01 -4.60109741e-01]\n",
      " ...\n",
      " [ 2.40744877e-01  2.22329594e-01  4.78945324e-01 -6.05192685e-01]\n",
      " [ 4.90107021e-01 -6.83145597e-04  1.87656319e-01 -5.97498893e-01]\n",
      " [ 1.48755560e+00 -5.35913721e-01 -4.77927603e-01 -6.24289777e-01]]\n"
     ]
    }
   ],
   "source": [
    "# 3.a.\n",
    "# ------------>>>>>>>> RUN THIS CODE CELL <<<<<<<<------------\n",
    "# --------  (run after implementation)\n",
    "# === CODE TYPE: SELF TESTING\n",
    "# Use the following code to test your implementation:\n",
    "\n",
    "file_name = '.' + os.sep + 'data' + os.sep + 'imdb-movies-good_or_bad_v1_5.csv'\n",
    "category_col_name = 'high_score'\n",
    "X, y = load_dataset(file_name, category_col_name)\n",
    "X_train, X_test, y_train, y_test = split_to_train_and_test(X, y, 0.3, 41)\n",
    "minmax_scaler, X_train_minmax_scaled = scale_features(X_train, 'minmax')\n",
    "standard_scaler, X_train_standard_scaled = scale_features(X_train, 'standard')\n",
    "print(standard_scaler, X_train_standard_scaled)\n",
    "# --- add additional code to check your code if needed:\n",
    "###\n",
    "### YOUR CODE HERE\n",
    "###\n"
   ]
  },
  {
   "cell_type": "code",
   "execution_count": 15,
   "metadata": {
    "collapsed": true
   },
   "outputs": [],
   "source": [
    "# 3.a.\n",
    "# ------------>>>>>>>> RUN THIS CODE CELL <<<<<<<<------------\n",
    "# --------  (run after implementation, if used)\n",
    "# === CODE TYPE: SELF TESTING\n",
    "# ---- Add your additional tests here if needed:\n",
    "###\n",
    "### YOUR CODE HERE\n",
    "###\n"
   ]
  },
  {
   "cell_type": "code",
   "execution_count": 16,
   "metadata": {
    "deletable": false,
    "editable": false,
    "nbgrader": {
     "grade": true,
     "grade_id": "test3a-1_scale_features",
     "locked": true,
     "points": "0.1",
     "solution": false
    }
   },
   "outputs": [
    {
     "name": "stdout",
     "output_type": "stream",
     "text": [
      "Part 3a. - Test 1 (name: test3a-1_scale_features, points: 0.1) - Sanity\n",
      "\t--->Testing the implementation of 'scale_features' ...\n",
      "Good Job!\n",
      "You've passed the 1st test for the 'scale_features' function implementation :-)\n"
     ]
    }
   ],
   "source": [
    "# 3.a.\n",
    "# ------------>>>>>>>> RUN THIS CODE CELL <<<<<<<<------------\n",
    "# --------  (run only)\n",
    "# === CODE TYPE: GRADED TEST \n",
    "\n",
    "print (\"Part 3a. - Test 1 (name: test3a-1_scale_features, points: 0.1) - Sanity\")\n",
    "print (\"\\t--->Testing the implementation of 'scale_features' ...\")\n",
    "file_name = '.' + os.sep + 'data' + os.sep + 'imdb-movies-good_or_bad_v1_5.csv'\n",
    "category_col_name = 'high_score'\n",
    "try:\n",
    "    X, y = load_dataset(file_name, category_col_name)\n",
    "    X_train, X_test, y_train, y_test = split_to_train_and_test(X, y, 0.3, 41)\n",
    "    minmax_scaler, X_train_minmax_scaled = scale_features(X_train, 'minmax')\n",
    "    standard_scaler, X_train_standard_scaled = scale_features(X_train, 'standard')\n",
    "except Exception as e:\n",
    "    print ('You probably have a syntax error, we got the following exception:')\n",
    "    print ('\\tError Message:', str(e))\n",
    "    print ('Try fixing your implementation')\n",
    "    raise \n",
    "    \n",
    "print (\"Good Job!\\nYou've passed the 1st test for the 'scale_features' function implementation :-)\")\n"
   ]
  },
  {
   "cell_type": "code",
   "execution_count": 17,
   "metadata": {
    "deletable": false,
    "editable": false,
    "nbgrader": {
     "grade": true,
     "grade_id": "test3a-2_scale_features",
     "locked": true,
     "points": "0.1",
     "solution": false
    }
   },
   "outputs": [
    {
     "name": "stdout",
     "output_type": "stream",
     "text": [
      "Part 3a. - Test 2 (name: test3a-2_scale_features, points: 0.1)\n",
      "\t--->Testing the implementation of 'scale_features' ...\n",
      "Good Job!\n",
      "You've passed the 2nd test for the 'scale_features' function implementation :-)\n"
     ]
    }
   ],
   "source": [
    "# 3.a.\n",
    "# ------------>>>>>>>> RUN THIS CODE CELL <<<<<<<<------------\n",
    "# --------  (run only)\n",
    "# === CODE TYPE: GRADED TEST \n",
    "\n",
    "print (\"Part 3a. - Test 2 (name: test3a-2_scale_features, points: 0.1)\")\n",
    "print (\"\\t--->Testing the implementation of 'scale_features' ...\")\n",
    "\n",
    "file_name = '.' + os.sep + 'data' + os.sep + 'imdb-movies-good_or_bad_v1_5.csv'\n",
    "category_col_name = 'high_score'\n",
    "try:\n",
    "    X, y = load_dataset(file_name, category_col_name)\n",
    "    X_train, X_test, y_train, y_test = split_to_train_and_test(X, y, 0.3, 41)\n",
    "    minmax_scaler, X_train_minmax_scaled = scale_features(X_train, 'minmax')\n",
    "    standard_scaler, X_train_standard_scaled = scale_features(X_train, 'standard')\n",
    "except Exception as e:\n",
    "    print ('You probably have a syntax error, we got the following exception:')\n",
    "    print ('\\tError Message:', str(e))\n",
    "    print ('Try fixing your implementation')\n",
    "    raise \n",
    "    \n",
    "assert X_train_minmax_scaled.shape == (1389, 4), 'Wrong shape for feature vectors in scaled train set'\n",
    "assert X_train_standard_scaled.shape == (1389, 4), 'Wrong shape for feature vectors in scaled train set'\n",
    "\n",
    "print (\"Good Job!\\nYou've passed the 2nd test for the 'scale_features' function implementation :-)\")"
   ]
  },
  {
   "cell_type": "code",
   "execution_count": 18,
   "metadata": {
    "deletable": false,
    "editable": false,
    "nbgrader": {
     "grade": true,
     "grade_id": "test3a-3_scale_features",
     "locked": true,
     "points": "0.4",
     "solution": false
    }
   },
   "outputs": [
    {
     "name": "stdout",
     "output_type": "stream",
     "text": [
      "Part 3a. - Test 3 (name: test3a-3_scale_features, points: 0.4)\n",
      "\t--->Testing the implementation of 'scale_features' ...\n",
      "Good Job!\n",
      "You've passed the 3rd test for the 'scale_features' function implementation :-)\n"
     ]
    }
   ],
   "source": [
    "# 3.a.\n",
    "# ------------>>>>>>>> RUN THIS CODE CELL <<<<<<<<------------\n",
    "# --------  (run only)\n",
    "# === CODE TYPE: GRADED TEST \n",
    "\n",
    "print (\"Part 3a. - Test 3 (name: test3a-3_scale_features, points: 0.4)\")\n",
    "print (\"\\t--->Testing the implementation of 'scale_features' ...\")\n",
    "\n",
    "file_name = '.' + os.sep + 'data' + os.sep + 'imdb-movies-good_or_bad_v1_5.csv'\n",
    "category_col_name = 'high_score'\n",
    "try:\n",
    "    X, y = load_dataset(file_name, category_col_name)\n",
    "    X_train, X_test, y_train, y_test = split_to_train_and_test(X, y, 0.3, 41)\n",
    "    minmax_scaler, X_train_minmax_scaled = scale_features(X_train, 'minmax')\n",
    "    standard_scaler, X_train_standard_scaled = scale_features(X_train, 'standard')\n",
    "except Exception as e:\n",
    "    print ('You probably have a syntax error, we got the following exception:')\n",
    "    print ('\\tError Message:', str(e))\n",
    "    print ('Try fixing your implementation')\n",
    "    raise \n",
    "\n",
    "assert standard_scaler is not None, 'Scaler should not be None'\n",
    "assert list(np.around(X_train_standard_scaled.mean(axis=0)+0.001, decimals=2)) == [0., 0., 0., 0.], 'Wrong standardized scaled train values'\n",
    "\n",
    "print (\"Good Job!\\nYou've passed the 3rd test for the 'scale_features' function implementation :-)\")"
   ]
  },
  {
   "cell_type": "code",
   "execution_count": 19,
   "metadata": {
    "deletable": false,
    "editable": false,
    "nbgrader": {
     "grade": true,
     "grade_id": "test3a-4_scale_features",
     "locked": true,
     "points": "0.4",
     "solution": false
    }
   },
   "outputs": [
    {
     "name": "stdout",
     "output_type": "stream",
     "text": [
      "Part 3a. - Test 4 (name: test3a-4_scale_features, points: 0.4)\n",
      "\t--->Testing the implementation of 'scale_features' ...\n",
      "Good Job!\n",
      "You've passed the 4th test for the 'scale_features' function implementation :-)\n"
     ]
    }
   ],
   "source": [
    "# 3.a.\n",
    "# ------------>>>>>>>> RUN THIS CODE CELL <<<<<<<<------------\n",
    "# --------  (run only)\n",
    "# === CODE TYPE: GRADED TEST \n",
    "\n",
    "print (\"Part 3a. - Test 4 (name: test3a-4_scale_features, points: 0.4)\")\n",
    "print (\"\\t--->Testing the implementation of 'scale_features' ...\")\n",
    "\n",
    "file_name = '.' + os.sep + 'data' + os.sep + 'imdb-movies-good_or_bad_v1_5.csv'\n",
    "category_col_name = 'high_score'\n",
    "try:\n",
    "    X, y = load_dataset(file_name, category_col_name)\n",
    "    X_train, X_test, y_train, y_test = split_to_train_and_test(X, y, 0.3, 41)\n",
    "    minmax_scaler, X_train_minmax_scaled = scale_features(X_train, 'minmax')\n",
    "    standard_scaler, X_train_standard_scaled = scale_features(X_train, 'standard')\n",
    "except Exception as e:\n",
    "    print ('You probably have a syntax error, we got the following exception:')\n",
    "    print ('\\tError Message:', str(e))\n",
    "    print ('Try fixing your implementation')\n",
    "    raise \n",
    "\n",
    "assert minmax_scaler is not None, 'Scaler should not be None'\n",
    "assert list(np.around(X_train_minmax_scaled.min(axis=0), decimals=2)) == [0., 0., 0., 0.], 'Wrong minmax scaled train values'\n",
    "\n",
    "print (\"Good Job!\\nYou've passed the 4th test for the 'scale_features' function implementation :-)\")"
   ]
  },
  {
   "cell_type": "markdown",
   "metadata": {
    "deletable": false,
    "editable": false,
    "nbgrader": {
     "grade": false,
     "locked": true,
     "solution": false
    }
   },
   "source": [
    "### 3.b. Instructions\n",
    "<u>method name</u>: <b>scale_test_features</b>\n",
    "<pre>The following is expected:\n",
    "--- Complete the 'scale_test_features' function to scale the given 'X_test' test set,\n",
    "     using the given 'scaler'.\n",
    "Note: inputs will be 'minmax_scaler' or 'standard_scaler'\n",
    "You need to return the scaled test set dataframe.\n",
    "</pre>"
   ]
  },
  {
   "cell_type": "code",
   "execution_count": 20,
   "metadata": {
    "collapsed": true
   },
   "outputs": [],
   "source": [
    "# 3.b.\n",
    "# ------------>>>>>>>> RUN THIS CODE CELL <<<<<<<<------------\n",
    "# --------  (run after implementation)\n",
    "# === CODE TYPE: ANSWER \n",
    "\n",
    "def scale_test_features(X_test, scaler):\n",
    "    X_test_scaled = scaler.transform(X_test)\n",
    "    return X_test_scaled"
   ]
  },
  {
   "cell_type": "code",
   "execution_count": 21,
   "metadata": {
    "collapsed": true
   },
   "outputs": [],
   "source": [
    "# 3.b.\n",
    "# ------------>>>>>>>> RUN THIS CODE CELL <<<<<<<<------------\n",
    "# --------  (run after implementation)\n",
    "# === CODE TYPE: SELF TESTING\n",
    "# Use the following code to test your implementation:\n",
    "file_name = '.' + os.sep + 'data' + os.sep + 'imdb-movies-good_or_bad_v1_5.csv'\n",
    "category_col_name = 'high_score'\n",
    "X, y = load_dataset(file_name, category_col_name)\n",
    "X_train, X_test, y_train, y_test = split_to_train_and_test(X, y, 0.3, 41)\n",
    "minmax_scaler, X_train_minmax_scaled = scale_features(X_train, 'minmax')\n",
    "X_test_minmax_scaled = scale_test_features(X_test, minmax_scaler)\n",
    "standard_scaler, X_train_standard_scaled = scale_features(X_train, 'standard')\n",
    "X_test_standard_scaled = scale_test_features(X_test, standard_scaler)\n",
    "# --- add additional code to check your code if needed:\n",
    "###\n",
    "### YOUR CODE HERE\n",
    "###\n"
   ]
  },
  {
   "cell_type": "code",
   "execution_count": 22,
   "metadata": {
    "collapsed": true
   },
   "outputs": [],
   "source": [
    "# 3.b.\n",
    "# ------------>>>>>>>> RUN THIS CODE CELL <<<<<<<<------------\n",
    "# --------  (run after implementation, if used)\n",
    "# === CODE TYPE: SELF TESTING\n",
    "# ---- Add your additional tests here if needed:\n",
    "###\n",
    "### YOUR CODE HERE\n",
    "###\n"
   ]
  },
  {
   "cell_type": "code",
   "execution_count": 23,
   "metadata": {
    "deletable": false,
    "editable": false,
    "nbgrader": {
     "grade": true,
     "grade_id": "test3b-1_scale_test_features",
     "locked": true,
     "points": "0.1",
     "solution": false
    }
   },
   "outputs": [
    {
     "name": "stdout",
     "output_type": "stream",
     "text": [
      "Part 3b. - Test 1 (name: test3b-1_scale_test_features, points: 0.1) - Sanity\n",
      "\t--->Testing the implementation of 'scale_test_features' ...\n",
      "Good Job!\n",
      "You've passed the 1st test for the 'scale_test_features' function implementation :-)\n"
     ]
    }
   ],
   "source": [
    "# 3.b.\n",
    "# ------------>>>>>>>> RUN THIS CODE CELL <<<<<<<<------------\n",
    "# --------  (run only)\n",
    "# === CODE TYPE: GRADED TEST \n",
    "\n",
    "print (\"Part 3b. - Test 1 (name: test3b-1_scale_test_features, points: 0.1) - Sanity\")\n",
    "print (\"\\t--->Testing the implementation of 'scale_test_features' ...\")\n",
    "\n",
    "file_name = '.' + os.sep + 'data' + os.sep + 'imdb-movies-good_or_bad_v1_5.csv'\n",
    "category_col_name = 'high_score'\n",
    "try:\n",
    "    X, y = load_dataset(file_name, category_col_name)\n",
    "    X_train, X_test, y_train, y_test = split_to_train_and_test(X, y, 0.3, 41)\n",
    "    minmax_scaler, X_train_minmax_scaled = scale_features(X_train, 'minmax')\n",
    "    X_test_minmax_scaled = scale_test_features(X_test, minmax_scaler)\n",
    "    standard_scaler, X_train_standard_scaled = scale_features(X_train, 'standard')\n",
    "    X_test_standard_scaled = scale_test_features(X_test, standard_scaler)\n",
    "except Exception as e:\n",
    "    print ('You probably have a syntax error, we got the following exception:')\n",
    "    print ('\\tError Message:', str(e))\n",
    "    print ('Try fixing your implementation')\n",
    "    raise \n",
    "\n",
    "print (\"Good Job!\\nYou've passed the 1st test for the 'scale_test_features' function implementation :-)\")"
   ]
  },
  {
   "cell_type": "code",
   "execution_count": 24,
   "metadata": {
    "deletable": false,
    "editable": false,
    "nbgrader": {
     "grade": true,
     "grade_id": "test3b-2_scale_test_features",
     "locked": true,
     "points": "0.1",
     "solution": false
    }
   },
   "outputs": [
    {
     "name": "stdout",
     "output_type": "stream",
     "text": [
      "Part 3b. - Test 2 (name: test3b-2_scale_test_features, points: 0.1)\n",
      "\t--->Testing the implementation of 'scale_test_features' ...\n",
      "Good Job!\n",
      "You've passed the 2nd test for the 'scale_test_features' function implementation :-)\n"
     ]
    }
   ],
   "source": [
    "# 3.b.\n",
    "# ------------>>>>>>>> RUN THIS CODE CELL <<<<<<<<------------\n",
    "# --------  (run only)\n",
    "# === CODE TYPE: GRADED TEST \n",
    "\n",
    "print (\"Part 3b. - Test 2 (name: test3b-2_scale_test_features, points: 0.1)\")\n",
    "print (\"\\t--->Testing the implementation of 'scale_test_features' ...\")\n",
    "\n",
    "file_name = '.' + os.sep + 'data' + os.sep + 'imdb-movies-good_or_bad_v1_5.csv'\n",
    "category_col_name = 'high_score'\n",
    "try:\n",
    "    X, y = load_dataset(file_name, category_col_name)\n",
    "    X_train, X_test, y_train, y_test = split_to_train_and_test(X, y, 0.3, 41)\n",
    "    minmax_scaler, X_train_minmax_scaled = scale_features(X_train, 'minmax')\n",
    "    X_test_minmax_scaled = scale_test_features(X_test, minmax_scaler)\n",
    "    standard_scaler, X_train_standard_scaled = scale_features(X_train, 'standard')\n",
    "    X_test_standard_scaled = scale_test_features(X_test, standard_scaler)\n",
    "except Exception as e:\n",
    "    print ('You probably have a syntax error, we got the following exception:')\n",
    "    print ('\\tError Message:', str(e))\n",
    "    print ('Try fixing your implementation')\n",
    "    raise \n",
    "    \n",
    "assert X_test_minmax_scaled.shape == (596, 4), 'Wrong  shape for feature vectors in scaled test set'\n",
    "assert X_test_standard_scaled.shape == (596, 4), 'Wrong  shape for feature vectors in scaled test set'\n",
    "\n",
    "print (\"Good Job!\\nYou've passed the 2nd test for the 'scale_test_features' function implementation :-)\")"
   ]
  },
  {
   "cell_type": "code",
   "execution_count": 25,
   "metadata": {
    "deletable": false,
    "editable": false,
    "nbgrader": {
     "grade": true,
     "grade_id": "test3b-3_scale_test_features",
     "locked": true,
     "points": "0.4",
     "solution": false
    }
   },
   "outputs": [
    {
     "name": "stdout",
     "output_type": "stream",
     "text": [
      "Part 3b. - Test 3 (name: test3b-3_scale_test_features, points: 0.4)\n",
      "\t--->Testing the implementation of 'scale_test_features' ...\n",
      "Test 2 - Testing the implementation of the 'scale_features' and the 'scale_test_features' methods ...\n",
      "\n",
      "Good Job!\n",
      "You've passed the 3rd test for the 'scale_test_features' function implementation :-)\n"
     ]
    }
   ],
   "source": [
    "# 3.b.\n",
    "# ------------>>>>>>>> RUN THIS CODE CELL <<<<<<<<------------\n",
    "# --------  (run only)\n",
    "# === CODE TYPE: GRADED TEST \n",
    "\n",
    "print (\"Part 3b. - Test 3 (name: test3b-3_scale_test_features, points: 0.4)\")\n",
    "print (\"\\t--->Testing the implementation of 'scale_test_features' ...\") \n",
    "\n",
    "print (\"Test 2 - Testing the implementation of the 'scale_features' and the 'scale_test_features' methods ...\\n\")\n",
    "\n",
    "file_name = '.' + os.sep + 'data' + os.sep + 'imdb-movies-good_or_bad_v1_5.csv'\n",
    "category_col_name = 'high_score'\n",
    "try:\n",
    "    X, y = load_dataset(file_name, category_col_name)\n",
    "    X_train, X_test, y_train, y_test = split_to_train_and_test(X, y, 0.3, 41)\n",
    "    minmax_scaler, X_train_minmax_scaled = scale_features(X_train, 'minmax')\n",
    "    X_test_minmax_scaled = scale_test_features(X_test, minmax_scaler)\n",
    "    standard_scaler, X_train_standard_scaled = scale_features(X_train, 'standard')\n",
    "    X_test_standard_scaled = scale_test_features(X_test, standard_scaler)\n",
    "except Exception as e:\n",
    "    print ('You probably have a syntax error, we got the following exception:')\n",
    "    print ('\\tError Message:', str(e))\n",
    "    print ('Try fixing your implementation')\n",
    "    raise \n",
    "    \n",
    "assert list(np.around(X_test_standard_scaled.max(axis=0), decimals=2)) == [1.61, 3.12, 3.3, 2.97], 'Wrong scaled test values'\n",
    "\n",
    "print (\"Good Job!\\nYou've passed the 3rd test for the 'scale_test_features' function implementation :-)\")"
   ]
  },
  {
   "cell_type": "code",
   "execution_count": 26,
   "metadata": {
    "deletable": false,
    "editable": false,
    "nbgrader": {
     "grade": true,
     "grade_id": "test3b-4_scale_test_features",
     "locked": true,
     "points": "0.4",
     "solution": false
    }
   },
   "outputs": [
    {
     "name": "stdout",
     "output_type": "stream",
     "text": [
      "Part 3b. - Test 4 (name: test3b-4_scale_test_features, points: 0.4)\n",
      "\t--->Testing the implementation of 'scale_test_features' ...\n",
      "Test 3 - Testing the implementation of the 'scale_features' and the 'scale_test_features' methods ...\n",
      "\n",
      "Good Job!\n",
      "You've passed the 4th test for the 'scale_test_features' function implementation :-)\n"
     ]
    }
   ],
   "source": [
    "# 3.b.\n",
    "# ------------>>>>>>>> RUN THIS CODE CELL <<<<<<<<------------\n",
    "# --------  (run only)\n",
    "# === CODE TYPE: GRADED TEST \n",
    "\n",
    "print (\"Part 3b. - Test 4 (name: test3b-4_scale_test_features, points: 0.4)\")\n",
    "print (\"\\t--->Testing the implementation of 'scale_test_features' ...\")\n",
    "\n",
    "print (\"Test 3 - Testing the implementation of the 'scale_features' and the 'scale_test_features' methods ...\\n\")\n",
    "\n",
    "file_name = '.' + os.sep + 'data' + os.sep + 'imdb-movies-good_or_bad_v1_5.csv'\n",
    "category_col_name = 'high_score'\n",
    "try:\n",
    "    X, y = load_dataset(file_name, category_col_name)\n",
    "    X_train, X_test, y_train, y_test = split_to_train_and_test(X, y, 0.3, 41)\n",
    "    minmax_scaler, X_train_minmax_scaled = scale_features(X_train, 'minmax')\n",
    "    X_test_minmax_scaled = scale_test_features(X_test, minmax_scaler)\n",
    "    standard_scaler, X_train_standard_scaled = scale_features(X_train, 'standard')\n",
    "    X_test_standard_scaled = scale_test_features(X_test, standard_scaler)\n",
    "except Exception as e:\n",
    "    print ('You probably have a syntax error, we got the following exception:')\n",
    "    print ('\\tError Message:', str(e))\n",
    "    print ('Try fixing your implementation')\n",
    "    raise \n",
    "    \n",
    "assert list(np.around(X_test_minmax_scaled.mean(axis=0)+0.001, decimals=2)) == [0.7, 0.27, 0.26, 0.19], 'Wrong scaled test values'\n",
    "\n",
    "print (\"Good Job!\\nYou've passed the 4th test for the 'scale_test_features' function implementation :-)\")"
   ]
  },
  {
   "cell_type": "markdown",
   "metadata": {
    "deletable": false,
    "editable": false,
    "nbgrader": {
     "grade": false,
     "locked": true,
     "solution": false
    }
   },
   "source": [
    "### 4. Train a classification model\n",
    "In this section you will train a classification model on your train set.<br/>\n",
    "You will build the classification model, using sklearn's LogisticRegression."
   ]
  },
  {
   "cell_type": "markdown",
   "metadata": {
    "deletable": false,
    "editable": false,
    "nbgrader": {
     "grade": false,
     "locked": true,
     "solution": false
    }
   },
   "source": [
    "### 4. Instructions\n",
    "<u>method name</u>: <b>train_classifier</b>\n",
    "<pre>The following is expected:\n",
    "Complete the 'train_classifier' function to train a logistic regression classification model\n",
    "Use given 'X_train' dataframe as features and the corresponding 'y_train' as labels.\n",
    "Return the classifier: Sklearn's LogisticRegression().fit()\n",
    "\n",
    "</pre>"
   ]
  },
  {
   "cell_type": "code",
   "execution_count": 27,
   "metadata": {
    "collapsed": true
   },
   "outputs": [],
   "source": [
    "# 4.\n",
    "# ------------>>>>>>>> RUN THIS CODE CELL <<<<<<<<------------\n",
    "# --------  (run after implementation)\n",
    "# === CODE TYPE: ANSWER \n",
    "\n",
    "def train_classifier(X_train, y_train):\n",
    "    classifier = LogisticRegression()\n",
    "\n",
    "    classifier.fit(X_train, y_train)\n",
    "\n",
    "    return classifier"
   ]
  },
  {
   "cell_type": "code",
   "execution_count": 28,
   "metadata": {},
   "outputs": [
    {
     "name": "stdout",
     "output_type": "stream",
     "text": [
      "<class 'sklearn.linear_model._logistic.LogisticRegression'>\n"
     ]
    }
   ],
   "source": [
    "# 4.\n",
    "# ------------>>>>>>>> RUN THIS CODE CELL <<<<<<<<------------\n",
    "# --------  (run after implementation)\n",
    "# === CODE TYPE: SELF TESTING\n",
    "# Use the following code to test your implementation:\n",
    "file_name = '.' + os.sep + 'data' + os.sep + 'imdb-movies-good_or_bad_v1_5.csv'\n",
    "category_col_name = 'high_score'\n",
    "X, y = load_dataset(file_name, category_col_name)\n",
    "X_train, X_test, y_train, y_test = split_to_train_and_test(X, y, 0.3, 11)\n",
    "minmax_scaler, X_train_minmax_scaled = scale_features(X_train, 'minmax')\n",
    "X_test_minmax_scaled = scale_test_features(X_test, minmax_scaler)\n",
    "standard_scaler, X_train_standard_scaled = scale_features(X_train, 'standard')\n",
    "X_test_standard_scaled = scale_test_features(X_test, standard_scaler)\n",
    "classification_model = train_classifier(X_train, y_train)\n",
    "classification_minmax_model = train_classifier(X_train_minmax_scaled, y_train)\n",
    "classification_standard_model = train_classifier(X_train_standard_scaled, y_train)\n",
    "print(type(classification_model))\n",
    "# --- add additional code to check your code if needed:\n",
    "###\n",
    "### YOUR CODE HERE\n",
    "###\n"
   ]
  },
  {
   "cell_type": "code",
   "execution_count": 29,
   "metadata": {
    "collapsed": true
   },
   "outputs": [],
   "source": [
    "# 4.\n",
    "# ------------>>>>>>>> RUN THIS CODE CELL <<<<<<<<------------\n",
    "# --------  (run after implementation, if used)\n",
    "# === CODE TYPE: SELF TESTING\n",
    "# ---- Add your additional tests here if needed:\n",
    "###\n",
    "### YOUR CODE HERE\n",
    "###\n"
   ]
  },
  {
   "cell_type": "code",
   "execution_count": 30,
   "metadata": {
    "deletable": false,
    "editable": false,
    "nbgrader": {
     "grade": true,
     "grade_id": "test4-1_train_classifier",
     "locked": true,
     "points": "0.1",
     "solution": false
    }
   },
   "outputs": [
    {
     "name": "stdout",
     "output_type": "stream",
     "text": [
      "Part 4. - Test 1 (name: test4-1_train_classifier, points: 0.1) - Sanity\n",
      "\t--->Testing the implementation of 'train_classifier' ...\n",
      "Good Job!\n",
      "You've passed the 1st test for the 'train_classifier' function implementation :-)\n"
     ]
    }
   ],
   "source": [
    "# 4.\n",
    "# ------------>>>>>>>> RUN THIS CODE CELL <<<<<<<<------------\n",
    "# --------  (run only)\n",
    "# === CODE TYPE: GRADED TEST \n",
    "\n",
    "print (\"Part 4. - Test 1 (name: test4-1_train_classifier, points: 0.1) - Sanity\")\n",
    "print (\"\\t--->Testing the implementation of 'train_classifier' ...\")\n",
    "\n",
    "file_name = '.' + os.sep + 'data' + os.sep + 'imdb-movies-good_or_bad_v1_5.csv'\n",
    "category_col_name = 'high_score'\n",
    "try:\n",
    "    X, y = load_dataset(file_name, category_col_name)\n",
    "    X_train, X_test, y_train, y_test = split_to_train_and_test(X, y, 0.3, 11)\n",
    "    minmax_scaler, X_train_minmax_scaled = scale_features(X_train, 'minmax')\n",
    "    X_test_minmax_scaled = scale_test_features(X_test, minmax_scaler)\n",
    "    standard_scaler, X_train_standard_scaled = scale_features(X_train, 'standard')\n",
    "    X_test_standard_scaled = scale_test_features(X_test, standard_scaler)\n",
    "    classification_model = train_classifier(X_train, y_train)\n",
    "    classification_minmax_model = train_classifier(X_train_minmax_scaled, y_train)\n",
    "    classification_standard_model = train_classifier(X_train_standard_scaled, y_train)\n",
    "except Exception as e:\n",
    "    print ('You probably have a syntax error, we got the following exception:')\n",
    "    print ('\\tError Message:', str(e))\n",
    "    print ('Try fixing your implementation')\n",
    "    raise \n",
    "    \n",
    "print (\"Good Job!\\nYou've passed the 1st test for the 'train_classifier' function implementation :-)\")"
   ]
  },
  {
   "cell_type": "code",
   "execution_count": 31,
   "metadata": {
    "deletable": false,
    "editable": false,
    "nbgrader": {
     "grade": true,
     "grade_id": "test4-2_train_classifier",
     "locked": true,
     "points": "0.4",
     "solution": false
    }
   },
   "outputs": [
    {
     "name": "stdout",
     "output_type": "stream",
     "text": [
      "Part 4. - Test 2 (name: test4-2_train_classifier, points: 0.4)\n",
      "\t--->Testing the implementation of 'train_classifier' ...\n",
      "Good Job!\n",
      "You've passed the 2nd test for the 'train_classifier' function implementation :-)\n"
     ]
    }
   ],
   "source": [
    "# ------------>>>>>>>> RUN THIS CODE CELL <<<<<<<<------------\n",
    "# --------  (run only)\n",
    "# === CODE TYPE: GRADED TEST \n",
    "\n",
    "print (\"Part 4. - Test 2 (name: test4-2_train_classifier, points: 0.4)\")\n",
    "print (\"\\t--->Testing the implementation of 'train_classifier' ...\")\n",
    "\n",
    "file_name = '.' + os.sep + 'data' + os.sep + 'imdb-movies-good_or_bad_v1_5.csv'\n",
    "category_col_name = 'high_score'\n",
    "try:\n",
    "    X, y = load_dataset(file_name, category_col_name)\n",
    "    X_train, X_test, y_train, y_test = split_to_train_and_test(X, y, 0.3, 11)\n",
    "    minmax_scaler, X_train_minmax_scaled = scale_features(X_train, 'minmax')\n",
    "    X_test_minmax_scaled = scale_test_features(X_test, minmax_scaler)\n",
    "    standard_scaler, X_train_standard_scaled = scale_features(X_train, 'standard')\n",
    "    X_test_standard_scaled = scale_test_features(X_test, standard_scaler)\n",
    "    classification_model = train_classifier(X_train, y_train)\n",
    "    classification_minmax_model = train_classifier(X_train_minmax_scaled, y_train)\n",
    "    classification_standard_model = train_classifier(X_train_standard_scaled, y_train)\n",
    "except Exception as e:\n",
    "    print ('You probably have a syntax error, we got the following exception:')\n",
    "    print ('\\tError Message:', str(e))\n",
    "    print ('Try fixing your implementation')\n",
    "    raise \n",
    "    \n",
    "assert sklearn.linear_model.LogisticRegression == type(classification_model), \"Wrong retured type from 'train_classifier' method, expected a 'LogisticRegression' object\"\n",
    "    \n",
    "print (\"Good Job!\\nYou've passed the 2nd test for the 'train_classifier' function implementation :-)\")"
   ]
  },
  {
   "cell_type": "code",
   "execution_count": 32,
   "metadata": {
    "deletable": false,
    "editable": false,
    "nbgrader": {
     "grade": true,
     "grade_id": "test4-3_train_classifier",
     "locked": true,
     "points": "0.5",
     "solution": false
    }
   },
   "outputs": [
    {
     "name": "stdout",
     "output_type": "stream",
     "text": [
      "Part 4. - Test 3 (name: test4-3_train_classifier, points: 0.5)\n",
      "\t--->Testing the implementation of 'train_classifier' ...\n",
      "Good Job!\n",
      "You've passed the 3rd test for the 'train_classifier' function implementation :-)\n"
     ]
    }
   ],
   "source": [
    "# ------------>>>>>>>> RUN THIS CODE CELL <<<<<<<<------------\n",
    "# --------  (run only)\n",
    "# === CODE TYPE: GRADED TEST \n",
    "\n",
    "print (\"Part 4. - Test 3 (name: test4-3_train_classifier, points: 0.5)\")\n",
    "print (\"\\t--->Testing the implementation of 'train_classifier' ...\")\n",
    "\n",
    "\n",
    "file_name = '.' + os.sep + 'data' + os.sep + 'imdb-movies-good_or_bad_v1_5.csv'\n",
    "category_col_name = 'high_score'\n",
    "try:\n",
    "    X, y = load_dataset(file_name, category_col_name)\n",
    "    X_train, X_test, y_train, y_test = split_to_train_and_test(X, y, 0.3, 11)\n",
    "    minmax_scaler, X_train_minmax_scaled = scale_features(X_train, 'minmax')\n",
    "    X_test_minmax_scaled = scale_test_features(X_test, minmax_scaler)\n",
    "    standard_scaler, X_train_standard_scaled = scale_features(X_train, 'standard')\n",
    "    X_test_standard_scaled = scale_test_features(X_test, standard_scaler)\n",
    "    classification_model = train_classifier(X_train, y_train)\n",
    "    classification_minmax_model = train_classifier(X_train_minmax_scaled, y_train)\n",
    "    classification_standard_model = train_classifier(X_train_standard_scaled, y_train)\n",
    "except Exception as e:\n",
    "    print ('You probably have a syntax error, we got the following exception:')\n",
    "    print ('\\tError Message:', str(e))\n",
    "    print ('Try fixing your implementation')\n",
    "    raise \n",
    "\n",
    "assert list(classification_minmax_model.classes_) == [0, 1], \"Wrong class values from 'LogisticRegression' object\"\n",
    "assert list(np.around(classification_standard_model.coef_, decimals=2)[0]) == [-0.15, -0.6, 0.33, 0.44], \"Wrong coefficient values from 'LogisticRegression' object\"\n",
    "    \n",
    "print (\"Good Job!\\nYou've passed the 3rd test for the 'train_classifier' function implementation :-)\")"
   ]
  },
  {
   "cell_type": "markdown",
   "metadata": {
    "deletable": false,
    "editable": false,
    "nbgrader": {
     "grade": false,
     "locked": true,
     "solution": false
    }
   },
   "source": [
    "### 5. Predict \n",
    "In this section you will use the trained classification model to predict the class of the examples from the test set."
   ]
  },
  {
   "cell_type": "markdown",
   "metadata": {
    "deletable": false,
    "editable": false,
    "nbgrader": {
     "grade": false,
     "locked": true,
     "solution": false
    }
   },
   "source": [
    "### 5. Instructions\n",
    "<u>method name</u>: <b>predict</b>\n",
    "<pre>The following is expected:\n",
    "--- Complete the 'predict' function to predict the class of each example in the given 'X_test' test set.\n",
    "\n",
    "Use the 'classifier.predict()' to predict the examples from the 'X_test'.\n",
    "\n",
    "You need to return a dataframe with only two columns (note the names):\n",
    "* 'Actual'    - contains the given 'y_test' actual labels of the test set.\n",
    "* 'Predicted' - contains the predicted values for each corresponding example in the test set.\n",
    "Note: The dataframe should have the same index as the index of 'y_test'.\n",
    "</pre>"
   ]
  },
  {
   "cell_type": "code",
   "execution_count": 33,
   "metadata": {
    "collapsed": true
   },
   "outputs": [],
   "source": [
    "# 5.\n",
    "# ------------>>>>>>>> RUN THIS CODE CELL <<<<<<<<------------\n",
    "# --------  (run after implementation)\n",
    "# === CODE TYPE: ANSWER \n",
    "\n",
    "def predict(classifier, X_test, y_test):\n",
    "   \n",
    "    predictions = classifier.predict(X_test)\n",
    "      \n",
    "    results = pd.DataFrame({\n",
    "        'Actual': y_test,\n",
    "        'Predicted': predictions\n",
    "    }, index=y_test.index)\n",
    "    \n",
    "    return results"
   ]
  },
  {
   "cell_type": "code",
   "execution_count": 34,
   "metadata": {
    "collapsed": true
   },
   "outputs": [],
   "source": [
    "# 5.\n",
    "# ------------>>>>>>>> RUN THIS CODE CELL <<<<<<<<------------\n",
    "# --------  (run after implementation)\n",
    "# === CODE TYPE: SELF TESTING\n",
    "# Use the following code to test your implementation:\n",
    "file_name = '.' + os.sep + 'data' + os.sep + 'imdb-movies-good_or_bad_v1_5.csv'\n",
    "category_col_name = 'high_score'\n",
    "X, y = load_dataset(file_name, category_col_name)\n",
    "X_train, X_test, y_train, y_test = split_to_train_and_test(X, y, 0.3, 11)\n",
    "minmax_scaler, X_train_minmax_scaled = scale_features(X_train, 'minmax')\n",
    "X_test_minmax_scaled = scale_test_features(X_test, minmax_scaler)\n",
    "standard_scaler, X_train_standard_scaled = scale_features(X_train, 'standard')\n",
    "X_test_standard_scaled = scale_test_features(X_test, standard_scaler)\n",
    "classification_model = train_classifier(X_train, y_train)\n",
    "classification_minmax_model = train_classifier(X_train_minmax_scaled, y_train)\n",
    "classification_standard_model = train_classifier(X_train_standard_scaled, y_train)\n",
    "df_res = predict(classification_model, X_test, y_test)\n",
    "df_minmax_res = predict(classification_minmax_model, X_test_minmax_scaled, y_test)\n",
    "df_standard_res = predict(classification_standard_model, X_test_standard_scaled, y_test)\n",
    "# --- add additional code to check your code if needed:\n",
    "###\n",
    "### YOUR CODE HERE\n",
    "###\n"
   ]
  },
  {
   "cell_type": "code",
   "execution_count": 35,
   "metadata": {
    "collapsed": true
   },
   "outputs": [],
   "source": [
    "# 5.\n",
    "# ------------>>>>>>>> RUN THIS CODE CELL <<<<<<<<------------\n",
    "# --------  (run after implementation, if used)\n",
    "# === CODE TYPE: SELF TESTING\n",
    "# ---- Add your additional tests here if needed:\n",
    "###\n",
    "### YOUR CODE HERE\n",
    "###\n"
   ]
  },
  {
   "cell_type": "code",
   "execution_count": 36,
   "metadata": {
    "deletable": false,
    "editable": false,
    "nbgrader": {
     "grade": true,
     "grade_id": "test5-1_predict",
     "locked": true,
     "points": "0.1",
     "solution": false
    }
   },
   "outputs": [
    {
     "name": "stdout",
     "output_type": "stream",
     "text": [
      "Part 5. - Test 1 (name: test5-1_predict, points: 0.1) - Sanity\n",
      "\t--->Testing the implementation of 'predict' ...\n",
      "Good Job!\n",
      "You've passed the 1st test for the 'predict' function implementation :-)\n"
     ]
    }
   ],
   "source": [
    "# 5.\n",
    "# ------------>>>>>>>> RUN THIS CODE CELL <<<<<<<<------------\n",
    "# --------  (run only)\n",
    "# === CODE TYPE: GRADED TEST \n",
    "\n",
    "print (\"Part 5. - Test 1 (name: test5-1_predict, points: 0.1) - Sanity\")\n",
    "print (\"\\t--->Testing the implementation of 'predict' ...\")\n",
    "\n",
    "file_name = '.' + os.sep + 'data' + os.sep + 'imdb-movies-good_or_bad_v1_5.csv'\n",
    "category_col_name = 'high_score'\n",
    "try:\n",
    "    X, y = load_dataset(file_name, category_col_name)\n",
    "    X_train, X_test, y_train, y_test = split_to_train_and_test(X, y, 0.3, 11)\n",
    "    minmax_scaler, X_train_minmax_scaled = scale_features(X_train, 'minmax')\n",
    "    X_test_minmax_scaled = scale_test_features(X_test, minmax_scaler)\n",
    "    standard_scaler, X_train_standard_scaled = scale_features(X_train, 'standard')\n",
    "    X_test_standard_scaled = scale_test_features(X_test, standard_scaler)\n",
    "    classification_model = train_classifier(X_train, y_train)\n",
    "    classification_minmax_model = train_classifier(X_train_minmax_scaled, y_train)\n",
    "    classification_standard_model = train_classifier(X_train_standard_scaled, y_train)\n",
    "    df_res = predict(classification_model, X_test, y_test)\n",
    "    df_minmax_res = predict(classification_minmax_model, X_test_minmax_scaled, y_test)\n",
    "    df_standard_res = predict(classification_standard_model, X_test_standard_scaled, y_test)\n",
    "except Exception as e:\n",
    "    print ('You probably have a syntax error, we got the following exception:')\n",
    "    print ('\\tError Message:', str(e))\n",
    "    print ('Try fixing your implementation')\n",
    "    raise \n",
    "    \n",
    "print (\"Good Job!\\nYou've passed the 1st test for the 'predict' function implementation :-)\")"
   ]
  },
  {
   "cell_type": "code",
   "execution_count": 37,
   "metadata": {
    "deletable": false,
    "editable": false,
    "nbgrader": {
     "grade": true,
     "grade_id": "test5-2_predict",
     "locked": true,
     "points": "0.4",
     "solution": false
    }
   },
   "outputs": [
    {
     "name": "stdout",
     "output_type": "stream",
     "text": [
      "Part 5. - Test 2 (name: test5-2_predict, points: 0.4)\n",
      "\t--->Testing the implementation of 'predict' ...\n",
      "Good Job!\n",
      "You've passed the 2nd test for the 'classifer_predict' function implementation :-)\n"
     ]
    }
   ],
   "source": [
    "# 5.\n",
    "# ------------>>>>>>>> RUN THIS CODE CELL <<<<<<<<------------\n",
    "# --------  (run only)\n",
    "# === CODE TYPE: GRADED TEST \n",
    "\n",
    "print (\"Part 5. - Test 2 (name: test5-2_predict, points: 0.4)\")\n",
    "print (\"\\t--->Testing the implementation of 'predict' ...\")\n",
    "\n",
    "file_name = '.' + os.sep + 'data' + os.sep + 'imdb-movies-good_or_bad_v1_5.csv'\n",
    "category_col_name = 'high_score'\n",
    "try:\n",
    "    X, y = load_dataset(file_name, category_col_name)\n",
    "    X_train, X_test, y_train, y_test = split_to_train_and_test(X, y, 0.3, 11)\n",
    "    minmax_scaler, X_train_minmax_scaled = scale_features(X_train, 'minmax')\n",
    "    X_test_minmax_scaled = scale_test_features(X_test, minmax_scaler)\n",
    "    standard_scaler, X_train_standard_scaled = scale_features(X_train, 'standard')\n",
    "    X_test_standard_scaled = scale_test_features(X_test, standard_scaler)\n",
    "    classification_model = train_classifier(X_train, y_train)\n",
    "    classification_minmax_model = train_classifier(X_train_minmax_scaled, y_train)\n",
    "    classification_standard_model = train_classifier(X_train_standard_scaled, y_train)\n",
    "    df_res = predict(classification_model, X_test, y_test)\n",
    "    df_minmax_res = predict(classification_minmax_model, X_test_minmax_scaled, y_test)\n",
    "    df_standard_res = predict(classification_standard_model, X_test_standard_scaled, y_test)\n",
    "except Exception as e:\n",
    "    print ('You probably have a syntax error, we got the following exception:')\n",
    "    print ('\\tError Message:', str(e))\n",
    "    print ('Try fixing your implementation')\n",
    "    raise \n",
    "    \n",
    "n_res = 596    \n",
    "assert df_res.shape == (n_res, 2), 'Wrong  shape for prediction result dataframe'\n",
    "assert sorted(list(df_res.columns)) == ['Actual', 'Predicted'], 'Wrong  column names in dataframe'\n",
    "assert df_minmax_res.shape == (n_res, 2), 'Wrong shape for prediction result dataframe'\n",
    "assert sorted(list(df_minmax_res.columns)) == ['Actual', 'Predicted'], 'Wrong  column names in dataframe'\n",
    "assert df_standard_res.shape == (n_res, 2), 'Wrong shape for prediction result dataframe'\n",
    "assert sorted(list(df_standard_res.columns)) == ['Actual', 'Predicted'], 'Wrong  column names in dataframe'\n",
    "    \n",
    "print (\"Good Job!\\nYou've passed the 2nd test for the 'classifer_predict' function implementation :-)\")"
   ]
  },
  {
   "cell_type": "code",
   "execution_count": 38,
   "metadata": {
    "deletable": false,
    "editable": false,
    "nbgrader": {
     "grade": true,
     "grade_id": "test5-3_predict",
     "locked": true,
     "points": "0.5",
     "solution": false
    }
   },
   "outputs": [
    {
     "name": "stdout",
     "output_type": "stream",
     "text": [
      "Part 5. - Test 3 (name: test5-3_predict, points: 0.5)\n",
      "\t--->Testing the implementation of 'predict' ...\n",
      "Good Job!\n",
      "You've passed the 3rd test for the 'classifer_predict' function implementation :-)\n"
     ]
    }
   ],
   "source": [
    "# 5.\n",
    "# ------------>>>>>>>> RUN THIS CODE CELL <<<<<<<<------------\n",
    "# --------  (run only)\n",
    "# === CODE TYPE: GRADED TEST \n",
    "\n",
    "print (\"Part 5. - Test 3 (name: test5-3_predict, points: 0.5)\")\n",
    "print (\"\\t--->Testing the implementation of 'predict' ...\")\n",
    "\n",
    "file_name = '.' + os.sep + 'data' + os.sep + 'imdb-movies-good_or_bad_v1_5.csv'\n",
    "category_col_name = 'high_score'\n",
    "try:\n",
    "    X, y = load_dataset(file_name, category_col_name)\n",
    "    X_train, X_test, y_train, y_test = split_to_train_and_test(X, y, 0.3, 11)\n",
    "    minmax_scaler, X_train_minmax_scaled = scale_features(X_train, 'minmax')\n",
    "    X_test_minmax_scaled = scale_test_features(X_test, minmax_scaler)\n",
    "    standard_scaler, X_train_standard_scaled = scale_features(X_train, 'standard')\n",
    "    X_test_standard_scaled = scale_test_features(X_test, standard_scaler)\n",
    "    classification_model = train_classifier(X_train, y_train)\n",
    "    classification_minmax_model = train_classifier(X_train_minmax_scaled, y_train)\n",
    "    classification_standard_model = train_classifier(X_train_standard_scaled, y_train)\n",
    "    df_res = predict(classification_model, X_test, y_test)\n",
    "    df_minmax_res = predict(classification_minmax_model, X_test_minmax_scaled, y_test)\n",
    "    df_standard_res = predict(classification_standard_model, X_test_standard_scaled, y_test)\n",
    "except Exception as e:\n",
    "    print ('You probably have a syntax error, we got the following exception:')\n",
    "    print ('\\tError Message:', str(e))\n",
    "    print ('Try fixing your implementation')\n",
    "    raise \n",
    "    \n",
    "n_res = 596    \n",
    "df_res['Incorrect'] = np.abs((df_res['Actual']-df_res['Predicted']).values)\n",
    "df_minmax_res['Incorrect'] = np.abs((df_minmax_res['Actual']-df_minmax_res['Predicted']).values)\n",
    "df_standard_res['Incorrect'] = np.abs((df_standard_res['Actual']-df_standard_res['Predicted']).values)\n",
    "assert n_res - df_res['Incorrect'].sum() == 378, 'Wrong number of correct values'\n",
    "assert n_res - df_minmax_res['Incorrect'].sum() == 386, 'Wrong number of correct values for minmax scaled'\n",
    "assert n_res - df_standard_res['Incorrect'].sum() == 382, 'Wrong number of correct values for standard scaled'\n",
    "    \n",
    "print (\"Good Job!\\nYou've passed the 3rd test for the 'classifer_predict' function implementation :-)\")"
   ]
  }
 ],
 "metadata": {
  "kernelspec": {
   "display_name": "Python 3.8",
   "language": "python",
   "name": "python38"
  },
  "language_info": {
   "codemirror_mode": {
    "name": "ipython",
    "version": 3
   },
   "file_extension": ".py",
   "mimetype": "text/x-python",
   "name": "python",
   "nbconvert_exporter": "python",
   "pygments_lexer": "ipython3",
   "version": "3.8.7"
  }
 },
 "nbformat": 4,
 "nbformat_minor": 2
}
