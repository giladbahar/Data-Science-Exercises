{
 "cells": [
  {
   "cell_type": "markdown",
   "metadata": {
    "deletable": false,
    "editable": false,
    "nbgrader": {
     "grade": false,
     "locked": true,
     "solution": false
    }
   },
   "source": [
    "![Final Lesson Exercise](images/Banner_FEX.png)"
   ]
  },
  {
   "cell_type": "markdown",
   "metadata": {
    "deletable": false,
    "editable": false,
    "nbgrader": {
     "grade": false,
     "locked": true,
     "solution": false
    }
   },
   "source": [
    "# Lesson #2: Data Science Introduction \n",
    "## Good chocolate (cont)"
   ]
  },
  {
   "cell_type": "markdown",
   "metadata": {
    "deletable": false,
    "editable": false,
    "nbgrader": {
     "grade": false,
     "locked": true,
     "solution": false
    }
   },
   "source": [
    "## About this assignment\n",
    "In this assignment, you will continue to explore information regarding good chocolate.<br/>\n",
    "\n",
    "This time you will do so, using new capabilities, namely web APIs."
   ]
  },
  {
   "cell_type": "markdown",
   "metadata": {},
   "source": [
    "## Preceding Step - import modules (packages)\n",
    "This step is necessary in order to use external packages. \n",
    "\n",
    "**Use the following libraries for the assignment, when needed**:"
   ]
  },
  {
   "cell_type": "code",
   "execution_count": 19,
   "metadata": {
    "collapsed": true,
    "deletable": false,
    "editable": false,
    "nbgrader": {
     "grade": false,
     "locked": true,
     "solution": false
    }
   },
   "outputs": [],
   "source": [
    "# ------------>>>>>>>> RUN THIS CODE CELL <<<<<<<<------------\n",
    "# === CELL TYPE: IMPORTS AND SETUP \n",
    "\n",
    "import pandas as pd\n",
    "import numpy as np\n",
    "\n",
    "import requests\n",
    "import json\n",
    "# ---\n",
    "import os # for testing only\n",
    "# ---"
   ]
  },
  {
   "cell_type": "code",
   "execution_count": null,
   "metadata": {
    "collapsed": true
   },
   "outputs": [],
   "source": []
  },
  {
   "cell_type": "markdown",
   "metadata": {
    "deletable": false,
    "editable": false,
    "nbgrader": {
     "grade": false,
     "locked": true,
     "solution": false
    }
   },
   "source": [
    "# 1. Using a web-API to acquire data\n",
    "<a id=\"dataset_desc\"></a>\n",
    "## The data - the quality chocolate database\n",
    "In this section, You will continue exploring the attributes of quality chocolate.<br />\n",
    "You will query a database on a distant server, using a web-API.<br/>\n",
    "This database holds information about quality chocolate in a dedicated table.<br/>\n",
    "\n",
    "<b>The table consists of the following attributes</b>:\n",
    " * company, name, review_date, cocoa_percent, company_location, ,rating, broad_bean_origin, bean_type. \n",
    "\n",
    "You can see below a sample of 5 rows:\n",
    "\n",
    "| company | name | review_date | cocoa_percent | company_location | rating | broad_bean_origin | bean_type |\n",
    "| :- | :- | :- | :- | :- | :- | :- | :- |\n",
    "| Castronovo | Tumbes | 2013 | 70 | U.S.A. | 2.75 | Peru | Criollo |\n",
    "| Blue Bandana | Akesson's E., Sambirano V. | 2016 | 82 | U.S.A. | 3.5 | Madagascar | Trinitario |\n",
    "| Grenada Chocolate Co. | Grenada | 2008 | 71 | Grenada | 2.5 | Grenada | Trinitario |\n",
    "| Heirloom Cacao Preservation (Brasstown) | Maya Mtn, Moho R., Toledo D., 2015 | 2016 | 70 | U.S.A. | 3.25 | Belize | Amazon |\n",
    "| Scharffen Berger | Kumasi Sambirano | 2006 | 68 | U.S.A. | 2 | Ghana & Madagascar | Blend |\n",
    "| Coppeneur | Los Rios, H. Iara | 2010 | 72 | Germany | 2.5 | Ecuador | Nacional |"
   ]
  },
  {
   "cell_type": "markdown",
   "metadata": {
    "deletable": false,
    "editable": false,
    "nbgrader": {
     "grade": false,
     "locked": true,
     "solution": false
    }
   },
   "source": [
    "## Acquiring the data - about the web-API\n",
    "In the above [The data - the quality chocolate database](#dataset_desc) section you could see a list of the attributes which you could query, using the web-API.\n",
    "\n",
    "<b>For each of these attributes we can apply one of the following 2 criteria</b>:\n",
    "* “<b>refine</b>” – filter rows to match specific parameter values\n",
    "   * For instance if we use a query which contains the string: <i>refine.rating=3.5</i><br/>\n",
    "        This means - we want only records, which contain a 'rating' (one of the attribute names) of 3.5 <br/>\n",
    "        \n",
    "* “<b>exclude</b>” – exclude rows that contain specific parameter values.\n",
    "   * For instance if we use a query which contains the string: <i>exclude.company_location=Peru</i><br/>\n",
    "        This means - we want only records, which DO NOT contain the 'company_location' (one of the attribute names) of Peru <br/>\n",
    "\n",
    "If we add another constraint, in which we state we want reviews from 2015, then <b>the query string should look as following</b>:\n",
    "http://3.136.25.169:8080/api/records/1.0/search?dataset=chocolate-bars&exclude.company_location=Peru&refine.review_date=2015&refine.rating=3.5\n",
    "\n",
    "<b>Web-API URL address notice</b>:\n",
    "<div class=\"alert alert-success\">\n",
    "&#x2714; The web-API calls a server located in <a href=\"http://3.136.25.169:8080\">3.136.25.169:8080</a><br />\n",
    "    &#x2714; We query the chocolate-bars dataset, using: <b>dataset=chocolate-bars</b><br />\n",
    "&#x2714; The prefix of the query should look like this: <b>http://3.136.25.169:8080/api/records/1.0/search?dataset=chocolate-bars</b><br />\n",
    "</div>\n",
    "\n",
    "<b>Note</b>: This web-API uses the rules of the opendatasoft search web-API.<br/>\n",
    "Please refer to the [Search web-API rules documentation](https://help.opendatasoft.com/apis/ods-search-v1/#refining), for additional information, about the API rules."
   ]
  },
  {
   "cell_type": "markdown",
   "metadata": {
    "deletable": false,
    "editable": false,
    "nbgrader": {
     "grade": false,
     "locked": true,
     "solution": false
    }
   },
   "source": [
    "## 1. Using a web-API to acquire data\n",
    "\n",
    "### Instructions\n",
    "<u>method name</u>: <b>get_res_for_API_query</b>\n",
    "<pre>The following is expected:\n",
    "--- Complete the 'get_res_for_API_query' function to get the result from\n",
    "    the chocolate-bar API, as explained above.\n",
    "--------\n",
    "Parameters:\n",
    "'included_field_value_pairs' - For example, [('review_date', '2015'),\n",
    "                                     ('company', 'Acalli')] - \n",
    "                  means that the 'review_date' must be equal to '2015' and the 'company' \n",
    "                  must be equal to 'Acalli'.\n",
    "                  * Note: the 'included_field_value_pairs' parameter might be empty.\n",
    "                          In such a case, do not add any 'refine' constraint.      \n",
    "'excluded_field_value_pairs' - For example, [('company_location', 'Peru')] -\n",
    "                  means that the 'company_location' MUST NOT be equal to 'Peru'\n",
    "                  * Note: the 'excluded_field_value_pairs' parameter might be empty.\n",
    "                          In such a case, do not add any 'exclude' constraint.\n",
    "--------\n",
    "The returned value needs to be the object returned from requests.get(str_query)    \n",
    "</pre>"
   ]
  },
  {
   "cell_type": "code",
   "execution_count": 22,
   "metadata": {},
   "outputs": [],
   "source": [
    "# 1.\n",
    "# ------------>>>>>>>> RUN THIS CODE CELL <<<<<<<<------------\n",
    "# --------  (run after implementation)\n",
    "# === CODE TYPE: ANSWER \n",
    "\n",
    "def get_res_for_API_query(included_field_value_pairs, excluded_field_value_pairs):\n",
    "    url='http://3.136.25.169:8080/api/records/1.0/search?dataset=chocolate-bars'\n",
    "    ###\n",
    "    ### YOUR CODE HERE\n",
    "    for key,value in included_field_value_pairs:\n",
    "        url+=\"&refine.\" + key + \"=\" + value \n",
    "        \n",
    "    for key, value in excluded_field_value_pairs:\n",
    "        url+= \"&exclude.\" + key + \"=\" + value\n",
    "     \n",
    "    print (\"url:\", url)\n",
    "    \n",
    "    response= requests.get(url)\n",
    "    return response \n",
    "         \n",
    "    \n",
    "        \n",
    "    ###\n"
   ]
  },
  {
   "cell_type": "code",
   "execution_count": null,
   "metadata": {
    "collapsed": true
   },
   "outputs": [],
   "source": []
  },
  {
   "cell_type": "code",
   "execution_count": 31,
   "metadata": {},
   "outputs": [
    {
     "name": "stdout",
     "output_type": "stream",
     "text": [
      "Full URL: http://3.136.25.169:8080/api/records/1.0/search?dataset=chocolate-bars&refine.review_date=2012&refine.company_location=Canada&exclude.rating=3.25\n"
     ]
    }
   ],
   "source": [
    "# 1.\n",
    "# ------------>>>>>>>> RUN THIS CODE CELL <<<<<<<<------------\n",
    "# --------  (run after implementation)\n",
    "# === CODE TYPE: SELF TESTING\n",
    "# Use the following code to test your implementation:\n",
    "\n",
    "include_field_value_pairs = [('review_date', '2012'), ('company_location', 'Canada')]\n",
    "exlude_field_value_pairs = [('rating', '3.25')]\n",
    "res_query = get_res_for_API_query(include_field_value_pairs, exlude_field_value_pairs)\n",
    "res_json = res_query.json()\n",
    "res_recs = res_json['records']\n",
    "###\n",
    "### YOUR CODE HERE\n",
    "###\n"
   ]
  },
  {
   "cell_type": "code",
   "execution_count": 32,
   "metadata": {
    "collapsed": true
   },
   "outputs": [],
   "source": [
    "# 1.\n",
    "# ------------>>>>>>>> RUN THIS CODE CELL <<<<<<<<------------\n",
    "# --------  (run after implementation, if used)\n",
    "# === CODE TYPE: SELF TESTING\n",
    "# Add your additional tests here if needed:\n",
    "\n",
    "###\n",
    "### YOUR CODE HERE\n",
    "###\n"
   ]
  },
  {
   "cell_type": "code",
   "execution_count": 23,
   "metadata": {
    "deletable": false,
    "editable": false,
    "nbgrader": {
     "grade": true,
     "grade_id": "test-1_1-get_res_for_API_query",
     "locked": true,
     "points": "0.5",
     "solution": false
    }
   },
   "outputs": [
    {
     "name": "stdout",
     "output_type": "stream",
     "text": [
      "Part 1 - Test 1 (0.5 points) - Sanity (1)\n",
      "\t--->Testing the implementation of 'get_res_for_API_query' ...\n",
      "url: http://3.136.25.169:8080/api/records/1.0/search?dataset=chocolate-bars&refine.review_date=2012\n",
      "Good Job!\n",
      "You've passed the 1st test for the 'get_res_for_API_query' function implementation :-)\n"
     ]
    }
   ],
   "source": [
    "# 1.\n",
    "# ------------>>>>>>>> RUN THIS CODE CELL <<<<<<<<------------\n",
    "# --------  (run only)\n",
    "# === CODE TYPE: GRADED TEST \n",
    "\n",
    "print (\"Part 1 - Test 1 (0.5 points) - Sanity (1)\")\n",
    "print (\"\\t--->Testing the implementation of 'get_res_for_API_query' ...\")\n",
    "\n",
    "include_field_value_pairs = [('review_date', '2012')]\n",
    "exlude_field_value_pairs = []\n",
    "res_query = None\n",
    "try:\n",
    "    res_query = get_res_for_API_query(include_field_value_pairs, exlude_field_value_pairs)\n",
    "except Exception as e:\n",
    "    print ('You probably have a syntax error, we got the following exception:')\n",
    "    print (str(e))\n",
    "    raise\n",
    "\n",
    "print (\"Good Job!\\nYou've passed the 1st test for the 'get_res_for_API_query' function implementation :-)\")"
   ]
  },
  {
   "cell_type": "code",
   "execution_count": 24,
   "metadata": {
    "deletable": false,
    "editable": false,
    "nbgrader": {
     "grade": true,
     "grade_id": "test-1_2-get_res_for_API_query",
     "locked": true,
     "points": "0.5",
     "solution": false
    }
   },
   "outputs": [
    {
     "name": "stdout",
     "output_type": "stream",
     "text": [
      "Part 1 - Test 2 (0.5 points) - Sanity (2)\n",
      "\t--->Testing the implementation of 'get_res_for_API_query' ...\n",
      "url: http://3.136.25.169:8080/api/records/1.0/search?dataset=chocolate-bars&exclude.rating=3.25\n",
      "Good Job!\n",
      "You've passed the 2nd test for the 'get_res_for_API_query' function implementation :-)\n"
     ]
    }
   ],
   "source": [
    "# 1.\n",
    "# ------------>>>>>>>> RUN THIS CODE CELL <<<<<<<<------------\n",
    "# --------  (run only)\n",
    "# === CODE TYPE: GRADED TEST \n",
    "\n",
    "print (\"Part 1 - Test 2 (0.5 points) - Sanity (2)\")\n",
    "print (\"\\t--->Testing the implementation of 'get_res_for_API_query' ...\")\n",
    "\n",
    "include_field_value_pairs = []\n",
    "exlude_field_value_pairs = [('rating', '3.25')]\n",
    "res_query = None\n",
    "try:\n",
    "    res_query = get_res_for_API_query(include_field_value_pairs, exlude_field_value_pairs)\n",
    "except Exception as e:\n",
    "    print ('You probably have a syntax error, we got the following exception:')\n",
    "    print (str(e))\n",
    "    raise\n",
    "\n",
    "print (\"Good Job!\\nYou've passed the 2nd test for the 'get_res_for_API_query' function implementation :-)\")"
   ]
  },
  {
   "cell_type": "code",
   "execution_count": 26,
   "metadata": {
    "deletable": false,
    "editable": false,
    "nbgrader": {
     "grade": true,
     "grade_id": "test-1_3-get_res_for_API_query",
     "locked": true,
     "points": "0.5",
     "solution": false
    }
   },
   "outputs": [
    {
     "name": "stdout",
     "output_type": "stream",
     "text": [
      "Part 1 - Test 3 (0.5 points) - Sanity (3)\n",
      "\t--->Testing the implementation of 'get_res_for_API_query' ...\n",
      "url: http://3.136.25.169:8080/api/records/1.0/search?dataset=chocolate-bars&refine.review_date=2012&refine.company_location=Canada&exclude.rating=3.25\n",
      "Good Job!\n",
      "You've passed the 3rd test for the 'get_res_for_API_query' function implementation :-)\n"
     ]
    }
   ],
   "source": [
    "# 1.\n",
    "# ------------>>>>>>>> RUN THIS CODE CELL <<<<<<<<------------\n",
    "# --------  (run only)\n",
    "# === CODE TYPE: GRADED TEST \n",
    "\n",
    "print (\"Part 1 - Test 3 (0.5 points) - Sanity (3)\")\n",
    "print (\"\\t--->Testing the implementation of 'get_res_for_API_query' ...\")\n",
    "\n",
    "include_field_value_pairs = [('review_date', '2012'), ('company_location', 'Canada')]\n",
    "exlude_field_value_pairs = [('rating', '3.25')]\n",
    "res_query = None\n",
    "try:\n",
    "    res_query = get_res_for_API_query(include_field_value_pairs, exlude_field_value_pairs)\n",
    "    res_json = res_query.json()\n",
    "    res_recs = res_json['records']\n",
    "except Exception as e:\n",
    "    print ('You probably have a syntax error, we got the following exception:')\n",
    "    print (str(e))\n",
    "    raise\n",
    "\n",
    "print (\"Good Job!\\nYou've passed the 3rd test for the 'get_res_for_API_query' function implementation :-)\")"
   ]
  },
  {
   "cell_type": "code",
   "execution_count": 27,
   "metadata": {
    "deletable": false,
    "editable": false,
    "nbgrader": {
     "grade": true,
     "grade_id": "test-1_4-get_res_for_API_query",
     "locked": true,
     "points": "0.5",
     "solution": false
    }
   },
   "outputs": [
    {
     "name": "stdout",
     "output_type": "stream",
     "text": [
      "Part 1 - Test 4 (0.5 points)\n",
      "\t--->Testing the implementation of 'get_res_for_API_query' ...\n",
      "url: http://3.136.25.169:8080/api/records/1.0/search?dataset=chocolate-bars&refine.review_date=2012&refine.company_location=Canada&exclude.rating=3.25\n",
      "Good Job!\n",
      "You've passed the 4th test for the 'get_res_for_API_query' function implementation :-)\n"
     ]
    }
   ],
   "source": [
    "# 1.\n",
    "# ------------>>>>>>>> RUN THIS CODE CELL <<<<<<<<------------\n",
    "# --------  (run only)\n",
    "# === CODE TYPE: GRADED TEST \n",
    "\n",
    "print (\"Part 1 - Test 4 (0.5 points)\")\n",
    "print (\"\\t--->Testing the implementation of 'get_res_for_API_query' ...\")\n",
    "\n",
    "include_field_value_pairs = [('review_date', '2012'), ('company_location', 'Canada')]\n",
    "exlude_field_value_pairs = [('rating', '3.25')]\n",
    "res_query = None\n",
    "try:\n",
    "    res_query = get_res_for_API_query(include_field_value_pairs, exlude_field_value_pairs)\n",
    "    res_json = res_query.json()\n",
    "    res_recs = res_json['records']\n",
    "    records_not_dict = [rec for rec in res_recs if type(rec) is not dict]\n",
    "except Exception as e:\n",
    "    print ('You probably have a syntax error, we got the following exception:')\n",
    "    print (str(e))\n",
    "    raise\n",
    "\n",
    "assert len(records_not_dict)==0, 'Each of the records should be a dictionary'\n",
    "\n",
    "print (\"Good Job!\\nYou've passed the 4th test for the 'get_res_for_API_query' function implementation :-)\")"
   ]
  },
  {
   "cell_type": "code",
   "execution_count": 31,
   "metadata": {
    "deletable": false,
    "editable": false,
    "nbgrader": {
     "grade": true,
     "grade_id": "test-1_5-get_res_for_API_query",
     "locked": true,
     "points": "0.5",
     "solution": false
    }
   },
   "outputs": [
    {
     "name": "stdout",
     "output_type": "stream",
     "text": [
      "Part 1 - Test 5 (0.5 points)\n",
      "\t--->Testing the implementation of 'get_res_for_API_query' ...\n",
      "url: http://3.136.25.169:8080/api/records/1.0/search?dataset=chocolate-bars&refine.review_date=2012&refine.company_location=Canada&exclude.rating=3.25\n",
      "Good Job!\n",
      "You've passed the 5th test for the 'get_res_for_API_query' function implementation :-)\n"
     ]
    }
   ],
   "source": [
    "# 1.\n",
    "# ------------>>>>>>>> RUN THIS CODE CELL <<<<<<<<------------\n",
    "# --------  (run only)\n",
    "# === CODE TYPE: GRADED TEST \n",
    "\n",
    "print (\"Part 1 - Test 5 (0.5 points)\")\n",
    "print (\"\\t--->Testing the implementation of 'get_res_for_API_query' ...\")\n",
    "\n",
    "include_field_value_pairs = [('review_date', '2012'), ('company_location', 'Canada')]\n",
    "exlude_field_value_pairs = [('rating', '3.25')]\n",
    "res_query = None\n",
    "try:\n",
    "    res_query = get_res_for_API_query(include_field_value_pairs, exlude_field_value_pairs)\n",
    "    res_json = res_query.json()\n",
    "    res_recs = res_json['records']\n",
    "    records_not_dict = [rec for rec in res_recs if type(rec) is not dict]\n",
    "    records_no_fields_key = [rec for rec in res_recs if 'fields' not in rec]\n",
    "except Exception as e:\n",
    "    print ('You probably have a syntax error, we got the following exception:')\n",
    "    print (str(e))\n",
    "    raise\n",
    "\n",
    "assert len(records_no_fields_key)==0, \"Each of the records should include the key 'fields'\"\n",
    "\n",
    "print (\"Good Job!\\nYou've passed the 5th test for the 'get_res_for_API_query' function implementation :-)\")"
   ]
  },
  {
   "cell_type": "code",
   "execution_count": 32,
   "metadata": {
    "deletable": false,
    "editable": false,
    "nbgrader": {
     "grade": true,
     "grade_id": "test-1_6-get_res_for_API_query",
     "locked": true,
     "points": "0.5",
     "solution": false
    }
   },
   "outputs": [
    {
     "name": "stdout",
     "output_type": "stream",
     "text": [
      "Part 1 - Test 6 (0.5 points)\n",
      "\t---> - Testing the implementation of 'get_res_for_API_query' ...\n",
      "url: http://3.136.25.169:8080/api/records/1.0/search?dataset=chocolate-bars&refine.review_date=2012&refine.company_location=Canada&exclude.rating=3.25\n",
      "\n",
      "---------------\n",
      "Fields:\n",
      "[{'bean_type': 'Blend', 'broad_bean_origin': 'Dom. Rep., Madagascar', 'cocoa_percent': 70, 'company': 'Soma', 'company_location': 'Canada', 'name': 'Dual Origins, Sambirano, Elvesia', 'rating': 4.0, 'ref': '867', 'review_date': '2012'}, {'bean_type': 'Blend', 'broad_bean_origin': 'Gre., PNG, Haw., Haiti, Mad', 'cocoa_percent': 70, 'company': 'Soma', 'company_location': 'Canada', 'name': 'Dancing in Your Head, 5 bean blend', 'rating': 4.0, 'ref': '867', 'review_date': '2012'}, {'bean_type': 'Trinitario', 'broad_bean_origin': 'Guatemala', 'cocoa_percent': 70, 'company': 'Soma', 'company_location': 'Canada', 'name': 'Cahabon Region', 'rating': 3.5, 'ref': '951', 'review_date': '2012'}, {'bean_type': 'Trinitario', 'broad_bean_origin': 'Papua New Guinea', 'cocoa_percent': 85, 'company': 'Soma', 'company_location': 'Canada', 'name': 'Papua New Guinea', 'rating': 3.5, 'ref': '983', 'review_date': '2012'}, {'bean_type': 'Trinitario', 'broad_bean_origin': 'Venezuela', 'cocoa_percent': 70, 'company': 'Soma', 'company_location': 'Canada', 'name': 'Carenero Superior', 'rating': 3.75, 'ref': '951', 'review_date': '2012'}, {'bean_type': '', 'broad_bean_origin': 'Hawaii', 'cocoa_percent': 70, 'company': 'Soma', 'company_location': 'Canada', 'name': \"O'ahu\", 'rating': 3.75, 'ref': '833', 'review_date': '2012'}, {'bean_type': 'Blend', 'broad_bean_origin': 'Mad., Java, PNG', 'cocoa_percent': 70, 'company': 'Soma', 'company_location': 'Canada', 'name': 'Eastern Promises', 'rating': 3.5, 'ref': '967', 'review_date': '2012'}]\n",
      "Good Job!\n",
      "You've passed the 6th test for the 'load_dataset' function implementation :-)\n"
     ]
    }
   ],
   "source": [
    "# 1.\n",
    "# ------------>>>>>>>> RUN THIS CODE CELL <<<<<<<<------------\n",
    "# --------  (run only)\n",
    "# === CODE TYPE: GRADED TEST \n",
    "\n",
    "print (\"Part 1 - Test 6 (0.5 points)\")\n",
    "print (\"\\t---> - Testing the implementation of 'get_res_for_API_query' ...\")\n",
    "\n",
    "include_field_value_pairs = [('review_date', '2012'), ('company_location', 'Canada')]\n",
    "exlude_field_value_pairs = [('rating', '3.25')]\n",
    "res_query = None\n",
    "try:\n",
    "    res_query = get_res_for_API_query(include_field_value_pairs, exlude_field_value_pairs)\n",
    "    res_json = res_query.json()\n",
    "    res_recs = res_json['records']\n",
    "    records_not_dict = [rec for rec in res_recs if type(rec) is not dict]\n",
    "    records_no_fields_key = [rec for rec in res_recs if 'fields' not in rec]\n",
    "    res_fields = [rec['fields'] for rec in res_recs]\n",
    "except Exception as e:\n",
    "    print ('You probably have a syntax error, we got the following exception:')\n",
    "    print (str(e))\n",
    "    raise\n",
    "\n",
    "assert 7==len(res_fields), \"Wrong number of result for query\"\n",
    "print ('\\n---------------\\nFields:')\n",
    "print (res_fields)\n",
    "\n",
    "print (\"Good Job!\\nYou've passed the 6th test for the 'load_dataset' function implementation :-)\")"
   ]
  },
  {
   "cell_type": "markdown",
   "metadata": {
    "deletable": false,
    "editable": false,
    "nbgrader": {
     "grade": false,
     "locked": true,
     "solution": false
    }
   },
   "source": [
    "## 2. Organizing the acquired API information\n",
    "The records returned from the chocolate opendatasoft API in in [moocdsand](http://moocdsand.ml:8080/api/records/1.0/search) are returned in json format.<br/>\n",
    "(If the response object is called res_obj) use res_obj.json() to get a dictionary (representing the json).\n",
    "\n",
    "In this sub section you will organize the results in a dataframe.<br/>\n",
    "You need to find the relevant path in the dictionary, in order to extract the relevant information.\n",
    "The relevant information might look as following: \n",
    "\n",
    "{\"nhits\": 2, \"parameters\": {\"dataset\": \"chocolate-bars\", \"refine\": {\"company\": \"Acalli\"}, \"timezone\": \"UTC\", \"rows\": 10, \"format\": \"json\"}, \"**records**\": [{\"datasetid\": \"chocolate-bars\", \"recordid\": \"8f51...b42c\", \"**fields**\": {\"rating\": 3.75, \"review_date\": \"2015\", \"name\": \"Tumbes, Norandino\", \"cocoa_percent\": 70, \"company\": \"Acalli\", \"bean_type\": \"Criollo\", \"company_location\": \"U.S.A.\", \"broad_bean_origin\": \"Peru\", \"ref\": \"1470\"}, \"record_timestamp\": \"2016-12-20T16:57:04.946000+00:00\"}, {\"datasetid\": \"chocolate-bars\", \"recordid\": \"685b...81d8\", \"**fields**\": {\"rating\": 3.75, \"review_date\": \"2015\", \"name\": \"Chulucanas, El Platanal\", \"cocoa_percent\": 70, \"company\": \"Acalli\", \"company_location\": \"U.S.A.\", \"broad_bean_origin\": \"Peru\", \"ref\": \"1462\"}, \"record_timestamp\": \"2016-12-20T16:57:04.946000+00:00\"}], \"facet_groups\": [{\"facets\": ..."
   ]
  },
  {
   "cell_type": "markdown",
   "metadata": {
    "deletable": false,
    "editable": false,
    "nbgrader": {
     "grade": false,
     "locked": true,
     "solution": false
    }
   },
   "source": [
    "### Instructions\n",
    "<u>method name</u>: <b>load_query_result_to_df</b>\n",
    "<pre>The following is expected:\n",
    "--- Complete the 'load_query_result_to_df' function to load the 'api_query_res' result from the \n",
    "    previous 'get_res_for_API_query' to a dataframe.\n",
    "    Use the api_query_res.json() to get a dictionary (representing the json), as explained above.\n",
    "\n",
    "    The information of each record (i.e. a row in the dataframe) appears under the 'fields' key,\n",
    "    in the sub dictionary.\n",
    "    See the path to 'fields', as showed above.\n",
    "--------\n",
    "Parameters:\n",
    "'included_field_value_pairs' - For example, [('review_date', '2015'),\n",
    "                                     ('company', 'Acalli')] - \n",
    "                  means that the 'review_date' must be equal to '2015' and the 'company' \n",
    "                  must be equal to 'Acalli'.\n",
    "'excluded_field_value_pairs' - For example, [('company_location', 'Peru')] -\n",
    "                  means that the 'company_location' MUST NOT be equal to 'Peru'\n",
    "--------\n",
    "The returned value needs to be the object returned from requests.get(str_query)    \n",
    "</pre>"
   ]
  },
  {
   "cell_type": "code",
   "execution_count": 33,
   "metadata": {
    "collapsed": true
   },
   "outputs": [],
   "source": [
    "# 2.\n",
    "# ------------>>>>>>>> RUN THIS CODE CELL <<<<<<<<------------\n",
    "# --------  (run after implementation)\n",
    "# === CODE TYPE: ANSWER \n",
    "\n",
    "def load_query_result_to_df(api_query_res):\n",
    "    ###\n",
    "    ### YOUR CODE HERE\n",
    "    dictionary = api_query_res.json()\n",
    "    DataArray = []\n",
    "    \n",
    "    for rec in dictionary[\"records\"]:\n",
    "         DataArray.append(rec[\"fields\"])\n",
    "            \n",
    "    data_frame=pd.DataFrame(DataArray)    \n",
    "    return data_frame\n",
    "    ###\n"
   ]
  },
  {
   "cell_type": "code",
   "execution_count": 40,
   "metadata": {},
   "outputs": [
    {
     "name": "stdout",
     "output_type": "stream",
     "text": [
      "Full URL: http://3.136.25.169:8080/api/records/1.0/search?dataset=chocolate-bars&refine.review_date=2013&refine.company_location=Belgium&exclude.rating=3.25&exclude.bean_type=Trinitario\n"
     ]
    }
   ],
   "source": [
    "# 2.\n",
    "# ------------>>>>>>>> RUN THIS CODE CELL <<<<<<<<------------\n",
    "# --------  (run after implementation)\n",
    "# === CODE TYPE: SELF TESTING\n",
    "# Use the following code to test your implementation:\n",
    "\n",
    "include_field_value_pairs = [('review_date', '2013'),\n",
    "                         ('company_location', 'Belgium')]\n",
    "exlude_field_value_pairs = [('rating', '3.25'), ('bean_type', 'Trinitario')]\n",
    "res_query = get_res_for_API_query(include_field_value_pairs, exlude_field_value_pairs)\n",
    "df_results = load_query_result_to_df(res_query)\n",
    "###\n",
    "### YOUR CODE HERE\n",
    "###\n"
   ]
  },
  {
   "cell_type": "code",
   "execution_count": 41,
   "metadata": {
    "collapsed": true
   },
   "outputs": [],
   "source": [
    "# 2.\n",
    "# ------------>>>>>>>> RUN THIS CODE CELL <<<<<<<<------------\n",
    "# --------  (run after implementation, if used)\n",
    "# === CODE TYPE: SELF TESTING\n",
    "# Add your additional tests here if needed:\n",
    "\n",
    "###\n",
    "### YOUR CODE HERE\n",
    "###\n"
   ]
  },
  {
   "cell_type": "code",
   "execution_count": 34,
   "metadata": {
    "deletable": false,
    "editable": false,
    "nbgrader": {
     "grade": true,
     "grade_id": "test-2_1-load_query_result_to_df",
     "locked": true,
     "points": "0.5",
     "solution": false
    }
   },
   "outputs": [
    {
     "name": "stdout",
     "output_type": "stream",
     "text": [
      "Part 2. - Test 1 (0.5 points) - Sanity\n",
      "\t--->Testing the implementation of the 'load_query_result_to_df' method (and 'get_res_for_API_query') ...\n",
      "url: http://3.136.25.169:8080/api/records/1.0/search?dataset=chocolate-bars&refine.review_date=2013&refine.company_location=Belgium&exclude.rating=3.25&exclude.bean_type=Trinitario\n",
      "Good Job!\n",
      "You've passed the 1st test for the 'load_query_result_to_df' method (and 'get_res_for_API_query') implementation :-)\n"
     ]
    }
   ],
   "source": [
    "# 2.\n",
    "# ------------>>>>>>>> RUN THIS CODE CELL <<<<<<<<------------\n",
    "# --------  (run only)\n",
    "# === CODE TYPE: GRADED TEST \n",
    "\n",
    "print (\"Part 2. - Test 1 (0.5 points) - Sanity\")\n",
    "print (\"\\t--->Testing the implementation of the 'load_query_result_to_df' method (and 'get_res_for_API_query') ...\")\n",
    "\n",
    "include_field_value_pairs = [('review_date', '2013'),\n",
    "                         ('company_location', 'Belgium')]\n",
    "exlude_field_value_pairs = [('rating', '3.25'), ('bean_type', 'Trinitario')]\n",
    "\n",
    "res_query = None\n",
    "try:\n",
    "    res_query = get_res_for_API_query(include_field_value_pairs, exlude_field_value_pairs)\n",
    "    df_results = load_query_result_to_df(res_query)\n",
    "except Exception as e:\n",
    "    print ('You probably have a syntax error, we got the following exception:')\n",
    "    print (str(e))\n",
    "    raise\n",
    "\n",
    "print (\"Good Job!\\nYou've passed the 1st test for the 'load_query_result_to_df' method (and 'get_res_for_API_query') implementation :-)\")"
   ]
  },
  {
   "cell_type": "code",
   "execution_count": 35,
   "metadata": {
    "deletable": false,
    "editable": false,
    "nbgrader": {
     "grade": true,
     "grade_id": "test-2_2-load_query_result_to_df",
     "locked": true,
     "points": "0.5",
     "solution": false
    }
   },
   "outputs": [
    {
     "name": "stdout",
     "output_type": "stream",
     "text": [
      "Part 2. - Test 2 (0.5 points) - Sanity (2)\n",
      "\t--->Testing the implementation of the 'load_query_result_to_df' method (and 'get_res_for_API_query') ...\n",
      "url: http://3.136.25.169:8080/api/records/1.0/search?dataset=chocolate-bars&refine.review_date=2013&refine.company_location=Belgium&exclude.rating=3.25&exclude.bean_type=Trinitario\n",
      "Good Job!\n",
      "You've passed the 2nd test for the 'load_query_result_to_df' method (and 'get_res_for_API_query') implementation :-)\n"
     ]
    }
   ],
   "source": [
    "# 2.\n",
    "# ------------>>>>>>>> RUN THIS CODE CELL <<<<<<<<------------\n",
    "# --------  (run only)\n",
    "# === CODE TYPE: GRADED TEST \n",
    "\n",
    "print (\"Part 2. - Test 2 (0.5 points) - Sanity (2)\")\n",
    "print (\"\\t--->Testing the implementation of the 'load_query_result_to_df' method (and 'get_res_for_API_query') ...\")\n",
    "\n",
    "include_field_value_pairs = [('review_date', '2013'),\n",
    "                         ('company_location', 'Belgium')]\n",
    "exlude_field_value_pairs = [('rating', '3.25'), ('bean_type', 'Trinitario')]\n",
    "\n",
    "res_query = None\n",
    "try:\n",
    "    res_query = get_res_for_API_query(include_field_value_pairs, exlude_field_value_pairs)\n",
    "    df_results = load_query_result_to_df(res_query)\n",
    "except Exception as e:\n",
    "    print ('You probably have a syntax error, we got the following exception:')\n",
    "    print (str(e))\n",
    "    raise\n",
    "    \n",
    "assert type(res_query) is requests.models.Response,'wrong type of result'\n",
    "assert type(df_results) is pd.DataFrame, 'result should be a dataframe'\n",
    "\n",
    "print (\"Good Job!\\nYou've passed the 2nd test for the 'load_query_result_to_df' method (and 'get_res_for_API_query') implementation :-)\")"
   ]
  },
  {
   "cell_type": "code",
   "execution_count": 36,
   "metadata": {
    "deletable": false,
    "editable": false,
    "nbgrader": {
     "grade": true,
     "grade_id": "test-2_3-load_query_result_to_df",
     "locked": true,
     "points": "1",
     "solution": false
    }
   },
   "outputs": [
    {
     "name": "stdout",
     "output_type": "stream",
     "text": [
      "Part 2. - Test 3 (1 points)\n",
      "\t--->Testing the implementation of the 'load_query_result_to_df' method (and 'get_res_for_API_query') ...\n",
      "url: http://3.136.25.169:8080/api/records/1.0/search?dataset=chocolate-bars&refine.review_date=2013&refine.company_location=Belgium&exclude.rating=3.25&exclude.bean_type=Trinitario\n",
      "Good Job!\n",
      "You've passed the 3rd test for the load_query_result_to_df' method (and 'get_res_for_API_query') function implementation :-)\n"
     ]
    }
   ],
   "source": [
    "# 2.\n",
    "# ------------>>>>>>>> RUN THIS CODE CELL <<<<<<<<------------\n",
    "# --------  (run only)\n",
    "# === CODE TYPE: GRADED TEST \n",
    "\n",
    "print (\"Part 2. - Test 3 (1 points)\")\n",
    "print (\"\\t--->Testing the implementation of the 'load_query_result_to_df' method (and 'get_res_for_API_query') ...\")\n",
    "\n",
    "include_field_value_pairs = [('review_date', '2013'),\n",
    "                         ('company_location', 'Belgium')]\n",
    "exlude_field_value_pairs = [('rating', '3.25'), ('bean_type', 'Trinitario')]\n",
    "\n",
    "\n",
    "res_query = None\n",
    "try:\n",
    "    res_query = get_res_for_API_query(include_field_value_pairs, exlude_field_value_pairs)\n",
    "    df_results = load_query_result_to_df(res_query)\n",
    "except Exception as e:\n",
    "    print ('You probably have a syntax error, we got the following exception:')\n",
    "    print (str(e))\n",
    "    raise\n",
    "    \n",
    "assert 74==df_results['cocoa_percent'].iloc[0], 'wrong value for cocoa_percent in 1st row'\n",
    "\n",
    "\n",
    "print (\"Good Job!\\nYou've passed the 3rd test for the load_query_result_to_df' method (and 'get_res_for_API_query') function implementation :-)\")       "
   ]
  },
  {
   "cell_type": "code",
   "execution_count": 37,
   "metadata": {
    "deletable": false,
    "editable": false,
    "nbgrader": {
     "grade": true,
     "grade_id": "test-2_4-load_query_result_to_df",
     "locked": true,
     "points": "1",
     "solution": false
    }
   },
   "outputs": [
    {
     "name": "stdout",
     "output_type": "stream",
     "text": [
      "Part 2. - Test 4 (1 points)\n",
      "\t--->Testing the implementation of the 'load_query_result_to_df' method (and 'get_res_for_API_query') ...\n",
      "url: http://3.136.25.169:8080/api/records/1.0/search?dataset=chocolate-bars&refine.review_date=2013&refine.company_location=Belgium&exclude.rating=3.25&exclude.bean_type=Trinitario\n",
      "\n",
      "Results:\n",
      "              name  rating company_location  cocoa_percent\n",
      "0  Cuyagua Village     3.5          Belgium             74\n",
      "1            Chuao     3.5          Belgium             74\n",
      "Good Job!\n",
      "You've passed the 4th test for the load_query_result_to_df' method (and 'get_res_for_API_query') function implementation :-)\n"
     ]
    }
   ],
   "source": [
    "# 2.\n",
    "# ------------>>>>>>>> RUN THIS CODE CELL <<<<<<<<------------\n",
    "# --------  (run only)\n",
    "# === CODE TYPE: GRADED TEST \n",
    "\n",
    "print (\"Part 2. - Test 4 (1 points)\")\n",
    "print (\"\\t--->Testing the implementation of the 'load_query_result_to_df' method (and 'get_res_for_API_query') ...\")\n",
    "\n",
    "include_field_value_pairs = [('review_date', '2013'),\n",
    "                         ('company_location', 'Belgium')]\n",
    "exlude_field_value_pairs = [('rating', '3.25'), ('bean_type', 'Trinitario')]\n",
    "\n",
    "\n",
    "res_query = None\n",
    "try:\n",
    "    res_query = get_res_for_API_query(include_field_value_pairs, exlude_field_value_pairs)\n",
    "    df_results = load_query_result_to_df(res_query)\n",
    "except Exception as e:\n",
    "    print ('You probably have a syntax error, we got the following exception:')\n",
    "    print (str(e))\n",
    "    raise\n",
    "    \n",
    "assert 2==df_results.shape[0], \"Wrong number of results for query\"\n",
    "print ('\\nResults:')\n",
    "print (df_results[['name', 'rating', 'company_location', 'cocoa_percent']])\n",
    "\n",
    "print (\"Good Job!\\nYou've passed the 4th test for the load_query_result_to_df' method (and 'get_res_for_API_query') function implementation :-)\")       "
   ]
  }
 ],
 "metadata": {
  "kernelspec": {
   "display_name": "Python 3 [3.7]",
   "language": "python",
   "name": "python3"
  },
  "language_info": {
   "codemirror_mode": {
    "name": "ipython",
    "version": 3
   },
   "file_extension": ".py",
   "mimetype": "text/x-python",
   "name": "python",
   "nbconvert_exporter": "python",
   "pygments_lexer": "ipython3",
   "version": "3.7.5"
  }
 },
 "nbformat": 4,
 "nbformat_minor": 4
}
